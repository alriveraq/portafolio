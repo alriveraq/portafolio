{
  "cells": [
    {
      "cell_type": "markdown",
      "source": [
        "#Business Understanding"
      ],
      "metadata": {
        "id": "MqhFg0lRUaUk"
      }
    },
    {
      "cell_type": "code",
      "execution_count": null,
      "metadata": {
        "id": "spDqdtj7OZN-"
      },
      "outputs": [],
      "source": [
        "# Importando librerias\n",
        "import pandas as pd\n",
        "import numpy as np\n",
        "import matplotlib.pyplot as plt\n",
        "import seaborn as sb\n",
        "from sklearn.cluster import KMeans\n",
        "from sklearn.metrics import pairwise_distances_argmin_min\n",
        "\n",
        "%matplotlib inline\n",
        "from mpl_toolkits.mplot3d import Axes3D\n",
        "plt.rcParams['figure.figsize'] = (16, 9)\n",
        "plt.style.use('ggplot')\n",
        "from scipy.cluster.hierarchy import dendrogram, linkage\n",
        "import scipy.cluster.hierarchy as shc\n",
        "from sklearn.decomposition import PCA\n",
        "from sklearn.preprocessing import StandardScaler"
      ]
    },
    {
      "cell_type": "code",
      "execution_count": null,
      "metadata": {
        "colab": {
          "base_uri": "https://localhost:8080/"
        },
        "id": "tw4SJQijOkTb",
        "outputId": "fb0bef76-1b78-4e50-da92-15484e27b0b3"
      },
      "outputs": [
        {
          "output_type": "stream",
          "name": "stdout",
          "text": [
            "Mounted at /content/drive\n"
          ]
        }
      ],
      "source": [
        "from google.colab import drive\n",
        "drive.mount('/content/drive')"
      ]
    },
    {
      "cell_type": "code",
      "execution_count": null,
      "metadata": {
        "id": "adViPEQ8OwVK",
        "colab": {
          "base_uri": "https://localhost:8080/",
          "height": 488
        },
        "outputId": "4204fec1-4c11-4de0-cbc1-428dc65b734e"
      },
      "outputs": [
        {
          "output_type": "execute_result",
          "data": {
            "text/plain": [
              "           1          1.1   1.2     1.3   1.4     1.5         1.6         1.7  \\\n",
              "0         Id  Subsegmento  Sexo  Region  Edad   Renta  Antiguedad  Internauta   \n",
              "1          1          160     M      13    43     NaN         130           1   \n",
              "2          2          160     H      13    46  143640          69           1   \n",
              "3          3          170     H      13    45  929106          24           1   \n",
              "4          4          151     H      13    46  172447         134           0   \n",
              "...      ...          ...   ...     ...   ...     ...         ...         ...   \n",
              "51120  51120          160     H      13    51  364978          57           1   \n",
              "51121  51121          170     H      13    51  625376          39           1   \n",
              "51122  51122          160     H      13    47  806220         153           1   \n",
              "51123  51123          160     M      13    47     NaN          11           1   \n",
              "51124  51124          170     H      13    51  840878          75           1   \n",
              "\n",
              "             1.8       1.9  ...        1.565        1.566        1.567  \\\n",
              "0      Adicional  Dualidad  ...  PagoNac_T01  PagoInt_T01  EeccNac_T01   \n",
              "1              1         0  ...        33000            0      1099866   \n",
              "2              0         0  ...       300000            0       214592   \n",
              "3              1         0  ...       216676            0            0   \n",
              "4              1         0  ...        60000            0       272762   \n",
              "...          ...       ...  ...          ...          ...          ...   \n",
              "51120          1         1  ...       300000            0       478320   \n",
              "51121          0         0  ...       166098            0       166098   \n",
              "51122          1         0  ...        18891            0         9652   \n",
              "51123          0         0  ...        26528            0        24638   \n",
              "51124          1         0  ...        12360            0        12360   \n",
              "\n",
              "             1.568      1.569      1.570      1.571       1.572   1.573 574  \n",
              "0      EeccInt_T01  UsoL1_T01  UsoL2_T01  UsoLI_T01  IndRev_T01  target NaN  \n",
              "1                0    1099866      15080          0           R       0 NaN  \n",
              "2                0     214592      83596          0           R       0 NaN  \n",
              "3                0       7400          0          0           T       0 NaN  \n",
              "4                0     272762      10591          0           R       0 NaN  \n",
              "...            ...        ...        ...        ...         ...     ...  ..  \n",
              "51120            0     478320      12668          0           R       0 NaN  \n",
              "51121            0          0     572363          0           R       0 NaN  \n",
              "51122            0       9652      16241          0           R       0 NaN  \n",
              "51123            0      24638      84982          0           R       0 NaN  \n",
              "51124            0      18500          0          0           R       0 NaN  \n",
              "\n",
              "[51125 rows x 575 columns]"
            ],
            "text/html": [
              "\n",
              "  <div id=\"df-ff6a06ed-6038-49a1-9201-a641b29c0d42\">\n",
              "    <div class=\"colab-df-container\">\n",
              "      <div>\n",
              "<style scoped>\n",
              "    .dataframe tbody tr th:only-of-type {\n",
              "        vertical-align: middle;\n",
              "    }\n",
              "\n",
              "    .dataframe tbody tr th {\n",
              "        vertical-align: top;\n",
              "    }\n",
              "\n",
              "    .dataframe thead th {\n",
              "        text-align: right;\n",
              "    }\n",
              "</style>\n",
              "<table border=\"1\" class=\"dataframe\">\n",
              "  <thead>\n",
              "    <tr style=\"text-align: right;\">\n",
              "      <th></th>\n",
              "      <th>1</th>\n",
              "      <th>1.1</th>\n",
              "      <th>1.2</th>\n",
              "      <th>1.3</th>\n",
              "      <th>1.4</th>\n",
              "      <th>1.5</th>\n",
              "      <th>1.6</th>\n",
              "      <th>1.7</th>\n",
              "      <th>1.8</th>\n",
              "      <th>1.9</th>\n",
              "      <th>...</th>\n",
              "      <th>1.565</th>\n",
              "      <th>1.566</th>\n",
              "      <th>1.567</th>\n",
              "      <th>1.568</th>\n",
              "      <th>1.569</th>\n",
              "      <th>1.570</th>\n",
              "      <th>1.571</th>\n",
              "      <th>1.572</th>\n",
              "      <th>1.573</th>\n",
              "      <th>574</th>\n",
              "    </tr>\n",
              "  </thead>\n",
              "  <tbody>\n",
              "    <tr>\n",
              "      <th>0</th>\n",
              "      <td>Id</td>\n",
              "      <td>Subsegmento</td>\n",
              "      <td>Sexo</td>\n",
              "      <td>Region</td>\n",
              "      <td>Edad</td>\n",
              "      <td>Renta</td>\n",
              "      <td>Antiguedad</td>\n",
              "      <td>Internauta</td>\n",
              "      <td>Adicional</td>\n",
              "      <td>Dualidad</td>\n",
              "      <td>...</td>\n",
              "      <td>PagoNac_T01</td>\n",
              "      <td>PagoInt_T01</td>\n",
              "      <td>EeccNac_T01</td>\n",
              "      <td>EeccInt_T01</td>\n",
              "      <td>UsoL1_T01</td>\n",
              "      <td>UsoL2_T01</td>\n",
              "      <td>UsoLI_T01</td>\n",
              "      <td>IndRev_T01</td>\n",
              "      <td>target</td>\n",
              "      <td>NaN</td>\n",
              "    </tr>\n",
              "    <tr>\n",
              "      <th>1</th>\n",
              "      <td>1</td>\n",
              "      <td>160</td>\n",
              "      <td>M</td>\n",
              "      <td>13</td>\n",
              "      <td>43</td>\n",
              "      <td>NaN</td>\n",
              "      <td>130</td>\n",
              "      <td>1</td>\n",
              "      <td>1</td>\n",
              "      <td>0</td>\n",
              "      <td>...</td>\n",
              "      <td>33000</td>\n",
              "      <td>0</td>\n",
              "      <td>1099866</td>\n",
              "      <td>0</td>\n",
              "      <td>1099866</td>\n",
              "      <td>15080</td>\n",
              "      <td>0</td>\n",
              "      <td>R</td>\n",
              "      <td>0</td>\n",
              "      <td>NaN</td>\n",
              "    </tr>\n",
              "    <tr>\n",
              "      <th>2</th>\n",
              "      <td>2</td>\n",
              "      <td>160</td>\n",
              "      <td>H</td>\n",
              "      <td>13</td>\n",
              "      <td>46</td>\n",
              "      <td>143640</td>\n",
              "      <td>69</td>\n",
              "      <td>1</td>\n",
              "      <td>0</td>\n",
              "      <td>0</td>\n",
              "      <td>...</td>\n",
              "      <td>300000</td>\n",
              "      <td>0</td>\n",
              "      <td>214592</td>\n",
              "      <td>0</td>\n",
              "      <td>214592</td>\n",
              "      <td>83596</td>\n",
              "      <td>0</td>\n",
              "      <td>R</td>\n",
              "      <td>0</td>\n",
              "      <td>NaN</td>\n",
              "    </tr>\n",
              "    <tr>\n",
              "      <th>3</th>\n",
              "      <td>3</td>\n",
              "      <td>170</td>\n",
              "      <td>H</td>\n",
              "      <td>13</td>\n",
              "      <td>45</td>\n",
              "      <td>929106</td>\n",
              "      <td>24</td>\n",
              "      <td>1</td>\n",
              "      <td>1</td>\n",
              "      <td>0</td>\n",
              "      <td>...</td>\n",
              "      <td>216676</td>\n",
              "      <td>0</td>\n",
              "      <td>0</td>\n",
              "      <td>0</td>\n",
              "      <td>7400</td>\n",
              "      <td>0</td>\n",
              "      <td>0</td>\n",
              "      <td>T</td>\n",
              "      <td>0</td>\n",
              "      <td>NaN</td>\n",
              "    </tr>\n",
              "    <tr>\n",
              "      <th>4</th>\n",
              "      <td>4</td>\n",
              "      <td>151</td>\n",
              "      <td>H</td>\n",
              "      <td>13</td>\n",
              "      <td>46</td>\n",
              "      <td>172447</td>\n",
              "      <td>134</td>\n",
              "      <td>0</td>\n",
              "      <td>1</td>\n",
              "      <td>0</td>\n",
              "      <td>...</td>\n",
              "      <td>60000</td>\n",
              "      <td>0</td>\n",
              "      <td>272762</td>\n",
              "      <td>0</td>\n",
              "      <td>272762</td>\n",
              "      <td>10591</td>\n",
              "      <td>0</td>\n",
              "      <td>R</td>\n",
              "      <td>0</td>\n",
              "      <td>NaN</td>\n",
              "    </tr>\n",
              "    <tr>\n",
              "      <th>...</th>\n",
              "      <td>...</td>\n",
              "      <td>...</td>\n",
              "      <td>...</td>\n",
              "      <td>...</td>\n",
              "      <td>...</td>\n",
              "      <td>...</td>\n",
              "      <td>...</td>\n",
              "      <td>...</td>\n",
              "      <td>...</td>\n",
              "      <td>...</td>\n",
              "      <td>...</td>\n",
              "      <td>...</td>\n",
              "      <td>...</td>\n",
              "      <td>...</td>\n",
              "      <td>...</td>\n",
              "      <td>...</td>\n",
              "      <td>...</td>\n",
              "      <td>...</td>\n",
              "      <td>...</td>\n",
              "      <td>...</td>\n",
              "      <td>...</td>\n",
              "    </tr>\n",
              "    <tr>\n",
              "      <th>51120</th>\n",
              "      <td>51120</td>\n",
              "      <td>160</td>\n",
              "      <td>H</td>\n",
              "      <td>13</td>\n",
              "      <td>51</td>\n",
              "      <td>364978</td>\n",
              "      <td>57</td>\n",
              "      <td>1</td>\n",
              "      <td>1</td>\n",
              "      <td>1</td>\n",
              "      <td>...</td>\n",
              "      <td>300000</td>\n",
              "      <td>0</td>\n",
              "      <td>478320</td>\n",
              "      <td>0</td>\n",
              "      <td>478320</td>\n",
              "      <td>12668</td>\n",
              "      <td>0</td>\n",
              "      <td>R</td>\n",
              "      <td>0</td>\n",
              "      <td>NaN</td>\n",
              "    </tr>\n",
              "    <tr>\n",
              "      <th>51121</th>\n",
              "      <td>51121</td>\n",
              "      <td>170</td>\n",
              "      <td>H</td>\n",
              "      <td>13</td>\n",
              "      <td>51</td>\n",
              "      <td>625376</td>\n",
              "      <td>39</td>\n",
              "      <td>1</td>\n",
              "      <td>0</td>\n",
              "      <td>0</td>\n",
              "      <td>...</td>\n",
              "      <td>166098</td>\n",
              "      <td>0</td>\n",
              "      <td>166098</td>\n",
              "      <td>0</td>\n",
              "      <td>0</td>\n",
              "      <td>572363</td>\n",
              "      <td>0</td>\n",
              "      <td>R</td>\n",
              "      <td>0</td>\n",
              "      <td>NaN</td>\n",
              "    </tr>\n",
              "    <tr>\n",
              "      <th>51122</th>\n",
              "      <td>51122</td>\n",
              "      <td>160</td>\n",
              "      <td>H</td>\n",
              "      <td>13</td>\n",
              "      <td>47</td>\n",
              "      <td>806220</td>\n",
              "      <td>153</td>\n",
              "      <td>1</td>\n",
              "      <td>1</td>\n",
              "      <td>0</td>\n",
              "      <td>...</td>\n",
              "      <td>18891</td>\n",
              "      <td>0</td>\n",
              "      <td>9652</td>\n",
              "      <td>0</td>\n",
              "      <td>9652</td>\n",
              "      <td>16241</td>\n",
              "      <td>0</td>\n",
              "      <td>R</td>\n",
              "      <td>0</td>\n",
              "      <td>NaN</td>\n",
              "    </tr>\n",
              "    <tr>\n",
              "      <th>51123</th>\n",
              "      <td>51123</td>\n",
              "      <td>160</td>\n",
              "      <td>M</td>\n",
              "      <td>13</td>\n",
              "      <td>47</td>\n",
              "      <td>NaN</td>\n",
              "      <td>11</td>\n",
              "      <td>1</td>\n",
              "      <td>0</td>\n",
              "      <td>0</td>\n",
              "      <td>...</td>\n",
              "      <td>26528</td>\n",
              "      <td>0</td>\n",
              "      <td>24638</td>\n",
              "      <td>0</td>\n",
              "      <td>24638</td>\n",
              "      <td>84982</td>\n",
              "      <td>0</td>\n",
              "      <td>R</td>\n",
              "      <td>0</td>\n",
              "      <td>NaN</td>\n",
              "    </tr>\n",
              "    <tr>\n",
              "      <th>51124</th>\n",
              "      <td>51124</td>\n",
              "      <td>170</td>\n",
              "      <td>H</td>\n",
              "      <td>13</td>\n",
              "      <td>51</td>\n",
              "      <td>840878</td>\n",
              "      <td>75</td>\n",
              "      <td>1</td>\n",
              "      <td>1</td>\n",
              "      <td>0</td>\n",
              "      <td>...</td>\n",
              "      <td>12360</td>\n",
              "      <td>0</td>\n",
              "      <td>12360</td>\n",
              "      <td>0</td>\n",
              "      <td>18500</td>\n",
              "      <td>0</td>\n",
              "      <td>0</td>\n",
              "      <td>R</td>\n",
              "      <td>0</td>\n",
              "      <td>NaN</td>\n",
              "    </tr>\n",
              "  </tbody>\n",
              "</table>\n",
              "<p>51125 rows × 575 columns</p>\n",
              "</div>\n",
              "      <button class=\"colab-df-convert\" onclick=\"convertToInteractive('df-ff6a06ed-6038-49a1-9201-a641b29c0d42')\"\n",
              "              title=\"Convert this dataframe to an interactive table.\"\n",
              "              style=\"display:none;\">\n",
              "        \n",
              "  <svg xmlns=\"http://www.w3.org/2000/svg\" height=\"24px\"viewBox=\"0 0 24 24\"\n",
              "       width=\"24px\">\n",
              "    <path d=\"M0 0h24v24H0V0z\" fill=\"none\"/>\n",
              "    <path d=\"M18.56 5.44l.94 2.06.94-2.06 2.06-.94-2.06-.94-.94-2.06-.94 2.06-2.06.94zm-11 1L8.5 8.5l.94-2.06 2.06-.94-2.06-.94L8.5 2.5l-.94 2.06-2.06.94zm10 10l.94 2.06.94-2.06 2.06-.94-2.06-.94-.94-2.06-.94 2.06-2.06.94z\"/><path d=\"M17.41 7.96l-1.37-1.37c-.4-.4-.92-.59-1.43-.59-.52 0-1.04.2-1.43.59L10.3 9.45l-7.72 7.72c-.78.78-.78 2.05 0 2.83L4 21.41c.39.39.9.59 1.41.59.51 0 1.02-.2 1.41-.59l7.78-7.78 2.81-2.81c.8-.78.8-2.07 0-2.86zM5.41 20L4 18.59l7.72-7.72 1.47 1.35L5.41 20z\"/>\n",
              "  </svg>\n",
              "      </button>\n",
              "      \n",
              "  <style>\n",
              "    .colab-df-container {\n",
              "      display:flex;\n",
              "      flex-wrap:wrap;\n",
              "      gap: 12px;\n",
              "    }\n",
              "\n",
              "    .colab-df-convert {\n",
              "      background-color: #E8F0FE;\n",
              "      border: none;\n",
              "      border-radius: 50%;\n",
              "      cursor: pointer;\n",
              "      display: none;\n",
              "      fill: #1967D2;\n",
              "      height: 32px;\n",
              "      padding: 0 0 0 0;\n",
              "      width: 32px;\n",
              "    }\n",
              "\n",
              "    .colab-df-convert:hover {\n",
              "      background-color: #E2EBFA;\n",
              "      box-shadow: 0px 1px 2px rgba(60, 64, 67, 0.3), 0px 1px 3px 1px rgba(60, 64, 67, 0.15);\n",
              "      fill: #174EA6;\n",
              "    }\n",
              "\n",
              "    [theme=dark] .colab-df-convert {\n",
              "      background-color: #3B4455;\n",
              "      fill: #D2E3FC;\n",
              "    }\n",
              "\n",
              "    [theme=dark] .colab-df-convert:hover {\n",
              "      background-color: #434B5C;\n",
              "      box-shadow: 0px 1px 3px 1px rgba(0, 0, 0, 0.15);\n",
              "      filter: drop-shadow(0px 1px 2px rgba(0, 0, 0, 0.3));\n",
              "      fill: #FFFFFF;\n",
              "    }\n",
              "  </style>\n",
              "\n",
              "      <script>\n",
              "        const buttonEl =\n",
              "          document.querySelector('#df-ff6a06ed-6038-49a1-9201-a641b29c0d42 button.colab-df-convert');\n",
              "        buttonEl.style.display =\n",
              "          google.colab.kernel.accessAllowed ? 'block' : 'none';\n",
              "\n",
              "        async function convertToInteractive(key) {\n",
              "          const element = document.querySelector('#df-ff6a06ed-6038-49a1-9201-a641b29c0d42');\n",
              "          const dataTable =\n",
              "            await google.colab.kernel.invokeFunction('convertToInteractive',\n",
              "                                                     [key], {});\n",
              "          if (!dataTable) return;\n",
              "\n",
              "          const docLinkHtml = 'Like what you see? Visit the ' +\n",
              "            '<a target=\"_blank\" href=https://colab.research.google.com/notebooks/data_table.ipynb>data table notebook</a>'\n",
              "            + ' to learn more about interactive tables.';\n",
              "          element.innerHTML = '';\n",
              "          dataTable['output_type'] = 'display_data';\n",
              "          await google.colab.output.renderOutput(dataTable, element);\n",
              "          const docLink = document.createElement('div');\n",
              "          docLink.innerHTML = docLinkHtml;\n",
              "          element.appendChild(docLink);\n",
              "        }\n",
              "      </script>\n",
              "    </div>\n",
              "  </div>\n",
              "  "
            ]
          },
          "metadata": {},
          "execution_count": 3
        }
      ],
      "source": [
        "import pandas as pd\n",
        "df = open('/content/drive/MyDrive/Machine learnig/Machine learnig temporada 2/Base_clientes_Monopoly.xlsx','rb')\n",
        "data = pd.read_excel(df,sheet_name='Transición de Negocio')\n",
        "data\n"
      ]
    },
    {
      "cell_type": "code",
      "source": [
        "df = open('/content/drive/MyDrive/Machine learnig/Machine learnig temporada 2/Base_clientes_Monopoly.xlsx','rb')\n",
        "data2 = pd.read_excel(df,sheet_name='Descripción')\n",
        "data2.T"
      ],
      "metadata": {
        "colab": {
          "base_uri": "https://localhost:8080/",
          "height": 338
        },
        "id": "gphusgigrUVR",
        "outputId": "8b117d8e-46bf-47c9-ae9f-8b2dc187e0b2"
      },
      "execution_count": null,
      "outputs": [
        {
          "output_type": "execute_result",
          "data": {
            "text/plain": [
              "                                   0                     1   \\\n",
              "Variable                  CORRELATIVO                Region   \n",
              "Transformación                Ninguna               Ninguna   \n",
              "Valor                          518050                    13   \n",
              "Descripcion     Identificador cliente  Region de Residencia   \n",
              "\n",
              "                               2        3            4        5   \\\n",
              "Variable                    Renta     Sexo  Subsegmento     Edad   \n",
              "Transformación            Ninguna  Ninguna      Ninguna  Ninguna   \n",
              "Valor                         NaN        M          151       39   \n",
              "Descripcion     Renta del cliente     Sexo  Subsegmento     Edad   \n",
              "\n",
              "                                                    6   \\\n",
              "Variable                                     Adicional   \n",
              "Transformación                                 Ninguna   \n",
              "Valor                                                0   \n",
              "Descripcion     Indicador de Tenecia de TC adicionales   \n",
              "\n",
              "                                            7   \\\n",
              "Variable                            Antiguedad   \n",
              "Transformación                         Ninguna   \n",
              "Valor                                       78   \n",
              "Descripcion     Antigüedad del cliente (meses)   \n",
              "\n",
              "                                                               8   \\\n",
              "Variable                                                CambioPin   \n",
              "Transformación                                            Ninguna   \n",
              "Valor                                                         NaN   \n",
              "Descripcion     Indicador del cambio de clave secreta de la ta...   \n",
              "\n",
              "                                             9   ...  \\\n",
              "Variable                                Consumo  ...   \n",
              "Transformación                          Ninguna  ...   \n",
              "Valor                                         0  ...   \n",
              "Descripcion     Indicador de Credito de Consumo  ...   \n",
              "\n",
              "                                                               51  \\\n",
              "Variable                                              TxsCCPC_T12   \n",
              "Transformación                                              Suma    \n",
              "Valor                                                           0   \n",
              "Descripcion     Numero de transacciones en compras en cuotas p...   \n",
              "\n",
              "                                                               52  \\\n",
              "Variable                                                TxsCI_T12   \n",
              "Transformación                                              Suma    \n",
              "Valor                                                           0   \n",
              "Descripcion     Numero de transacciones en compras internacion...   \n",
              "\n",
              "                                                               53  \\\n",
              "Variable                                                TxsCN_T12   \n",
              "Transformación                                              Suma    \n",
              "Valor                                                           0   \n",
              "Descripcion     Numero de transacciones en compras nacionales ...   \n",
              "\n",
              "                                                               54  \\\n",
              "Variable                                               TxsCOL_T12   \n",
              "Transformación                                              Suma    \n",
              "Valor                                                           0   \n",
              "Descripcion     Numero de transacciones en avances en cuotas p...   \n",
              "\n",
              "                                                               55  \\\n",
              "Variable                                            TxsDebAtm_T12   \n",
              "Transformación                                              Suma    \n",
              "Valor                                                           5   \n",
              "Descripcion     Numero de transacciones en avances realizados ...   \n",
              "\n",
              "                                                               56  \\\n",
              "Variable                                            TxsDebCom_T12   \n",
              "Transformación                                              Suma    \n",
              "Valor                                                           9   \n",
              "Descripcion     Numero de transacciones en compras realizados ...   \n",
              "\n",
              "                                                               57  \\\n",
              "Variable                                               TxsPAT_T12   \n",
              "Transformación                                              Suma    \n",
              "Valor                                                           0   \n",
              "Descripcion     Numero de transacciones en PAT realizados por ...   \n",
              "\n",
              "                                                               58  \\\n",
              "Variable                                                UsoL1_T12   \n",
              "Transformación                                           Promedio   \n",
              "Valor                                                      -12178   \n",
              "Descripcion     Monto de deuda en la linea de compras en la TC...   \n",
              "\n",
              "                                                               59  \\\n",
              "Variable                                                UsoL2_T12   \n",
              "Transformación                                           Promedio   \n",
              "Valor                                                           0   \n",
              "Descripcion     Monto de deuda en la linea de avances en cuota...   \n",
              "\n",
              "                                                               60  \n",
              "Variable                                                UsoLI_T12  \n",
              "Transformación                                           Promedio  \n",
              "Valor                                                           0  \n",
              "Descripcion     Monto de deuda en la linea de compras internac...  \n",
              "\n",
              "[4 rows x 61 columns]"
            ],
            "text/html": [
              "\n",
              "  <div id=\"df-cc6fb6d4-8509-4880-8566-9b2a90c5bd49\">\n",
              "    <div class=\"colab-df-container\">\n",
              "      <div>\n",
              "<style scoped>\n",
              "    .dataframe tbody tr th:only-of-type {\n",
              "        vertical-align: middle;\n",
              "    }\n",
              "\n",
              "    .dataframe tbody tr th {\n",
              "        vertical-align: top;\n",
              "    }\n",
              "\n",
              "    .dataframe thead th {\n",
              "        text-align: right;\n",
              "    }\n",
              "</style>\n",
              "<table border=\"1\" class=\"dataframe\">\n",
              "  <thead>\n",
              "    <tr style=\"text-align: right;\">\n",
              "      <th></th>\n",
              "      <th>0</th>\n",
              "      <th>1</th>\n",
              "      <th>2</th>\n",
              "      <th>3</th>\n",
              "      <th>4</th>\n",
              "      <th>5</th>\n",
              "      <th>6</th>\n",
              "      <th>7</th>\n",
              "      <th>8</th>\n",
              "      <th>9</th>\n",
              "      <th>...</th>\n",
              "      <th>51</th>\n",
              "      <th>52</th>\n",
              "      <th>53</th>\n",
              "      <th>54</th>\n",
              "      <th>55</th>\n",
              "      <th>56</th>\n",
              "      <th>57</th>\n",
              "      <th>58</th>\n",
              "      <th>59</th>\n",
              "      <th>60</th>\n",
              "    </tr>\n",
              "  </thead>\n",
              "  <tbody>\n",
              "    <tr>\n",
              "      <th>Variable</th>\n",
              "      <td>CORRELATIVO</td>\n",
              "      <td>Region</td>\n",
              "      <td>Renta</td>\n",
              "      <td>Sexo</td>\n",
              "      <td>Subsegmento</td>\n",
              "      <td>Edad</td>\n",
              "      <td>Adicional</td>\n",
              "      <td>Antiguedad</td>\n",
              "      <td>CambioPin</td>\n",
              "      <td>Consumo</td>\n",
              "      <td>...</td>\n",
              "      <td>TxsCCPC_T12</td>\n",
              "      <td>TxsCI_T12</td>\n",
              "      <td>TxsCN_T12</td>\n",
              "      <td>TxsCOL_T12</td>\n",
              "      <td>TxsDebAtm_T12</td>\n",
              "      <td>TxsDebCom_T12</td>\n",
              "      <td>TxsPAT_T12</td>\n",
              "      <td>UsoL1_T12</td>\n",
              "      <td>UsoL2_T12</td>\n",
              "      <td>UsoLI_T12</td>\n",
              "    </tr>\n",
              "    <tr>\n",
              "      <th>Transformación</th>\n",
              "      <td>Ninguna</td>\n",
              "      <td>Ninguna</td>\n",
              "      <td>Ninguna</td>\n",
              "      <td>Ninguna</td>\n",
              "      <td>Ninguna</td>\n",
              "      <td>Ninguna</td>\n",
              "      <td>Ninguna</td>\n",
              "      <td>Ninguna</td>\n",
              "      <td>Ninguna</td>\n",
              "      <td>Ninguna</td>\n",
              "      <td>...</td>\n",
              "      <td>Suma</td>\n",
              "      <td>Suma</td>\n",
              "      <td>Suma</td>\n",
              "      <td>Suma</td>\n",
              "      <td>Suma</td>\n",
              "      <td>Suma</td>\n",
              "      <td>Suma</td>\n",
              "      <td>Promedio</td>\n",
              "      <td>Promedio</td>\n",
              "      <td>Promedio</td>\n",
              "    </tr>\n",
              "    <tr>\n",
              "      <th>Valor</th>\n",
              "      <td>518050</td>\n",
              "      <td>13</td>\n",
              "      <td>NaN</td>\n",
              "      <td>M</td>\n",
              "      <td>151</td>\n",
              "      <td>39</td>\n",
              "      <td>0</td>\n",
              "      <td>78</td>\n",
              "      <td>NaN</td>\n",
              "      <td>0</td>\n",
              "      <td>...</td>\n",
              "      <td>0</td>\n",
              "      <td>0</td>\n",
              "      <td>0</td>\n",
              "      <td>0</td>\n",
              "      <td>5</td>\n",
              "      <td>9</td>\n",
              "      <td>0</td>\n",
              "      <td>-12178</td>\n",
              "      <td>0</td>\n",
              "      <td>0</td>\n",
              "    </tr>\n",
              "    <tr>\n",
              "      <th>Descripcion</th>\n",
              "      <td>Identificador cliente</td>\n",
              "      <td>Region de Residencia</td>\n",
              "      <td>Renta del cliente</td>\n",
              "      <td>Sexo</td>\n",
              "      <td>Subsegmento</td>\n",
              "      <td>Edad</td>\n",
              "      <td>Indicador de Tenecia de TC adicionales</td>\n",
              "      <td>Antigüedad del cliente (meses)</td>\n",
              "      <td>Indicador del cambio de clave secreta de la ta...</td>\n",
              "      <td>Indicador de Credito de Consumo</td>\n",
              "      <td>...</td>\n",
              "      <td>Numero de transacciones en compras en cuotas p...</td>\n",
              "      <td>Numero de transacciones en compras internacion...</td>\n",
              "      <td>Numero de transacciones en compras nacionales ...</td>\n",
              "      <td>Numero de transacciones en avances en cuotas p...</td>\n",
              "      <td>Numero de transacciones en avances realizados ...</td>\n",
              "      <td>Numero de transacciones en compras realizados ...</td>\n",
              "      <td>Numero de transacciones en PAT realizados por ...</td>\n",
              "      <td>Monto de deuda en la linea de compras en la TC...</td>\n",
              "      <td>Monto de deuda en la linea de avances en cuota...</td>\n",
              "      <td>Monto de deuda en la linea de compras internac...</td>\n",
              "    </tr>\n",
              "  </tbody>\n",
              "</table>\n",
              "<p>4 rows × 61 columns</p>\n",
              "</div>\n",
              "      <button class=\"colab-df-convert\" onclick=\"convertToInteractive('df-cc6fb6d4-8509-4880-8566-9b2a90c5bd49')\"\n",
              "              title=\"Convert this dataframe to an interactive table.\"\n",
              "              style=\"display:none;\">\n",
              "        \n",
              "  <svg xmlns=\"http://www.w3.org/2000/svg\" height=\"24px\"viewBox=\"0 0 24 24\"\n",
              "       width=\"24px\">\n",
              "    <path d=\"M0 0h24v24H0V0z\" fill=\"none\"/>\n",
              "    <path d=\"M18.56 5.44l.94 2.06.94-2.06 2.06-.94-2.06-.94-.94-2.06-.94 2.06-2.06.94zm-11 1L8.5 8.5l.94-2.06 2.06-.94-2.06-.94L8.5 2.5l-.94 2.06-2.06.94zm10 10l.94 2.06.94-2.06 2.06-.94-2.06-.94-.94-2.06-.94 2.06-2.06.94z\"/><path d=\"M17.41 7.96l-1.37-1.37c-.4-.4-.92-.59-1.43-.59-.52 0-1.04.2-1.43.59L10.3 9.45l-7.72 7.72c-.78.78-.78 2.05 0 2.83L4 21.41c.39.39.9.59 1.41.59.51 0 1.02-.2 1.41-.59l7.78-7.78 2.81-2.81c.8-.78.8-2.07 0-2.86zM5.41 20L4 18.59l7.72-7.72 1.47 1.35L5.41 20z\"/>\n",
              "  </svg>\n",
              "      </button>\n",
              "      \n",
              "  <style>\n",
              "    .colab-df-container {\n",
              "      display:flex;\n",
              "      flex-wrap:wrap;\n",
              "      gap: 12px;\n",
              "    }\n",
              "\n",
              "    .colab-df-convert {\n",
              "      background-color: #E8F0FE;\n",
              "      border: none;\n",
              "      border-radius: 50%;\n",
              "      cursor: pointer;\n",
              "      display: none;\n",
              "      fill: #1967D2;\n",
              "      height: 32px;\n",
              "      padding: 0 0 0 0;\n",
              "      width: 32px;\n",
              "    }\n",
              "\n",
              "    .colab-df-convert:hover {\n",
              "      background-color: #E2EBFA;\n",
              "      box-shadow: 0px 1px 2px rgba(60, 64, 67, 0.3), 0px 1px 3px 1px rgba(60, 64, 67, 0.15);\n",
              "      fill: #174EA6;\n",
              "    }\n",
              "\n",
              "    [theme=dark] .colab-df-convert {\n",
              "      background-color: #3B4455;\n",
              "      fill: #D2E3FC;\n",
              "    }\n",
              "\n",
              "    [theme=dark] .colab-df-convert:hover {\n",
              "      background-color: #434B5C;\n",
              "      box-shadow: 0px 1px 3px 1px rgba(0, 0, 0, 0.15);\n",
              "      filter: drop-shadow(0px 1px 2px rgba(0, 0, 0, 0.3));\n",
              "      fill: #FFFFFF;\n",
              "    }\n",
              "  </style>\n",
              "\n",
              "      <script>\n",
              "        const buttonEl =\n",
              "          document.querySelector('#df-cc6fb6d4-8509-4880-8566-9b2a90c5bd49 button.colab-df-convert');\n",
              "        buttonEl.style.display =\n",
              "          google.colab.kernel.accessAllowed ? 'block' : 'none';\n",
              "\n",
              "        async function convertToInteractive(key) {\n",
              "          const element = document.querySelector('#df-cc6fb6d4-8509-4880-8566-9b2a90c5bd49');\n",
              "          const dataTable =\n",
              "            await google.colab.kernel.invokeFunction('convertToInteractive',\n",
              "                                                     [key], {});\n",
              "          if (!dataTable) return;\n",
              "\n",
              "          const docLinkHtml = 'Like what you see? Visit the ' +\n",
              "            '<a target=\"_blank\" href=https://colab.research.google.com/notebooks/data_table.ipynb>data table notebook</a>'\n",
              "            + ' to learn more about interactive tables.';\n",
              "          element.innerHTML = '';\n",
              "          dataTable['output_type'] = 'display_data';\n",
              "          await google.colab.output.renderOutput(dataTable, element);\n",
              "          const docLink = document.createElement('div');\n",
              "          docLink.innerHTML = docLinkHtml;\n",
              "          element.appendChild(docLink);\n",
              "        }\n",
              "      </script>\n",
              "    </div>\n",
              "  </div>\n",
              "  "
            ]
          },
          "metadata": {},
          "execution_count": 4
        }
      ]
    },
    {
      "cell_type": "markdown",
      "source": [
        "Contexto\n"
      ],
      "metadata": {
        "id": "xLR3G7kNUu68"
      }
    },
    {
      "cell_type": "markdown",
      "source": [
        "Los bancos son entidades que se organizan de acuerdo con leyes especiales, los cuales se dedican a trabajar con el dinero de sus clientes, por lo cual reciben y tienen depósitos hechos por las personas y empresas, además de ofrecer préstamos a sus clientes utilizando estos mismos recursos.\n",
        "\n",
        "El banco cuenta con sus trabajadores y lo más importante, sus clientes, con los cuales vamos a trabajar. El caso es basado en un banco llamado Monopoly el cual lleva muchos años atendiendo a sus clientes en chile, el cual recientemente fue adquirido por un banco con capitales extranjeros llamado “Dormammu”, el cual ha solicitado a sus ingenieros hacer estudio sobre los clientes del banco adquirido para conocer sus comportamientos y patrones de estos y se ha extraído una base de datos de los clientes. Esta se ha compartido con la base de datos de Dormammu, y dentro de esta base de datos encontramos muestras de clientes con 12 meses de información almacenada en variables mensuales por cada uno de los distintos clientes, ya sea persona o empresa que está afiliada a este banco.\n",
        "\n",
        "La base de datos tiene variables asociadas a información del cliente y variables mensuales, esto quiere decir que, por cada mes, el cliente no se repite y las variables asociadas se van agregando como una columna más. Por lo cual la base de datos cuenta con 574 variables y 51.124 registros.\n",
        "\n",
        "En la base de datos nos encontramos con muchas variables distintas, las cuales nos entregan una amplia información de los clientes, pero principalmente las variables.\n",
        "\n",
        "*   Correlativo: Esta variable nos entrega la información que identifica al cliente algo como un ID\n",
        "\n",
        "*   Renta: Esta variable nos entrega la información de qué cantidad de dinero gana aproximadamente el cliente asociado\n",
        "\n",
        "\n",
        "*   Consumo: Esta variable nos entrega la información de crédito de consumo que tenga el cliente\n",
        "\n",
        "\n",
        "*   Débito: Esta variable nos indica si el cliente posee alguna tarjeta de débito\n",
        "\n",
        "\n",
        "*   Ctacte: Esta variable nos indica información sobre la cuenta corriente que tiene el cliente\n",
        "\n",
        "\n",
        "*   Cuentas: Esta variable nos da la información de la cantidad de cuentas que posee el cliente dentro del banco\n",
        "\n",
        "\n",
        "Estas son solo alguna de las distintas variables que nos podemos encontrar, las cuales nos facilita recoger información de los clientes y permitiéndonos poder realizar algún tipo de predicción que nos ayude a mejorar el negocio\n",
        "\n",
        "\n",
        "\n",
        "\n",
        "\n",
        "\n"
      ],
      "metadata": {
        "id": "C2kpHkSWUyg_"
      }
    },
    {
      "cell_type": "markdown",
      "source": [
        "#Data understanding"
      ],
      "metadata": {
        "id": "SYzJgpW8_nex"
      }
    },
    {
      "cell_type": "markdown",
      "source": [
        "Variables"
      ],
      "metadata": {
        "id": "JdeDFBcj_sW5"
      }
    },
    {
      "cell_type": "markdown",
      "source": [
        "Edad\n"
      ],
      "metadata": {
        "id": "O5_kXL3c_wmi"
      }
    },
    {
      "cell_type": "code",
      "source": [
        "dft = pd.DataFrame(columns=['Edad'])\n",
        "dft['Edad']=data[\"1.4\"]\n",
        "dft=dft.drop(dft.index[[0]])\n",
        "dft = dft.astype(int)\n",
        "dft.describe()"
      ],
      "metadata": {
        "colab": {
          "base_uri": "https://localhost:8080/",
          "height": 300
        },
        "id": "RGe58iDjTpKE",
        "outputId": "0bb9c32c-8ef5-4ea3-dcfe-0f69ac77cbd8"
      },
      "execution_count": null,
      "outputs": [
        {
          "output_type": "execute_result",
          "data": {
            "text/plain": [
              "               Edad\n",
              "count  51124.000000\n",
              "mean      38.702879\n",
              "std       13.302573\n",
              "min        9.000000\n",
              "25%       28.000000\n",
              "50%       35.000000\n",
              "75%       46.000000\n",
              "max      104.000000"
            ],
            "text/html": [
              "\n",
              "  <div id=\"df-5b966a81-813c-42e8-a253-4bd0f49bdaf4\">\n",
              "    <div class=\"colab-df-container\">\n",
              "      <div>\n",
              "<style scoped>\n",
              "    .dataframe tbody tr th:only-of-type {\n",
              "        vertical-align: middle;\n",
              "    }\n",
              "\n",
              "    .dataframe tbody tr th {\n",
              "        vertical-align: top;\n",
              "    }\n",
              "\n",
              "    .dataframe thead th {\n",
              "        text-align: right;\n",
              "    }\n",
              "</style>\n",
              "<table border=\"1\" class=\"dataframe\">\n",
              "  <thead>\n",
              "    <tr style=\"text-align: right;\">\n",
              "      <th></th>\n",
              "      <th>Edad</th>\n",
              "    </tr>\n",
              "  </thead>\n",
              "  <tbody>\n",
              "    <tr>\n",
              "      <th>count</th>\n",
              "      <td>51124.000000</td>\n",
              "    </tr>\n",
              "    <tr>\n",
              "      <th>mean</th>\n",
              "      <td>38.702879</td>\n",
              "    </tr>\n",
              "    <tr>\n",
              "      <th>std</th>\n",
              "      <td>13.302573</td>\n",
              "    </tr>\n",
              "    <tr>\n",
              "      <th>min</th>\n",
              "      <td>9.000000</td>\n",
              "    </tr>\n",
              "    <tr>\n",
              "      <th>25%</th>\n",
              "      <td>28.000000</td>\n",
              "    </tr>\n",
              "    <tr>\n",
              "      <th>50%</th>\n",
              "      <td>35.000000</td>\n",
              "    </tr>\n",
              "    <tr>\n",
              "      <th>75%</th>\n",
              "      <td>46.000000</td>\n",
              "    </tr>\n",
              "    <tr>\n",
              "      <th>max</th>\n",
              "      <td>104.000000</td>\n",
              "    </tr>\n",
              "  </tbody>\n",
              "</table>\n",
              "</div>\n",
              "      <button class=\"colab-df-convert\" onclick=\"convertToInteractive('df-5b966a81-813c-42e8-a253-4bd0f49bdaf4')\"\n",
              "              title=\"Convert this dataframe to an interactive table.\"\n",
              "              style=\"display:none;\">\n",
              "        \n",
              "  <svg xmlns=\"http://www.w3.org/2000/svg\" height=\"24px\"viewBox=\"0 0 24 24\"\n",
              "       width=\"24px\">\n",
              "    <path d=\"M0 0h24v24H0V0z\" fill=\"none\"/>\n",
              "    <path d=\"M18.56 5.44l.94 2.06.94-2.06 2.06-.94-2.06-.94-.94-2.06-.94 2.06-2.06.94zm-11 1L8.5 8.5l.94-2.06 2.06-.94-2.06-.94L8.5 2.5l-.94 2.06-2.06.94zm10 10l.94 2.06.94-2.06 2.06-.94-2.06-.94-.94-2.06-.94 2.06-2.06.94z\"/><path d=\"M17.41 7.96l-1.37-1.37c-.4-.4-.92-.59-1.43-.59-.52 0-1.04.2-1.43.59L10.3 9.45l-7.72 7.72c-.78.78-.78 2.05 0 2.83L4 21.41c.39.39.9.59 1.41.59.51 0 1.02-.2 1.41-.59l7.78-7.78 2.81-2.81c.8-.78.8-2.07 0-2.86zM5.41 20L4 18.59l7.72-7.72 1.47 1.35L5.41 20z\"/>\n",
              "  </svg>\n",
              "      </button>\n",
              "      \n",
              "  <style>\n",
              "    .colab-df-container {\n",
              "      display:flex;\n",
              "      flex-wrap:wrap;\n",
              "      gap: 12px;\n",
              "    }\n",
              "\n",
              "    .colab-df-convert {\n",
              "      background-color: #E8F0FE;\n",
              "      border: none;\n",
              "      border-radius: 50%;\n",
              "      cursor: pointer;\n",
              "      display: none;\n",
              "      fill: #1967D2;\n",
              "      height: 32px;\n",
              "      padding: 0 0 0 0;\n",
              "      width: 32px;\n",
              "    }\n",
              "\n",
              "    .colab-df-convert:hover {\n",
              "      background-color: #E2EBFA;\n",
              "      box-shadow: 0px 1px 2px rgba(60, 64, 67, 0.3), 0px 1px 3px 1px rgba(60, 64, 67, 0.15);\n",
              "      fill: #174EA6;\n",
              "    }\n",
              "\n",
              "    [theme=dark] .colab-df-convert {\n",
              "      background-color: #3B4455;\n",
              "      fill: #D2E3FC;\n",
              "    }\n",
              "\n",
              "    [theme=dark] .colab-df-convert:hover {\n",
              "      background-color: #434B5C;\n",
              "      box-shadow: 0px 1px 3px 1px rgba(0, 0, 0, 0.15);\n",
              "      filter: drop-shadow(0px 1px 2px rgba(0, 0, 0, 0.3));\n",
              "      fill: #FFFFFF;\n",
              "    }\n",
              "  </style>\n",
              "\n",
              "      <script>\n",
              "        const buttonEl =\n",
              "          document.querySelector('#df-5b966a81-813c-42e8-a253-4bd0f49bdaf4 button.colab-df-convert');\n",
              "        buttonEl.style.display =\n",
              "          google.colab.kernel.accessAllowed ? 'block' : 'none';\n",
              "\n",
              "        async function convertToInteractive(key) {\n",
              "          const element = document.querySelector('#df-5b966a81-813c-42e8-a253-4bd0f49bdaf4');\n",
              "          const dataTable =\n",
              "            await google.colab.kernel.invokeFunction('convertToInteractive',\n",
              "                                                     [key], {});\n",
              "          if (!dataTable) return;\n",
              "\n",
              "          const docLinkHtml = 'Like what you see? Visit the ' +\n",
              "            '<a target=\"_blank\" href=https://colab.research.google.com/notebooks/data_table.ipynb>data table notebook</a>'\n",
              "            + ' to learn more about interactive tables.';\n",
              "          element.innerHTML = '';\n",
              "          dataTable['output_type'] = 'display_data';\n",
              "          await google.colab.output.renderOutput(dataTable, element);\n",
              "          const docLink = document.createElement('div');\n",
              "          docLink.innerHTML = docLinkHtml;\n",
              "          element.appendChild(docLink);\n",
              "        }\n",
              "      </script>\n",
              "    </div>\n",
              "  </div>\n",
              "  "
            ]
          },
          "metadata": {},
          "execution_count": 5
        }
      ]
    },
    {
      "cell_type": "code",
      "source": [
        "fig, ax = plt.subplots()\n",
        "ax.scatter(x = dft.Edad, y = dft.Edad)\n",
        "ax.set_title(\"Edad Dispersion\")\n",
        "plt.show()"
      ],
      "metadata": {
        "colab": {
          "base_uri": "https://localhost:8080/",
          "height": 554
        },
        "id": "Uf_Np6w3nxgE",
        "outputId": "8309f586-cab2-482a-8cf5-e1539a25b008"
      },
      "execution_count": null,
      "outputs": [
        {
          "output_type": "display_data",
          "data": {
            "text/plain": [
              "<Figure size 1152x648 with 1 Axes>"
            ],
            "image/png": "[encoded data removed]"
          },
          "metadata": {}
        }
      ]
    },
    {
      "cell_type": "markdown",
      "source": [
        "Al ver las edades por medio de un grafico de dispercion nos damos cuenta que forma una Recta y nos da los 2 datos atipicos de la data."
      ],
      "metadata": {
        "id": "OYtJv5yD8jyK"
      }
    },
    {
      "cell_type": "code",
      "source": [
        "fig, ax = plt.subplots()\n",
        "ax.boxplot(dft.Edad)\n",
        "ax.set_title(\"Edad atipica\")\n",
        "plt.show()"
      ],
      "metadata": {
        "colab": {
          "base_uri": "https://localhost:8080/",
          "height": 554
        },
        "id": "S3qlYLYtnztn",
        "outputId": "5d4f2e24-2184-4da3-c0a4-9ee625ffa56a"
      },
      "execution_count": null,
      "outputs": [
        {
          "output_type": "display_data",
          "data": {
            "text/plain": [
              "<Figure size 1152x648 with 1 Axes>"
            ],
            "image/png": "[encoded data removed]"
          },
          "metadata": {}
        }
      ]
    },
    {
      "cell_type": "markdown",
      "source": [
        "Este grafico lo usamos exclusivamente para mostrar los atipicos y en donde se pueden encontrar la mayor cantidad de clientes, el primer dato atipico se encuentra bajo los 20 y el segundo datos se encuentra sobre los 100.\n",
        "\n",
        "Tambien podemos ver que la mayor cantidad de clientes se registras entre 20 y 40 años"
      ],
      "metadata": {
        "id": "l0q_03IV8zWi"
      }
    },
    {
      "cell_type": "markdown",
      "source": [
        "La edad de los clientes es bastante variable según los datos entregados por el banco Monopoly, pero se registra que el cliente con menor edad registrado en el banco tiene 9 años. La edad más común en los clientes que poseen cuenta en el banco es de 27 años y el cliente con mayor edad en el banco tiene 104 años."
      ],
      "metadata": {
        "id": "AFJpYFFWQWLn"
      }
    },
    {
      "cell_type": "markdown",
      "source": [
        "Renta"
      ],
      "metadata": {
        "id": "FBlZaXCfBnnk"
      }
    },
    {
      "cell_type": "code",
      "source": [
        "from sklearn.impute import KNNImputer\n",
        "\n",
        "dft = pd.DataFrame(columns=['Renta'])\n",
        "dft['Renta']=data[\"1.5\"]\n",
        "dft=dft.drop(dft.index[[0]])\n",
        "knn = KNNImputer(n_neighbors=5)\n",
        "neighbors = knn.fit_transform(dft)\n",
        "columnas= dft.columns\n",
        "dft = pd.DataFrame(neighbors, columns=columnas)\n",
        "dft = dft.astype(int)\n",
        "dft.describe()\n"
      ],
      "metadata": {
        "colab": {
          "base_uri": "https://localhost:8080/",
          "height": 300
        },
        "id": "hX6CC3-rCtmH",
        "outputId": "e7494eb7-7397-4c87-b56a-41c1cc971399"
      },
      "execution_count": null,
      "outputs": [
        {
          "output_type": "execute_result",
          "data": {
            "text/plain": [
              "              Renta\n",
              "count  5.112400e+04\n",
              "mean   6.630771e+05\n",
              "std    3.517356e+05\n",
              "min    1.000000e+00\n",
              "25%    4.669655e+05\n",
              "50%    6.630770e+05\n",
              "75%    7.095002e+05\n",
              "max    1.308933e+07"
            ],
            "text/html": [
              "\n",
              "  <div id=\"df-c8925516-c1f1-45ca-b28f-2b4b07fc198d\">\n",
              "    <div class=\"colab-df-container\">\n",
              "      <div>\n",
              "<style scoped>\n",
              "    .dataframe tbody tr th:only-of-type {\n",
              "        vertical-align: middle;\n",
              "    }\n",
              "\n",
              "    .dataframe tbody tr th {\n",
              "        vertical-align: top;\n",
              "    }\n",
              "\n",
              "    .dataframe thead th {\n",
              "        text-align: right;\n",
              "    }\n",
              "</style>\n",
              "<table border=\"1\" class=\"dataframe\">\n",
              "  <thead>\n",
              "    <tr style=\"text-align: right;\">\n",
              "      <th></th>\n",
              "      <th>Renta</th>\n",
              "    </tr>\n",
              "  </thead>\n",
              "  <tbody>\n",
              "    <tr>\n",
              "      <th>count</th>\n",
              "      <td>5.112400e+04</td>\n",
              "    </tr>\n",
              "    <tr>\n",
              "      <th>mean</th>\n",
              "      <td>6.630771e+05</td>\n",
              "    </tr>\n",
              "    <tr>\n",
              "      <th>std</th>\n",
              "      <td>3.517356e+05</td>\n",
              "    </tr>\n",
              "    <tr>\n",
              "      <th>min</th>\n",
              "      <td>1.000000e+00</td>\n",
              "    </tr>\n",
              "    <tr>\n",
              "      <th>25%</th>\n",
              "      <td>4.669655e+05</td>\n",
              "    </tr>\n",
              "    <tr>\n",
              "      <th>50%</th>\n",
              "      <td>6.630770e+05</td>\n",
              "    </tr>\n",
              "    <tr>\n",
              "      <th>75%</th>\n",
              "      <td>7.095002e+05</td>\n",
              "    </tr>\n",
              "    <tr>\n",
              "      <th>max</th>\n",
              "      <td>1.308933e+07</td>\n",
              "    </tr>\n",
              "  </tbody>\n",
              "</table>\n",
              "</div>\n",
              "      <button class=\"colab-df-convert\" onclick=\"convertToInteractive('df-c8925516-c1f1-45ca-b28f-2b4b07fc198d')\"\n",
              "              title=\"Convert this dataframe to an interactive table.\"\n",
              "              style=\"display:none;\">\n",
              "        \n",
              "  <svg xmlns=\"http://www.w3.org/2000/svg\" height=\"24px\"viewBox=\"0 0 24 24\"\n",
              "       width=\"24px\">\n",
              "    <path d=\"M0 0h24v24H0V0z\" fill=\"none\"/>\n",
              "    <path d=\"M18.56 5.44l.94 2.06.94-2.06 2.06-.94-2.06-.94-.94-2.06-.94 2.06-2.06.94zm-11 1L8.5 8.5l.94-2.06 2.06-.94-2.06-.94L8.5 2.5l-.94 2.06-2.06.94zm10 10l.94 2.06.94-2.06 2.06-.94-2.06-.94-.94-2.06-.94 2.06-2.06.94z\"/><path d=\"M17.41 7.96l-1.37-1.37c-.4-.4-.92-.59-1.43-.59-.52 0-1.04.2-1.43.59L10.3 9.45l-7.72 7.72c-.78.78-.78 2.05 0 2.83L4 21.41c.39.39.9.59 1.41.59.51 0 1.02-.2 1.41-.59l7.78-7.78 2.81-2.81c.8-.78.8-2.07 0-2.86zM5.41 20L4 18.59l7.72-7.72 1.47 1.35L5.41 20z\"/>\n",
              "  </svg>\n",
              "      </button>\n",
              "      \n",
              "  <style>\n",
              "    .colab-df-container {\n",
              "      display:flex;\n",
              "      flex-wrap:wrap;\n",
              "      gap: 12px;\n",
              "    }\n",
              "\n",
              "    .colab-df-convert {\n",
              "      background-color: #E8F0FE;\n",
              "      border: none;\n",
              "      border-radius: 50%;\n",
              "      cursor: pointer;\n",
              "      display: none;\n",
              "      fill: #1967D2;\n",
              "      height: 32px;\n",
              "      padding: 0 0 0 0;\n",
              "      width: 32px;\n",
              "    }\n",
              "\n",
              "    .colab-df-convert:hover {\n",
              "      background-color: #E2EBFA;\n",
              "      box-shadow: 0px 1px 2px rgba(60, 64, 67, 0.3), 0px 1px 3px 1px rgba(60, 64, 67, 0.15);\n",
              "      fill: #174EA6;\n",
              "    }\n",
              "\n",
              "    [theme=dark] .colab-df-convert {\n",
              "      background-color: #3B4455;\n",
              "      fill: #D2E3FC;\n",
              "    }\n",
              "\n",
              "    [theme=dark] .colab-df-convert:hover {\n",
              "      background-color: #434B5C;\n",
              "      box-shadow: 0px 1px 3px 1px rgba(0, 0, 0, 0.15);\n",
              "      filter: drop-shadow(0px 1px 2px rgba(0, 0, 0, 0.3));\n",
              "      fill: #FFFFFF;\n",
              "    }\n",
              "  </style>\n",
              "\n",
              "      <script>\n",
              "        const buttonEl =\n",
              "          document.querySelector('#df-c8925516-c1f1-45ca-b28f-2b4b07fc198d button.colab-df-convert');\n",
              "        buttonEl.style.display =\n",
              "          google.colab.kernel.accessAllowed ? 'block' : 'none';\n",
              "\n",
              "        async function convertToInteractive(key) {\n",
              "          const element = document.querySelector('#df-c8925516-c1f1-45ca-b28f-2b4b07fc198d');\n",
              "          const dataTable =\n",
              "            await google.colab.kernel.invokeFunction('convertToInteractive',\n",
              "                                                     [key], {});\n",
              "          if (!dataTable) return;\n",
              "\n",
              "          const docLinkHtml = 'Like what you see? Visit the ' +\n",
              "            '<a target=\"_blank\" href=https://colab.research.google.com/notebooks/data_table.ipynb>data table notebook</a>'\n",
              "            + ' to learn more about interactive tables.';\n",
              "          element.innerHTML = '';\n",
              "          dataTable['output_type'] = 'display_data';\n",
              "          await google.colab.output.renderOutput(dataTable, element);\n",
              "          const docLink = document.createElement('div');\n",
              "          docLink.innerHTML = docLinkHtml;\n",
              "          element.appendChild(docLink);\n",
              "        }\n",
              "      </script>\n",
              "    </div>\n",
              "  </div>\n",
              "  "
            ]
          },
          "metadata": {},
          "execution_count": 8
        }
      ]
    },
    {
      "cell_type": "code",
      "source": [
        "fig, ax = plt.subplots()\n",
        "ax.plot(dft.Renta)\n",
        "ax.set_title(\"Renta\")\n",
        "plt.show()"
      ],
      "metadata": {
        "colab": {
          "base_uri": "https://localhost:8080/",
          "height": 554
        },
        "id": "CmIQ0ciMn3of",
        "outputId": "ca768c92-533e-4c50-b88c-3e52a2644d87"
      },
      "execution_count": null,
      "outputs": [
        {
          "output_type": "display_data",
          "data": {
            "text/plain": [
              "<Figure size 1152x648 with 1 Axes>"
            ],
            "image/png": "[encoded data removed]"
          },
          "metadata": {}
        }
      ]
    },
    {
      "cell_type": "markdown",
      "source": [
        "En este grafico podemos observar la cantidad que ganan los clientes de forma mensual, se puede observar que algunos clientes sobresalen"
      ],
      "metadata": {
        "id": "QsqQZnmD9nyK"
      }
    },
    {
      "cell_type": "code",
      "source": [
        "fig, ax = plt.subplots()\n",
        "ax.boxplot(dft.Renta)\n",
        "ax.set_title(\"Renta atipica\")\n",
        "plt.show()"
      ],
      "metadata": {
        "colab": {
          "base_uri": "https://localhost:8080/",
          "height": 554
        },
        "id": "OgRt1ey6n5Pf",
        "outputId": "ca57c276-4d49-4d44-a6bd-794e9e16c034"
      },
      "execution_count": null,
      "outputs": [
        {
          "output_type": "display_data",
          "data": {
            "text/plain": [
              "<Figure size 1152x648 with 1 Axes>"
            ],
            "image/png": "[encoded data removed]"
          },
          "metadata": {}
        }
      ]
    },
    {
      "cell_type": "markdown",
      "source": [
        "Podemos observar los datos atipos de la renta en el cual se registran 2 datos atipicos que se encuentran muy lejos comparado a los demas."
      ],
      "metadata": {
        "id": "jQtyyfY3-gG-"
      }
    },
    {
      "cell_type": "markdown",
      "source": [
        "La renta se refiere a la cantidad de dinero que ingresa al banco por parte del cliente, siendo la menor cantidad ingresada 1 peso, y la mayor cantidad ingresada por un cliente es de 13.089.327 pesos. También la cantidad ingresada más común en de 400.000 pesos."
      ],
      "metadata": {
        "id": "B1bWI-5XVdGo"
      }
    },
    {
      "cell_type": "markdown",
      "source": [
        "Indicador de cuenta corriente\n"
      ],
      "metadata": {
        "id": "21xyfBHfC7in"
      }
    },
    {
      "cell_type": "code",
      "source": [
        "dft = pd.DataFrame(columns=['Indicador_cuenta'])\n",
        "dft['Indicador_cuenta']=data[\"1.11\"]\n",
        "dft=dft.drop(dft.index[[0]])\n",
        "dft = dft.astype(int)\n",
        "dft.describe()"
      ],
      "metadata": {
        "colab": {
          "base_uri": "https://localhost:8080/",
          "height": 300
        },
        "id": "jM1cJMcrDIcC",
        "outputId": "1996025b-6d97-4c12-fd40-c56b251f1f64"
      },
      "execution_count": null,
      "outputs": [
        {
          "output_type": "execute_result",
          "data": {
            "text/plain": [
              "       Indicador_cuenta\n",
              "count      51124.000000\n",
              "mean           0.925260\n",
              "std            0.262974\n",
              "min            0.000000\n",
              "25%            1.000000\n",
              "50%            1.000000\n",
              "75%            1.000000\n",
              "max            1.000000"
            ],
            "text/html": [
              "\n",
              "  <div id=\"df-6a71f7d2-bce2-4f82-a4e2-ca56d805fb20\">\n",
              "    <div class=\"colab-df-container\">\n",
              "      <div>\n",
              "<style scoped>\n",
              "    .dataframe tbody tr th:only-of-type {\n",
              "        vertical-align: middle;\n",
              "    }\n",
              "\n",
              "    .dataframe tbody tr th {\n",
              "        vertical-align: top;\n",
              "    }\n",
              "\n",
              "    .dataframe thead th {\n",
              "        text-align: right;\n",
              "    }\n",
              "</style>\n",
              "<table border=\"1\" class=\"dataframe\">\n",
              "  <thead>\n",
              "    <tr style=\"text-align: right;\">\n",
              "      <th></th>\n",
              "      <th>Indicador_cuenta</th>\n",
              "    </tr>\n",
              "  </thead>\n",
              "  <tbody>\n",
              "    <tr>\n",
              "      <th>count</th>\n",
              "      <td>51124.000000</td>\n",
              "    </tr>\n",
              "    <tr>\n",
              "      <th>mean</th>\n",
              "      <td>0.925260</td>\n",
              "    </tr>\n",
              "    <tr>\n",
              "      <th>std</th>\n",
              "      <td>0.262974</td>\n",
              "    </tr>\n",
              "    <tr>\n",
              "      <th>min</th>\n",
              "      <td>0.000000</td>\n",
              "    </tr>\n",
              "    <tr>\n",
              "      <th>25%</th>\n",
              "      <td>1.000000</td>\n",
              "    </tr>\n",
              "    <tr>\n",
              "      <th>50%</th>\n",
              "      <td>1.000000</td>\n",
              "    </tr>\n",
              "    <tr>\n",
              "      <th>75%</th>\n",
              "      <td>1.000000</td>\n",
              "    </tr>\n",
              "    <tr>\n",
              "      <th>max</th>\n",
              "      <td>1.000000</td>\n",
              "    </tr>\n",
              "  </tbody>\n",
              "</table>\n",
              "</div>\n",
              "      <button class=\"colab-df-convert\" onclick=\"convertToInteractive('df-6a71f7d2-bce2-4f82-a4e2-ca56d805fb20')\"\n",
              "              title=\"Convert this dataframe to an interactive table.\"\n",
              "              style=\"display:none;\">\n",
              "        \n",
              "  <svg xmlns=\"http://www.w3.org/2000/svg\" height=\"24px\"viewBox=\"0 0 24 24\"\n",
              "       width=\"24px\">\n",
              "    <path d=\"M0 0h24v24H0V0z\" fill=\"none\"/>\n",
              "    <path d=\"M18.56 5.44l.94 2.06.94-2.06 2.06-.94-2.06-.94-.94-2.06-.94 2.06-2.06.94zm-11 1L8.5 8.5l.94-2.06 2.06-.94-2.06-.94L8.5 2.5l-.94 2.06-2.06.94zm10 10l.94 2.06.94-2.06 2.06-.94-2.06-.94-.94-2.06-.94 2.06-2.06.94z\"/><path d=\"M17.41 7.96l-1.37-1.37c-.4-.4-.92-.59-1.43-.59-.52 0-1.04.2-1.43.59L10.3 9.45l-7.72 7.72c-.78.78-.78 2.05 0 2.83L4 21.41c.39.39.9.59 1.41.59.51 0 1.02-.2 1.41-.59l7.78-7.78 2.81-2.81c.8-.78.8-2.07 0-2.86zM5.41 20L4 18.59l7.72-7.72 1.47 1.35L5.41 20z\"/>\n",
              "  </svg>\n",
              "      </button>\n",
              "      \n",
              "  <style>\n",
              "    .colab-df-container {\n",
              "      display:flex;\n",
              "      flex-wrap:wrap;\n",
              "      gap: 12px;\n",
              "    }\n",
              "\n",
              "    .colab-df-convert {\n",
              "      background-color: #E8F0FE;\n",
              "      border: none;\n",
              "      border-radius: 50%;\n",
              "      cursor: pointer;\n",
              "      display: none;\n",
              "      fill: #1967D2;\n",
              "      height: 32px;\n",
              "      padding: 0 0 0 0;\n",
              "      width: 32px;\n",
              "    }\n",
              "\n",
              "    .colab-df-convert:hover {\n",
              "      background-color: #E2EBFA;\n",
              "      box-shadow: 0px 1px 2px rgba(60, 64, 67, 0.3), 0px 1px 3px 1px rgba(60, 64, 67, 0.15);\n",
              "      fill: #174EA6;\n",
              "    }\n",
              "\n",
              "    [theme=dark] .colab-df-convert {\n",
              "      background-color: #3B4455;\n",
              "      fill: #D2E3FC;\n",
              "    }\n",
              "\n",
              "    [theme=dark] .colab-df-convert:hover {\n",
              "      background-color: #434B5C;\n",
              "      box-shadow: 0px 1px 3px 1px rgba(0, 0, 0, 0.15);\n",
              "      filter: drop-shadow(0px 1px 2px rgba(0, 0, 0, 0.3));\n",
              "      fill: #FFFFFF;\n",
              "    }\n",
              "  </style>\n",
              "\n",
              "      <script>\n",
              "        const buttonEl =\n",
              "          document.querySelector('#df-6a71f7d2-bce2-4f82-a4e2-ca56d805fb20 button.colab-df-convert');\n",
              "        buttonEl.style.display =\n",
              "          google.colab.kernel.accessAllowed ? 'block' : 'none';\n",
              "\n",
              "        async function convertToInteractive(key) {\n",
              "          const element = document.querySelector('#df-6a71f7d2-bce2-4f82-a4e2-ca56d805fb20');\n",
              "          const dataTable =\n",
              "            await google.colab.kernel.invokeFunction('convertToInteractive',\n",
              "                                                     [key], {});\n",
              "          if (!dataTable) return;\n",
              "\n",
              "          const docLinkHtml = 'Like what you see? Visit the ' +\n",
              "            '<a target=\"_blank\" href=https://colab.research.google.com/notebooks/data_table.ipynb>data table notebook</a>'\n",
              "            + ' to learn more about interactive tables.';\n",
              "          element.innerHTML = '';\n",
              "          dataTable['output_type'] = 'display_data';\n",
              "          await google.colab.output.renderOutput(dataTable, element);\n",
              "          const docLink = document.createElement('div');\n",
              "          docLink.innerHTML = docLinkHtml;\n",
              "          element.appendChild(docLink);\n",
              "        }\n",
              "      </script>\n",
              "    </div>\n",
              "  </div>\n",
              "  "
            ]
          },
          "metadata": {},
          "execution_count": 18
        }
      ]
    },
    {
      "cell_type": "code",
      "source": [
        "fig, ax = plt.subplots()\n",
        "ax.violinplot(dft.Indicador_cuenta)\n",
        "ax.set_title(\"Cuenta corriente\")\n",
        "plt.show()"
      ],
      "metadata": {
        "colab": {
          "base_uri": "https://localhost:8080/",
          "height": 554
        },
        "id": "S2zhHMntqztA",
        "outputId": "3465ee5e-397c-48f0-f7a3-9bfac3a55764"
      },
      "execution_count": null,
      "outputs": [
        {
          "output_type": "display_data",
          "data": {
            "text/plain": [
              "<Figure size 1152x648 with 1 Axes>"
            ],
            "image/png": "[encoded data removed]"
          },
          "metadata": {}
        }
      ]
    },
    {
      "cell_type": "markdown",
      "source": [
        "En el siguiente grafico podemos observar la cantidad de clientes que se encuentran registrados en el banco con cuenta corriente y sin cuenta corriente, se puede observar que la gran mayoria de los cliente si tiene cuenta corriente y que es una minima cantidad la que no tiene."
      ],
      "metadata": {
        "id": "tIOmbWthBTFb"
      }
    },
    {
      "cell_type": "markdown",
      "source": [
        "Este dato nos indica si el cliente posee una cuenta corriente en el banco, siendo 1 la existencia de una cuenta corriente por parte del cliente, y 0 siendo el valor que especifica que el cliente no posee cuenta corriente. Se puede apreciar que la gran mayoría de los clientes si poseen una cuenta corriente, llegando a la cantidad de, 47303 clientes con esta característica."
      ],
      "metadata": {
        "id": "hSzwoA97VpI1"
      }
    },
    {
      "cell_type": "markdown",
      "source": [
        "Subsegmento\n"
      ],
      "metadata": {
        "id": "9RPqtTJODV-E"
      }
    },
    {
      "cell_type": "code",
      "source": [
        "dft = pd.DataFrame(columns=['Subsegmento'])\n",
        "dft['Subsegmento']=data[\"1.1\"]\n",
        "dft=dft.drop(dft.index[[0]])\n",
        "dft = dft.astype(int)\n",
        "dft.describe()"
      ],
      "metadata": {
        "colab": {
          "base_uri": "https://localhost:8080/",
          "height": 300
        },
        "id": "x7wGkbfcDeYt",
        "outputId": "e4154666-3ad1-43e0-e985-517c5b095712"
      },
      "execution_count": null,
      "outputs": [
        {
          "output_type": "execute_result",
          "data": {
            "text/plain": [
              "        Subsegmento\n",
              "count  51124.000000\n",
              "mean     182.024274\n",
              "std       29.276596\n",
              "min      151.000000\n",
              "25%      160.000000\n",
              "50%      170.000000\n",
              "75%      210.000000\n",
              "max      959.000000"
            ],
            "text/html": [
              "\n",
              "  <div id=\"df-8bca91f0-6e25-4e1d-8ade-573937fbbc8b\">\n",
              "    <div class=\"colab-df-container\">\n",
              "      <div>\n",
              "<style scoped>\n",
              "    .dataframe tbody tr th:only-of-type {\n",
              "        vertical-align: middle;\n",
              "    }\n",
              "\n",
              "    .dataframe tbody tr th {\n",
              "        vertical-align: top;\n",
              "    }\n",
              "\n",
              "    .dataframe thead th {\n",
              "        text-align: right;\n",
              "    }\n",
              "</style>\n",
              "<table border=\"1\" class=\"dataframe\">\n",
              "  <thead>\n",
              "    <tr style=\"text-align: right;\">\n",
              "      <th></th>\n",
              "      <th>Subsegmento</th>\n",
              "    </tr>\n",
              "  </thead>\n",
              "  <tbody>\n",
              "    <tr>\n",
              "      <th>count</th>\n",
              "      <td>51124.000000</td>\n",
              "    </tr>\n",
              "    <tr>\n",
              "      <th>mean</th>\n",
              "      <td>182.024274</td>\n",
              "    </tr>\n",
              "    <tr>\n",
              "      <th>std</th>\n",
              "      <td>29.276596</td>\n",
              "    </tr>\n",
              "    <tr>\n",
              "      <th>min</th>\n",
              "      <td>151.000000</td>\n",
              "    </tr>\n",
              "    <tr>\n",
              "      <th>25%</th>\n",
              "      <td>160.000000</td>\n",
              "    </tr>\n",
              "    <tr>\n",
              "      <th>50%</th>\n",
              "      <td>170.000000</td>\n",
              "    </tr>\n",
              "    <tr>\n",
              "      <th>75%</th>\n",
              "      <td>210.000000</td>\n",
              "    </tr>\n",
              "    <tr>\n",
              "      <th>max</th>\n",
              "      <td>959.000000</td>\n",
              "    </tr>\n",
              "  </tbody>\n",
              "</table>\n",
              "</div>\n",
              "      <button class=\"colab-df-convert\" onclick=\"convertToInteractive('df-8bca91f0-6e25-4e1d-8ade-573937fbbc8b')\"\n",
              "              title=\"Convert this dataframe to an interactive table.\"\n",
              "              style=\"display:none;\">\n",
              "        \n",
              "  <svg xmlns=\"http://www.w3.org/2000/svg\" height=\"24px\"viewBox=\"0 0 24 24\"\n",
              "       width=\"24px\">\n",
              "    <path d=\"M0 0h24v24H0V0z\" fill=\"none\"/>\n",
              "    <path d=\"M18.56 5.44l.94 2.06.94-2.06 2.06-.94-2.06-.94-.94-2.06-.94 2.06-2.06.94zm-11 1L8.5 8.5l.94-2.06 2.06-.94-2.06-.94L8.5 2.5l-.94 2.06-2.06.94zm10 10l.94 2.06.94-2.06 2.06-.94-2.06-.94-.94-2.06-.94 2.06-2.06.94z\"/><path d=\"M17.41 7.96l-1.37-1.37c-.4-.4-.92-.59-1.43-.59-.52 0-1.04.2-1.43.59L10.3 9.45l-7.72 7.72c-.78.78-.78 2.05 0 2.83L4 21.41c.39.39.9.59 1.41.59.51 0 1.02-.2 1.41-.59l7.78-7.78 2.81-2.81c.8-.78.8-2.07 0-2.86zM5.41 20L4 18.59l7.72-7.72 1.47 1.35L5.41 20z\"/>\n",
              "  </svg>\n",
              "      </button>\n",
              "      \n",
              "  <style>\n",
              "    .colab-df-container {\n",
              "      display:flex;\n",
              "      flex-wrap:wrap;\n",
              "      gap: 12px;\n",
              "    }\n",
              "\n",
              "    .colab-df-convert {\n",
              "      background-color: #E8F0FE;\n",
              "      border: none;\n",
              "      border-radius: 50%;\n",
              "      cursor: pointer;\n",
              "      display: none;\n",
              "      fill: #1967D2;\n",
              "      height: 32px;\n",
              "      padding: 0 0 0 0;\n",
              "      width: 32px;\n",
              "    }\n",
              "\n",
              "    .colab-df-convert:hover {\n",
              "      background-color: #E2EBFA;\n",
              "      box-shadow: 0px 1px 2px rgba(60, 64, 67, 0.3), 0px 1px 3px 1px rgba(60, 64, 67, 0.15);\n",
              "      fill: #174EA6;\n",
              "    }\n",
              "\n",
              "    [theme=dark] .colab-df-convert {\n",
              "      background-color: #3B4455;\n",
              "      fill: #D2E3FC;\n",
              "    }\n",
              "\n",
              "    [theme=dark] .colab-df-convert:hover {\n",
              "      background-color: #434B5C;\n",
              "      box-shadow: 0px 1px 3px 1px rgba(0, 0, 0, 0.15);\n",
              "      filter: drop-shadow(0px 1px 2px rgba(0, 0, 0, 0.3));\n",
              "      fill: #FFFFFF;\n",
              "    }\n",
              "  </style>\n",
              "\n",
              "      <script>\n",
              "        const buttonEl =\n",
              "          document.querySelector('#df-8bca91f0-6e25-4e1d-8ade-573937fbbc8b button.colab-df-convert');\n",
              "        buttonEl.style.display =\n",
              "          google.colab.kernel.accessAllowed ? 'block' : 'none';\n",
              "\n",
              "        async function convertToInteractive(key) {\n",
              "          const element = document.querySelector('#df-8bca91f0-6e25-4e1d-8ade-573937fbbc8b');\n",
              "          const dataTable =\n",
              "            await google.colab.kernel.invokeFunction('convertToInteractive',\n",
              "                                                     [key], {});\n",
              "          if (!dataTable) return;\n",
              "\n",
              "          const docLinkHtml = 'Like what you see? Visit the ' +\n",
              "            '<a target=\"_blank\" href=https://colab.research.google.com/notebooks/data_table.ipynb>data table notebook</a>'\n",
              "            + ' to learn more about interactive tables.';\n",
              "          element.innerHTML = '';\n",
              "          dataTable['output_type'] = 'display_data';\n",
              "          await google.colab.output.renderOutput(dataTable, element);\n",
              "          const docLink = document.createElement('div');\n",
              "          docLink.innerHTML = docLinkHtml;\n",
              "          element.appendChild(docLink);\n",
              "        }\n",
              "      </script>\n",
              "    </div>\n",
              "  </div>\n",
              "  "
            ]
          },
          "metadata": {},
          "execution_count": 20
        }
      ]
    },
    {
      "cell_type": "code",
      "source": [
        "fig, ax = plt.subplots()\n",
        "ax.scatter(x = dft.Subsegmento, y = dft.Subsegmento)\n",
        "ax.set_title(\"Subsegmento Dispersion\")\n",
        "plt.show()"
      ],
      "metadata": {
        "colab": {
          "base_uri": "https://localhost:8080/",
          "height": 554
        },
        "id": "LzaoKfZRq7gg",
        "outputId": "d0268bd5-4b68-4d96-8411-289ea9b2deed"
      },
      "execution_count": null,
      "outputs": [
        {
          "output_type": "display_data",
          "data": {
            "text/plain": [
              "<Figure size 1152x648 with 1 Axes>"
            ],
            "image/png": "[encoded data removed]"
          },
          "metadata": {}
        }
      ]
    },
    {
      "cell_type": "markdown",
      "source": [
        "Esta sección nos indica a qué agrupación del banco pertenece el cliente, siendo el subsegmento 170 el más común entre los clientes."
      ],
      "metadata": {
        "id": "OIlVnlxvV0bO"
      }
    },
    {
      "cell_type": "markdown",
      "source": [
        "Pago Nacional\n"
      ],
      "metadata": {
        "id": "ao-g2b9uDnZ4"
      }
    },
    {
      "cell_type": "code",
      "source": [
        "dft = pd.DataFrame(columns=['PagoNac_T01'])\n",
        "dft['PagoNac_T01']=data[\"1.565\"]\n",
        "dft=dft.drop(dft.index[[0]])\n",
        "dft = dft.astype(int)\n",
        "dft.describe()"
      ],
      "metadata": {
        "colab": {
          "base_uri": "https://localhost:8080/",
          "height": 300
        },
        "id": "keCElBkvD-Y5",
        "outputId": "a68982ea-0b0a-4a2f-9a16-efd243af62e2"
      },
      "execution_count": null,
      "outputs": [
        {
          "output_type": "execute_result",
          "data": {
            "text/plain": [
              "        PagoNac_T01\n",
              "count  5.112400e+04\n",
              "mean   7.637553e+04\n",
              "std    1.490256e+05\n",
              "min    0.000000e+00\n",
              "25%    5.000000e+03\n",
              "50%    3.400150e+04\n",
              "75%    9.200000e+04\n",
              "max    8.697782e+06"
            ],
            "text/html": [
              "\n",
              "  <div id=\"df-b0d034be-6ac0-44e9-835f-5497d52c09e3\">\n",
              "    <div class=\"colab-df-container\">\n",
              "      <div>\n",
              "<style scoped>\n",
              "    .dataframe tbody tr th:only-of-type {\n",
              "        vertical-align: middle;\n",
              "    }\n",
              "\n",
              "    .dataframe tbody tr th {\n",
              "        vertical-align: top;\n",
              "    }\n",
              "\n",
              "    .dataframe thead th {\n",
              "        text-align: right;\n",
              "    }\n",
              "</style>\n",
              "<table border=\"1\" class=\"dataframe\">\n",
              "  <thead>\n",
              "    <tr style=\"text-align: right;\">\n",
              "      <th></th>\n",
              "      <th>PagoNac_T01</th>\n",
              "    </tr>\n",
              "  </thead>\n",
              "  <tbody>\n",
              "    <tr>\n",
              "      <th>count</th>\n",
              "      <td>5.112400e+04</td>\n",
              "    </tr>\n",
              "    <tr>\n",
              "      <th>mean</th>\n",
              "      <td>7.637553e+04</td>\n",
              "    </tr>\n",
              "    <tr>\n",
              "      <th>std</th>\n",
              "      <td>1.490256e+05</td>\n",
              "    </tr>\n",
              "    <tr>\n",
              "      <th>min</th>\n",
              "      <td>0.000000e+00</td>\n",
              "    </tr>\n",
              "    <tr>\n",
              "      <th>25%</th>\n",
              "      <td>5.000000e+03</td>\n",
              "    </tr>\n",
              "    <tr>\n",
              "      <th>50%</th>\n",
              "      <td>3.400150e+04</td>\n",
              "    </tr>\n",
              "    <tr>\n",
              "      <th>75%</th>\n",
              "      <td>9.200000e+04</td>\n",
              "    </tr>\n",
              "    <tr>\n",
              "      <th>max</th>\n",
              "      <td>8.697782e+06</td>\n",
              "    </tr>\n",
              "  </tbody>\n",
              "</table>\n",
              "</div>\n",
              "      <button class=\"colab-df-convert\" onclick=\"convertToInteractive('df-b0d034be-6ac0-44e9-835f-5497d52c09e3')\"\n",
              "              title=\"Convert this dataframe to an interactive table.\"\n",
              "              style=\"display:none;\">\n",
              "        \n",
              "  <svg xmlns=\"http://www.w3.org/2000/svg\" height=\"24px\"viewBox=\"0 0 24 24\"\n",
              "       width=\"24px\">\n",
              "    <path d=\"M0 0h24v24H0V0z\" fill=\"none\"/>\n",
              "    <path d=\"M18.56 5.44l.94 2.06.94-2.06 2.06-.94-2.06-.94-.94-2.06-.94 2.06-2.06.94zm-11 1L8.5 8.5l.94-2.06 2.06-.94-2.06-.94L8.5 2.5l-.94 2.06-2.06.94zm10 10l.94 2.06.94-2.06 2.06-.94-2.06-.94-.94-2.06-.94 2.06-2.06.94z\"/><path d=\"M17.41 7.96l-1.37-1.37c-.4-.4-.92-.59-1.43-.59-.52 0-1.04.2-1.43.59L10.3 9.45l-7.72 7.72c-.78.78-.78 2.05 0 2.83L4 21.41c.39.39.9.59 1.41.59.51 0 1.02-.2 1.41-.59l7.78-7.78 2.81-2.81c.8-.78.8-2.07 0-2.86zM5.41 20L4 18.59l7.72-7.72 1.47 1.35L5.41 20z\"/>\n",
              "  </svg>\n",
              "      </button>\n",
              "      \n",
              "  <style>\n",
              "    .colab-df-container {\n",
              "      display:flex;\n",
              "      flex-wrap:wrap;\n",
              "      gap: 12px;\n",
              "    }\n",
              "\n",
              "    .colab-df-convert {\n",
              "      background-color: #E8F0FE;\n",
              "      border: none;\n",
              "      border-radius: 50%;\n",
              "      cursor: pointer;\n",
              "      display: none;\n",
              "      fill: #1967D2;\n",
              "      height: 32px;\n",
              "      padding: 0 0 0 0;\n",
              "      width: 32px;\n",
              "    }\n",
              "\n",
              "    .colab-df-convert:hover {\n",
              "      background-color: #E2EBFA;\n",
              "      box-shadow: 0px 1px 2px rgba(60, 64, 67, 0.3), 0px 1px 3px 1px rgba(60, 64, 67, 0.15);\n",
              "      fill: #174EA6;\n",
              "    }\n",
              "\n",
              "    [theme=dark] .colab-df-convert {\n",
              "      background-color: #3B4455;\n",
              "      fill: #D2E3FC;\n",
              "    }\n",
              "\n",
              "    [theme=dark] .colab-df-convert:hover {\n",
              "      background-color: #434B5C;\n",
              "      box-shadow: 0px 1px 3px 1px rgba(0, 0, 0, 0.15);\n",
              "      filter: drop-shadow(0px 1px 2px rgba(0, 0, 0, 0.3));\n",
              "      fill: #FFFFFF;\n",
              "    }\n",
              "  </style>\n",
              "\n",
              "      <script>\n",
              "        const buttonEl =\n",
              "          document.querySelector('#df-b0d034be-6ac0-44e9-835f-5497d52c09e3 button.colab-df-convert');\n",
              "        buttonEl.style.display =\n",
              "          google.colab.kernel.accessAllowed ? 'block' : 'none';\n",
              "\n",
              "        async function convertToInteractive(key) {\n",
              "          const element = document.querySelector('#df-b0d034be-6ac0-44e9-835f-5497d52c09e3');\n",
              "          const dataTable =\n",
              "            await google.colab.kernel.invokeFunction('convertToInteractive',\n",
              "                                                     [key], {});\n",
              "          if (!dataTable) return;\n",
              "\n",
              "          const docLinkHtml = 'Like what you see? Visit the ' +\n",
              "            '<a target=\"_blank\" href=https://colab.research.google.com/notebooks/data_table.ipynb>data table notebook</a>'\n",
              "            + ' to learn more about interactive tables.';\n",
              "          element.innerHTML = '';\n",
              "          dataTable['output_type'] = 'display_data';\n",
              "          await google.colab.output.renderOutput(dataTable, element);\n",
              "          const docLink = document.createElement('div');\n",
              "          docLink.innerHTML = docLinkHtml;\n",
              "          element.appendChild(docLink);\n",
              "        }\n",
              "      </script>\n",
              "    </div>\n",
              "  </div>\n",
              "  "
            ]
          },
          "metadata": {},
          "execution_count": 25
        }
      ]
    },
    {
      "cell_type": "code",
      "source": [
        "fig, ax = plt.subplots()\n",
        "ax.plot(dft.PagoNac_T01)\n",
        "ax.set_title(\"Pago del mes deuda nacional\")\n",
        "plt.show()"
      ],
      "metadata": {
        "colab": {
          "base_uri": "https://localhost:8080/",
          "height": 554
        },
        "id": "DIo7XRdPq-p9",
        "outputId": "75e09efc-e8f7-44c1-80ee-16c2973d54da"
      },
      "execution_count": null,
      "outputs": [
        {
          "output_type": "display_data",
          "data": {
            "text/plain": [
              "<Figure size 1152x648 with 1 Axes>"
            ],
            "image/png": "[encoded data removed]"
          },
          "metadata": {}
        }
      ]
    },
    {
      "cell_type": "markdown",
      "source": [
        "El gráfico nos indica la cantidad de dinero que pagan los clientes en un mes específico base a su deuda nacional, se registra que la mayoría no paga su deuda nacional o no tiene deuda nacional"
      ],
      "metadata": {
        "id": "wgUAluhbCKrh"
      }
    },
    {
      "cell_type": "code",
      "source": [
        "fig, ax = plt.subplots()\n",
        "ax.boxplot(dft.PagoNac_T01)\n",
        "ax.set_title(\"Pago del mes deuda nacional atipico\")\n",
        "plt.show()"
      ],
      "metadata": {
        "colab": {
          "base_uri": "https://localhost:8080/",
          "height": 554
        },
        "id": "MbA8vSkVrCMZ",
        "outputId": "11419017-216e-4551-879c-946620bc4835"
      },
      "execution_count": null,
      "outputs": [
        {
          "output_type": "display_data",
          "data": {
            "text/plain": [
              "<Figure size 1152x648 with 1 Axes>"
            ],
            "image/png": "[encoded data removed]"
          },
          "metadata": {}
        }
      ]
    },
    {
      "cell_type": "markdown",
      "source": [
        "Nos indica la suma de dinero que ha pagado el cliente en el mes específico de su deuda nacional. Por ejemplo, en el mes 1, se puede apreciar que lo más común para este mes, es que no se pague nada por parte de los clientes, siendo alrededor de 10 mil. Dejando eso de lado, el pago de los clientes para el mes 1 va desde 1 peso, hasta los 8.697.782."
      ],
      "metadata": {
        "id": "F5p75CJVV6rU"
      }
    },
    {
      "cell_type": "markdown",
      "source": [
        "Por que escogimos estos datos."
      ],
      "metadata": {
        "id": "QTHFBxtjCpi2"
      }
    },
    {
      "cell_type": "markdown",
      "source": [
        "Escogimos estos datos, ya que creemos que son lo más optimó para el objetivo que queremos conseguir, el cual es si nuestro cliente puede llegar o no a solicitar un crédito hipotecario a futuro, puesto que:\n",
        "\n",
        "\n",
        "\n",
        "*  Edad:Esta variable nos entrega la información de la edad que posee el cliente, por lo cual nos puede ayudar, porque estando dentro de un rango de edad, estos pueden estar buscando adquirir un crédito hipotecario.\n",
        "\n",
        "\n",
        "\n",
        "*  Renta:Esta variable nos entrega la información de cuanto es él\n",
        "\n",
        "   Sueldo que posee el cliente que está asociado al banco, el cual dependiendo  de cuanto gane el cliente se nos puede dar la idea si está dentro de su alcance poder adquirir un crédito hipotecario.\n",
        "\n",
        "\n",
        "\n",
        "*  Indicador cuenta corriente:Esta variable nos entrega la información de que si el cliente posee o no una cuenta corriente y si es así cuanto número de cuentas este posee esta variable nos pueda dar la idea si el cliente está ahorrando o no para poder solicitar un crédito hipotecario.\n",
        "\n",
        "\n",
        "\n",
        "*  Subsegento:Esta variable nos entrega la información de que si el cliente es nuevo, antiguo, rentable, etc. lo cual nos puede ayudar a identificar clientes dependiendo de cuál de estos está clasificado\n",
        "\n",
        "\n",
        "\n",
        "*  Pago nacional:Esta variable nos entrega la información de los pagos mensuales del cliente, lo cual nos puede dar la idea de que si el cliente está muy endeudados es poco probable que solicite un crédito hipotecario y al contrario si este no lo está."
      ],
      "metadata": {
        "id": "Ta84EInkSgVS"
      }
    },
    {
      "cell_type": "markdown",
      "source": [
        "#Data Preparation"
      ],
      "metadata": {
        "id": "oC6XnSXaPSYv"
      }
    },
    {
      "cell_type": "markdown",
      "source": [
        "Creando dataframe para trabajar"
      ],
      "metadata": {
        "id": "4uFyaIFRPWWw"
      }
    },
    {
      "cell_type": "code",
      "source": [
        "dft = pd.DataFrame(columns=['Edad','Renta','Indicador_cuenta','subsegmento','PagoNac_T01','PagoNac_T02','PagoNac_T03','PagoNac_T04','PagoNac_T05','Hipotecario'])\n",
        "dft['Edad']=data[\"1.4\"]\n",
        "dft['Renta']=data[\"1.5\"]\n",
        "dft['Indicador_cuenta']=data[\"1.11\"]\n",
        "dft['subsegmento']=data[\"1.1\"]\n",
        "dft['PagoNac_T01']=data[\"1.565\"]\n",
        "dft['PagoNac_T02']=data[\"1.519\"]\n",
        "dft['PagoNac_T03']=data[\"1.473\"]\n",
        "dft['PagoNac_T04']=data[\"1.427\"]\n",
        "dft['PagoNac_T05']=data[\"1.381\"]\n",
        "dft['Hipotecario']=data[\"1.13\"]\n",
        "dft=dft.drop(dft.index[[0]])\n",
        "dft"
      ],
      "metadata": {
        "colab": {
          "base_uri": "https://localhost:8080/",
          "height": 424
        },
        "id": "ARMRtn_hyc0Z",
        "outputId": "9df966ce-dfb5-4765-9021-697816b40c1c"
      },
      "execution_count": null,
      "outputs": [
        {
          "output_type": "execute_result",
          "data": {
            "text/plain": [
              "      Edad   Renta Indicador_cuenta subsegmento PagoNac_T01 PagoNac_T02  \\\n",
              "1       43     NaN                1         160       33000       33000   \n",
              "2       46  143640                1         160      300000       14000   \n",
              "3       45  929106                1         170      216676       25189   \n",
              "4       46  172447                0         151       60000       60000   \n",
              "5       46  805250                1         170      272925      143686   \n",
              "...    ...     ...              ...         ...         ...         ...   \n",
              "51120   51  364978                1         160      300000       50000   \n",
              "51121   51  625376                1         170      166098      173162   \n",
              "51122   47  806220                1         160       18891       14700   \n",
              "51123   47     NaN                1         160       26528       25460   \n",
              "51124   51  840878                1         170       12360        5000   \n",
              "\n",
              "      PagoNac_T03 PagoNac_T04 PagoNac_T05 Hipotecario  \n",
              "1           41000       39000       50000           0  \n",
              "2               0      200000      200000           1  \n",
              "3               0       54138       69822           1  \n",
              "4           60000       60000       50000           0  \n",
              "5          220811      246171      301860           1  \n",
              "...           ...         ...         ...         ...  \n",
              "51120           0       83000           0           0  \n",
              "51121      169661       76775      159171           0  \n",
              "51122       26700       17283       13123           0  \n",
              "51123       61173       18959       35158           0  \n",
              "51124           0           0       18506           0  \n",
              "\n",
              "[51124 rows x 10 columns]"
            ],
            "text/html": [
              "\n",
              "  <div id=\"df-8b7fa6a8-e615-49d9-8f42-cc2554c47b91\">\n",
              "    <div class=\"colab-df-container\">\n",
              "      <div>\n",
              "<style scoped>\n",
              "    .dataframe tbody tr th:only-of-type {\n",
              "        vertical-align: middle;\n",
              "    }\n",
              "\n",
              "    .dataframe tbody tr th {\n",
              "        vertical-align: top;\n",
              "    }\n",
              "\n",
              "    .dataframe thead th {\n",
              "        text-align: right;\n",
              "    }\n",
              "</style>\n",
              "<table border=\"1\" class=\"dataframe\">\n",
              "  <thead>\n",
              "    <tr style=\"text-align: right;\">\n",
              "      <th></th>\n",
              "      <th>Edad</th>\n",
              "      <th>Renta</th>\n",
              "      <th>Indicador_cuenta</th>\n",
              "      <th>subsegmento</th>\n",
              "      <th>PagoNac_T01</th>\n",
              "      <th>PagoNac_T02</th>\n",
              "      <th>PagoNac_T03</th>\n",
              "      <th>PagoNac_T04</th>\n",
              "      <th>PagoNac_T05</th>\n",
              "      <th>Hipotecario</th>\n",
              "    </tr>\n",
              "  </thead>\n",
              "  <tbody>\n",
              "    <tr>\n",
              "      <th>1</th>\n",
              "      <td>43</td>\n",
              "      <td>NaN</td>\n",
              "      <td>1</td>\n",
              "      <td>160</td>\n",
              "      <td>33000</td>\n",
              "      <td>33000</td>\n",
              "      <td>41000</td>\n",
              "      <td>39000</td>\n",
              "      <td>50000</td>\n",
              "      <td>0</td>\n",
              "    </tr>\n",
              "    <tr>\n",
              "      <th>2</th>\n",
              "      <td>46</td>\n",
              "      <td>143640</td>\n",
              "      <td>1</td>\n",
              "      <td>160</td>\n",
              "      <td>300000</td>\n",
              "      <td>14000</td>\n",
              "      <td>0</td>\n",
              "      <td>200000</td>\n",
              "      <td>200000</td>\n",
              "      <td>1</td>\n",
              "    </tr>\n",
              "    <tr>\n",
              "      <th>3</th>\n",
              "      <td>45</td>\n",
              "      <td>929106</td>\n",
              "      <td>1</td>\n",
              "      <td>170</td>\n",
              "      <td>216676</td>\n",
              "      <td>25189</td>\n",
              "      <td>0</td>\n",
              "      <td>54138</td>\n",
              "      <td>69822</td>\n",
              "      <td>1</td>\n",
              "    </tr>\n",
              "    <tr>\n",
              "      <th>4</th>\n",
              "      <td>46</td>\n",
              "      <td>172447</td>\n",
              "      <td>0</td>\n",
              "      <td>151</td>\n",
              "      <td>60000</td>\n",
              "      <td>60000</td>\n",
              "      <td>60000</td>\n",
              "      <td>60000</td>\n",
              "      <td>50000</td>\n",
              "      <td>0</td>\n",
              "    </tr>\n",
              "    <tr>\n",
              "      <th>5</th>\n",
              "      <td>46</td>\n",
              "      <td>805250</td>\n",
              "      <td>1</td>\n",
              "      <td>170</td>\n",
              "      <td>272925</td>\n",
              "      <td>143686</td>\n",
              "      <td>220811</td>\n",
              "      <td>246171</td>\n",
              "      <td>301860</td>\n",
              "      <td>1</td>\n",
              "    </tr>\n",
              "    <tr>\n",
              "      <th>...</th>\n",
              "      <td>...</td>\n",
              "      <td>...</td>\n",
              "      <td>...</td>\n",
              "      <td>...</td>\n",
              "      <td>...</td>\n",
              "      <td>...</td>\n",
              "      <td>...</td>\n",
              "      <td>...</td>\n",
              "      <td>...</td>\n",
              "      <td>...</td>\n",
              "    </tr>\n",
              "    <tr>\n",
              "      <th>51120</th>\n",
              "      <td>51</td>\n",
              "      <td>364978</td>\n",
              "      <td>1</td>\n",
              "      <td>160</td>\n",
              "      <td>300000</td>\n",
              "      <td>50000</td>\n",
              "      <td>0</td>\n",
              "      <td>83000</td>\n",
              "      <td>0</td>\n",
              "      <td>0</td>\n",
              "    </tr>\n",
              "    <tr>\n",
              "      <th>51121</th>\n",
              "      <td>51</td>\n",
              "      <td>625376</td>\n",
              "      <td>1</td>\n",
              "      <td>170</td>\n",
              "      <td>166098</td>\n",
              "      <td>173162</td>\n",
              "      <td>169661</td>\n",
              "      <td>76775</td>\n",
              "      <td>159171</td>\n",
              "      <td>0</td>\n",
              "    </tr>\n",
              "    <tr>\n",
              "      <th>51122</th>\n",
              "      <td>47</td>\n",
              "      <td>806220</td>\n",
              "      <td>1</td>\n",
              "      <td>160</td>\n",
              "      <td>18891</td>\n",
              "      <td>14700</td>\n",
              "      <td>26700</td>\n",
              "      <td>17283</td>\n",
              "      <td>13123</td>\n",
              "      <td>0</td>\n",
              "    </tr>\n",
              "    <tr>\n",
              "      <th>51123</th>\n",
              "      <td>47</td>\n",
              "      <td>NaN</td>\n",
              "      <td>1</td>\n",
              "      <td>160</td>\n",
              "      <td>26528</td>\n",
              "      <td>25460</td>\n",
              "      <td>61173</td>\n",
              "      <td>18959</td>\n",
              "      <td>35158</td>\n",
              "      <td>0</td>\n",
              "    </tr>\n",
              "    <tr>\n",
              "      <th>51124</th>\n",
              "      <td>51</td>\n",
              "      <td>840878</td>\n",
              "      <td>1</td>\n",
              "      <td>170</td>\n",
              "      <td>12360</td>\n",
              "      <td>5000</td>\n",
              "      <td>0</td>\n",
              "      <td>0</td>\n",
              "      <td>18506</td>\n",
              "      <td>0</td>\n",
              "    </tr>\n",
              "  </tbody>\n",
              "</table>\n",
              "<p>51124 rows × 10 columns</p>\n",
              "</div>\n",
              "      <button class=\"colab-df-convert\" onclick=\"convertToInteractive('df-8b7fa6a8-e615-49d9-8f42-cc2554c47b91')\"\n",
              "              title=\"Convert this dataframe to an interactive table.\"\n",
              "              style=\"display:none;\">\n",
              "        \n",
              "  <svg xmlns=\"http://www.w3.org/2000/svg\" height=\"24px\"viewBox=\"0 0 24 24\"\n",
              "       width=\"24px\">\n",
              "    <path d=\"M0 0h24v24H0V0z\" fill=\"none\"/>\n",
              "    <path d=\"M18.56 5.44l.94 2.06.94-2.06 2.06-.94-2.06-.94-.94-2.06-.94 2.06-2.06.94zm-11 1L8.5 8.5l.94-2.06 2.06-.94-2.06-.94L8.5 2.5l-.94 2.06-2.06.94zm10 10l.94 2.06.94-2.06 2.06-.94-2.06-.94-.94-2.06-.94 2.06-2.06.94z\"/><path d=\"M17.41 7.96l-1.37-1.37c-.4-.4-.92-.59-1.43-.59-.52 0-1.04.2-1.43.59L10.3 9.45l-7.72 7.72c-.78.78-.78 2.05 0 2.83L4 21.41c.39.39.9.59 1.41.59.51 0 1.02-.2 1.41-.59l7.78-7.78 2.81-2.81c.8-.78.8-2.07 0-2.86zM5.41 20L4 18.59l7.72-7.72 1.47 1.35L5.41 20z\"/>\n",
              "  </svg>\n",
              "      </button>\n",
              "      \n",
              "  <style>\n",
              "    .colab-df-container {\n",
              "      display:flex;\n",
              "      flex-wrap:wrap;\n",
              "      gap: 12px;\n",
              "    }\n",
              "\n",
              "    .colab-df-convert {\n",
              "      background-color: #E8F0FE;\n",
              "      border: none;\n",
              "      border-radius: 50%;\n",
              "      cursor: pointer;\n",
              "      display: none;\n",
              "      fill: #1967D2;\n",
              "      height: 32px;\n",
              "      padding: 0 0 0 0;\n",
              "      width: 32px;\n",
              "    }\n",
              "\n",
              "    .colab-df-convert:hover {\n",
              "      background-color: #E2EBFA;\n",
              "      box-shadow: 0px 1px 2px rgba(60, 64, 67, 0.3), 0px 1px 3px 1px rgba(60, 64, 67, 0.15);\n",
              "      fill: #174EA6;\n",
              "    }\n",
              "\n",
              "    [theme=dark] .colab-df-convert {\n",
              "      background-color: #3B4455;\n",
              "      fill: #D2E3FC;\n",
              "    }\n",
              "\n",
              "    [theme=dark] .colab-df-convert:hover {\n",
              "      background-color: #434B5C;\n",
              "      box-shadow: 0px 1px 3px 1px rgba(0, 0, 0, 0.15);\n",
              "      filter: drop-shadow(0px 1px 2px rgba(0, 0, 0, 0.3));\n",
              "      fill: #FFFFFF;\n",
              "    }\n",
              "  </style>\n",
              "\n",
              "      <script>\n",
              "        const buttonEl =\n",
              "          document.querySelector('#df-8b7fa6a8-e615-49d9-8f42-cc2554c47b91 button.colab-df-convert');\n",
              "        buttonEl.style.display =\n",
              "          google.colab.kernel.accessAllowed ? 'block' : 'none';\n",
              "\n",
              "        async function convertToInteractive(key) {\n",
              "          const element = document.querySelector('#df-8b7fa6a8-e615-49d9-8f42-cc2554c47b91');\n",
              "          const dataTable =\n",
              "            await google.colab.kernel.invokeFunction('convertToInteractive',\n",
              "                                                     [key], {});\n",
              "          if (!dataTable) return;\n",
              "\n",
              "          const docLinkHtml = 'Like what you see? Visit the ' +\n",
              "            '<a target=\"_blank\" href=https://colab.research.google.com/notebooks/data_table.ipynb>data table notebook</a>'\n",
              "            + ' to learn more about interactive tables.';\n",
              "          element.innerHTML = '';\n",
              "          dataTable['output_type'] = 'display_data';\n",
              "          await google.colab.output.renderOutput(dataTable, element);\n",
              "          const docLink = document.createElement('div');\n",
              "          docLink.innerHTML = docLinkHtml;\n",
              "          element.appendChild(docLink);\n",
              "        }\n",
              "      </script>\n",
              "    </div>\n",
              "  </div>\n",
              "  "
            ]
          },
          "metadata": {},
          "execution_count": 28
        }
      ]
    },
    {
      "cell_type": "code",
      "source": [
        "from sklearn.impute import KNNImputer\n",
        "\n",
        "knn = KNNImputer(n_neighbors=10)\n",
        "neighbors = knn.fit_transform(dft)\n",
        "\n",
        "columnas= dft.columns\n",
        "dft_nei = pd.DataFrame(neighbors, columns=columnas)\n",
        "dft_nei"
      ],
      "metadata": {
        "id": "K_D-xvqjNN7R",
        "colab": {
          "base_uri": "https://localhost:8080/",
          "height": 424
        },
        "outputId": "1c7c07c4-36e5-4b29-d3e1-f8f3a232098f"
      },
      "execution_count": null,
      "outputs": [
        {
          "output_type": "execute_result",
          "data": {
            "text/plain": [
              "       Edad     Renta  Indicador_cuenta  subsegmento  PagoNac_T01  \\\n",
              "0      43.0  626214.2               1.0        160.0      33000.0   \n",
              "1      46.0  143640.0               1.0        160.0     300000.0   \n",
              "2      45.0  929106.0               1.0        170.0     216676.0   \n",
              "3      46.0  172447.0               0.0        151.0      60000.0   \n",
              "4      46.0  805250.0               1.0        170.0     272925.0   \n",
              "...     ...       ...               ...          ...          ...   \n",
              "51119  51.0  364978.0               1.0        160.0     300000.0   \n",
              "51120  51.0  625376.0               1.0        170.0     166098.0   \n",
              "51121  47.0  806220.0               1.0        160.0      18891.0   \n",
              "51122  47.0  649221.2               1.0        160.0      26528.0   \n",
              "51123  51.0  840878.0               1.0        170.0      12360.0   \n",
              "\n",
              "       PagoNac_T02  PagoNac_T03  PagoNac_T04  PagoNac_T05  Hipotecario  \n",
              "0          33000.0      41000.0      39000.0      50000.0          0.0  \n",
              "1          14000.0          0.0     200000.0     200000.0          1.0  \n",
              "2          25189.0          0.0      54138.0      69822.0          1.0  \n",
              "3          60000.0      60000.0      60000.0      50000.0          0.0  \n",
              "4         143686.0     220811.0     246171.0     301860.0          1.0  \n",
              "...            ...          ...          ...          ...          ...  \n",
              "51119      50000.0          0.0      83000.0          0.0          0.0  \n",
              "51120     173162.0     169661.0      76775.0     159171.0          0.0  \n",
              "51121      14700.0      26700.0      17283.0      13123.0          0.0  \n",
              "51122      25460.0      61173.0      18959.0      35158.0          0.0  \n",
              "51123       5000.0          0.0          0.0      18506.0          0.0  \n",
              "\n",
              "[51124 rows x 10 columns]"
            ],
            "text/html": [
              "\n",
              "  <div id=\"df-30aa8d32-2a2b-4256-bfed-243a7c01977e\">\n",
              "    <div class=\"colab-df-container\">\n",
              "      <div>\n",
              "<style scoped>\n",
              "    .dataframe tbody tr th:only-of-type {\n",
              "        vertical-align: middle;\n",
              "    }\n",
              "\n",
              "    .dataframe tbody tr th {\n",
              "        vertical-align: top;\n",
              "    }\n",
              "\n",
              "    .dataframe thead th {\n",
              "        text-align: right;\n",
              "    }\n",
              "</style>\n",
              "<table border=\"1\" class=\"dataframe\">\n",
              "  <thead>\n",
              "    <tr style=\"text-align: right;\">\n",
              "      <th></th>\n",
              "      <th>Edad</th>\n",
              "      <th>Renta</th>\n",
              "      <th>Indicador_cuenta</th>\n",
              "      <th>subsegmento</th>\n",
              "      <th>PagoNac_T01</th>\n",
              "      <th>PagoNac_T02</th>\n",
              "      <th>PagoNac_T03</th>\n",
              "      <th>PagoNac_T04</th>\n",
              "      <th>PagoNac_T05</th>\n",
              "      <th>Hipotecario</th>\n",
              "    </tr>\n",
              "  </thead>\n",
              "  <tbody>\n",
              "    <tr>\n",
              "      <th>0</th>\n",
              "      <td>43.0</td>\n",
              "      <td>626214.2</td>\n",
              "      <td>1.0</td>\n",
              "      <td>160.0</td>\n",
              "      <td>33000.0</td>\n",
              "      <td>33000.0</td>\n",
              "      <td>41000.0</td>\n",
              "      <td>39000.0</td>\n",
              "      <td>50000.0</td>\n",
              "      <td>0.0</td>\n",
              "    </tr>\n",
              "    <tr>\n",
              "      <th>1</th>\n",
              "      <td>46.0</td>\n",
              "      <td>143640.0</td>\n",
              "      <td>1.0</td>\n",
              "      <td>160.0</td>\n",
              "      <td>300000.0</td>\n",
              "      <td>14000.0</td>\n",
              "      <td>0.0</td>\n",
              "      <td>200000.0</td>\n",
              "      <td>200000.0</td>\n",
              "      <td>1.0</td>\n",
              "    </tr>\n",
              "    <tr>\n",
              "      <th>2</th>\n",
              "      <td>45.0</td>\n",
              "      <td>929106.0</td>\n",
              "      <td>1.0</td>\n",
              "      <td>170.0</td>\n",
              "      <td>216676.0</td>\n",
              "      <td>25189.0</td>\n",
              "      <td>0.0</td>\n",
              "      <td>54138.0</td>\n",
              "      <td>69822.0</td>\n",
              "      <td>1.0</td>\n",
              "    </tr>\n",
              "    <tr>\n",
              "      <th>3</th>\n",
              "      <td>46.0</td>\n",
              "      <td>172447.0</td>\n",
              "      <td>0.0</td>\n",
              "      <td>151.0</td>\n",
              "      <td>60000.0</td>\n",
              "      <td>60000.0</td>\n",
              "      <td>60000.0</td>\n",
              "      <td>60000.0</td>\n",
              "      <td>50000.0</td>\n",
              "      <td>0.0</td>\n",
              "    </tr>\n",
              "    <tr>\n",
              "      <th>4</th>\n",
              "      <td>46.0</td>\n",
              "      <td>805250.0</td>\n",
              "      <td>1.0</td>\n",
              "      <td>170.0</td>\n",
              "      <td>272925.0</td>\n",
              "      <td>143686.0</td>\n",
              "      <td>220811.0</td>\n",
              "      <td>246171.0</td>\n",
              "      <td>301860.0</td>\n",
              "      <td>1.0</td>\n",
              "    </tr>\n",
              "    <tr>\n",
              "      <th>...</th>\n",
              "      <td>...</td>\n",
              "      <td>...</td>\n",
              "      <td>...</td>\n",
              "      <td>...</td>\n",
              "      <td>...</td>\n",
              "      <td>...</td>\n",
              "      <td>...</td>\n",
              "      <td>...</td>\n",
              "      <td>...</td>\n",
              "      <td>...</td>\n",
              "    </tr>\n",
              "    <tr>\n",
              "      <th>51119</th>\n",
              "      <td>51.0</td>\n",
              "      <td>364978.0</td>\n",
              "      <td>1.0</td>\n",
              "      <td>160.0</td>\n",
              "      <td>300000.0</td>\n",
              "      <td>50000.0</td>\n",
              "      <td>0.0</td>\n",
              "      <td>83000.0</td>\n",
              "      <td>0.0</td>\n",
              "      <td>0.0</td>\n",
              "    </tr>\n",
              "    <tr>\n",
              "      <th>51120</th>\n",
              "      <td>51.0</td>\n",
              "      <td>625376.0</td>\n",
              "      <td>1.0</td>\n",
              "      <td>170.0</td>\n",
              "      <td>166098.0</td>\n",
              "      <td>173162.0</td>\n",
              "      <td>169661.0</td>\n",
              "      <td>76775.0</td>\n",
              "      <td>159171.0</td>\n",
              "      <td>0.0</td>\n",
              "    </tr>\n",
              "    <tr>\n",
              "      <th>51121</th>\n",
              "      <td>47.0</td>\n",
              "      <td>806220.0</td>\n",
              "      <td>1.0</td>\n",
              "      <td>160.0</td>\n",
              "      <td>18891.0</td>\n",
              "      <td>14700.0</td>\n",
              "      <td>26700.0</td>\n",
              "      <td>17283.0</td>\n",
              "      <td>13123.0</td>\n",
              "      <td>0.0</td>\n",
              "    </tr>\n",
              "    <tr>\n",
              "      <th>51122</th>\n",
              "      <td>47.0</td>\n",
              "      <td>649221.2</td>\n",
              "      <td>1.0</td>\n",
              "      <td>160.0</td>\n",
              "      <td>26528.0</td>\n",
              "      <td>25460.0</td>\n",
              "      <td>61173.0</td>\n",
              "      <td>18959.0</td>\n",
              "      <td>35158.0</td>\n",
              "      <td>0.0</td>\n",
              "    </tr>\n",
              "    <tr>\n",
              "      <th>51123</th>\n",
              "      <td>51.0</td>\n",
              "      <td>840878.0</td>\n",
              "      <td>1.0</td>\n",
              "      <td>170.0</td>\n",
              "      <td>12360.0</td>\n",
              "      <td>5000.0</td>\n",
              "      <td>0.0</td>\n",
              "      <td>0.0</td>\n",
              "      <td>18506.0</td>\n",
              "      <td>0.0</td>\n",
              "    </tr>\n",
              "  </tbody>\n",
              "</table>\n",
              "<p>51124 rows × 10 columns</p>\n",
              "</div>\n",
              "      <button class=\"colab-df-convert\" onclick=\"convertToInteractive('df-30aa8d32-2a2b-4256-bfed-243a7c01977e')\"\n",
              "              title=\"Convert this dataframe to an interactive table.\"\n",
              "              style=\"display:none;\">\n",
              "        \n",
              "  <svg xmlns=\"http://www.w3.org/2000/svg\" height=\"24px\"viewBox=\"0 0 24 24\"\n",
              "       width=\"24px\">\n",
              "    <path d=\"M0 0h24v24H0V0z\" fill=\"none\"/>\n",
              "    <path d=\"M18.56 5.44l.94 2.06.94-2.06 2.06-.94-2.06-.94-.94-2.06-.94 2.06-2.06.94zm-11 1L8.5 8.5l.94-2.06 2.06-.94-2.06-.94L8.5 2.5l-.94 2.06-2.06.94zm10 10l.94 2.06.94-2.06 2.06-.94-2.06-.94-.94-2.06-.94 2.06-2.06.94z\"/><path d=\"M17.41 7.96l-1.37-1.37c-.4-.4-.92-.59-1.43-.59-.52 0-1.04.2-1.43.59L10.3 9.45l-7.72 7.72c-.78.78-.78 2.05 0 2.83L4 21.41c.39.39.9.59 1.41.59.51 0 1.02-.2 1.41-.59l7.78-7.78 2.81-2.81c.8-.78.8-2.07 0-2.86zM5.41 20L4 18.59l7.72-7.72 1.47 1.35L5.41 20z\"/>\n",
              "  </svg>\n",
              "      </button>\n",
              "      \n",
              "  <style>\n",
              "    .colab-df-container {\n",
              "      display:flex;\n",
              "      flex-wrap:wrap;\n",
              "      gap: 12px;\n",
              "    }\n",
              "\n",
              "    .colab-df-convert {\n",
              "      background-color: #E8F0FE;\n",
              "      border: none;\n",
              "      border-radius: 50%;\n",
              "      cursor: pointer;\n",
              "      display: none;\n",
              "      fill: #1967D2;\n",
              "      height: 32px;\n",
              "      padding: 0 0 0 0;\n",
              "      width: 32px;\n",
              "    }\n",
              "\n",
              "    .colab-df-convert:hover {\n",
              "      background-color: #E2EBFA;\n",
              "      box-shadow: 0px 1px 2px rgba(60, 64, 67, 0.3), 0px 1px 3px 1px rgba(60, 64, 67, 0.15);\n",
              "      fill: #174EA6;\n",
              "    }\n",
              "\n",
              "    [theme=dark] .colab-df-convert {\n",
              "      background-color: #3B4455;\n",
              "      fill: #D2E3FC;\n",
              "    }\n",
              "\n",
              "    [theme=dark] .colab-df-convert:hover {\n",
              "      background-color: #434B5C;\n",
              "      box-shadow: 0px 1px 3px 1px rgba(0, 0, 0, 0.15);\n",
              "      filter: drop-shadow(0px 1px 2px rgba(0, 0, 0, 0.3));\n",
              "      fill: #FFFFFF;\n",
              "    }\n",
              "  </style>\n",
              "\n",
              "      <script>\n",
              "        const buttonEl =\n",
              "          document.querySelector('#df-30aa8d32-2a2b-4256-bfed-243a7c01977e button.colab-df-convert');\n",
              "        buttonEl.style.display =\n",
              "          google.colab.kernel.accessAllowed ? 'block' : 'none';\n",
              "\n",
              "        async function convertToInteractive(key) {\n",
              "          const element = document.querySelector('#df-30aa8d32-2a2b-4256-bfed-243a7c01977e');\n",
              "          const dataTable =\n",
              "            await google.colab.kernel.invokeFunction('convertToInteractive',\n",
              "                                                     [key], {});\n",
              "          if (!dataTable) return;\n",
              "\n",
              "          const docLinkHtml = 'Like what you see? Visit the ' +\n",
              "            '<a target=\"_blank\" href=https://colab.research.google.com/notebooks/data_table.ipynb>data table notebook</a>'\n",
              "            + ' to learn more about interactive tables.';\n",
              "          element.innerHTML = '';\n",
              "          dataTable['output_type'] = 'display_data';\n",
              "          await google.colab.output.renderOutput(dataTable, element);\n",
              "          const docLink = document.createElement('div');\n",
              "          docLink.innerHTML = docLinkHtml;\n",
              "          element.appendChild(docLink);\n",
              "        }\n",
              "      </script>\n",
              "    </div>\n",
              "  </div>\n",
              "  "
            ]
          },
          "metadata": {},
          "execution_count": 29
        }
      ]
    },
    {
      "cell_type": "markdown",
      "source": [
        "Nosotros decidimos usar el método de reemplazo según los vecinos en nuestro dataframe.\n",
        "\n",
        "Decidimos esto ya que la mayoría de los valores nulos que se encuentran en nuestro dataframe son relacionados con la renta del individuo y estos datos se pueden reemplazar, porque se relacionan con la edad, si es que tiene un crédito hipotecario, su subsegmento y el monto pagado en la renta nacional, así siendo el mejor método de reemplazo que podemos utilizar."
      ],
      "metadata": {
        "id": "TVS4i9cQPkrE"
      }
    },
    {
      "cell_type": "code",
      "source": [
        "dft_nei"
      ],
      "metadata": {
        "colab": {
          "base_uri": "https://localhost:8080/",
          "height": 424
        },
        "id": "0gGQe91FMO1a",
        "outputId": "e673cac6-1298-4e6c-80b7-de444fc0e5c8"
      },
      "execution_count": null,
      "outputs": [
        {
          "output_type": "execute_result",
          "data": {
            "text/plain": [
              "       Edad     Renta  Indicador_cuenta  subsegmento  PagoNac_T01  \\\n",
              "0      43.0  626214.2               1.0        160.0      33000.0   \n",
              "1      46.0  143640.0               1.0        160.0     300000.0   \n",
              "2      45.0  929106.0               1.0        170.0     216676.0   \n",
              "3      46.0  172447.0               0.0        151.0      60000.0   \n",
              "4      46.0  805250.0               1.0        170.0     272925.0   \n",
              "...     ...       ...               ...          ...          ...   \n",
              "51119  51.0  364978.0               1.0        160.0     300000.0   \n",
              "51120  51.0  625376.0               1.0        170.0     166098.0   \n",
              "51121  47.0  806220.0               1.0        160.0      18891.0   \n",
              "51122  47.0  649221.2               1.0        160.0      26528.0   \n",
              "51123  51.0  840878.0               1.0        170.0      12360.0   \n",
              "\n",
              "       PagoNac_T02  PagoNac_T03  PagoNac_T04  PagoNac_T05  Hipotecario  \n",
              "0          33000.0      41000.0      39000.0      50000.0          0.0  \n",
              "1          14000.0          0.0     200000.0     200000.0          1.0  \n",
              "2          25189.0          0.0      54138.0      69822.0          1.0  \n",
              "3          60000.0      60000.0      60000.0      50000.0          0.0  \n",
              "4         143686.0     220811.0     246171.0     301860.0          1.0  \n",
              "...            ...          ...          ...          ...          ...  \n",
              "51119      50000.0          0.0      83000.0          0.0          0.0  \n",
              "51120     173162.0     169661.0      76775.0     159171.0          0.0  \n",
              "51121      14700.0      26700.0      17283.0      13123.0          0.0  \n",
              "51122      25460.0      61173.0      18959.0      35158.0          0.0  \n",
              "51123       5000.0          0.0          0.0      18506.0          0.0  \n",
              "\n",
              "[51124 rows x 10 columns]"
            ],
            "text/html": [
              "\n",
              "  <div id=\"df-5e80829c-1d28-4e33-9e8b-ae4385d562af\">\n",
              "    <div class=\"colab-df-container\">\n",
              "      <div>\n",
              "<style scoped>\n",
              "    .dataframe tbody tr th:only-of-type {\n",
              "        vertical-align: middle;\n",
              "    }\n",
              "\n",
              "    .dataframe tbody tr th {\n",
              "        vertical-align: top;\n",
              "    }\n",
              "\n",
              "    .dataframe thead th {\n",
              "        text-align: right;\n",
              "    }\n",
              "</style>\n",
              "<table border=\"1\" class=\"dataframe\">\n",
              "  <thead>\n",
              "    <tr style=\"text-align: right;\">\n",
              "      <th></th>\n",
              "      <th>Edad</th>\n",
              "      <th>Renta</th>\n",
              "      <th>Indicador_cuenta</th>\n",
              "      <th>subsegmento</th>\n",
              "      <th>PagoNac_T01</th>\n",
              "      <th>PagoNac_T02</th>\n",
              "      <th>PagoNac_T03</th>\n",
              "      <th>PagoNac_T04</th>\n",
              "      <th>PagoNac_T05</th>\n",
              "      <th>Hipotecario</th>\n",
              "    </tr>\n",
              "  </thead>\n",
              "  <tbody>\n",
              "    <tr>\n",
              "      <th>0</th>\n",
              "      <td>43.0</td>\n",
              "      <td>626214.2</td>\n",
              "      <td>1.0</td>\n",
              "      <td>160.0</td>\n",
              "      <td>33000.0</td>\n",
              "      <td>33000.0</td>\n",
              "      <td>41000.0</td>\n",
              "      <td>39000.0</td>\n",
              "      <td>50000.0</td>\n",
              "      <td>0.0</td>\n",
              "    </tr>\n",
              "    <tr>\n",
              "      <th>1</th>\n",
              "      <td>46.0</td>\n",
              "      <td>143640.0</td>\n",
              "      <td>1.0</td>\n",
              "      <td>160.0</td>\n",
              "      <td>300000.0</td>\n",
              "      <td>14000.0</td>\n",
              "      <td>0.0</td>\n",
              "      <td>200000.0</td>\n",
              "      <td>200000.0</td>\n",
              "      <td>1.0</td>\n",
              "    </tr>\n",
              "    <tr>\n",
              "      <th>2</th>\n",
              "      <td>45.0</td>\n",
              "      <td>929106.0</td>\n",
              "      <td>1.0</td>\n",
              "      <td>170.0</td>\n",
              "      <td>216676.0</td>\n",
              "      <td>25189.0</td>\n",
              "      <td>0.0</td>\n",
              "      <td>54138.0</td>\n",
              "      <td>69822.0</td>\n",
              "      <td>1.0</td>\n",
              "    </tr>\n",
              "    <tr>\n",
              "      <th>3</th>\n",
              "      <td>46.0</td>\n",
              "      <td>172447.0</td>\n",
              "      <td>0.0</td>\n",
              "      <td>151.0</td>\n",
              "      <td>60000.0</td>\n",
              "      <td>60000.0</td>\n",
              "      <td>60000.0</td>\n",
              "      <td>60000.0</td>\n",
              "      <td>50000.0</td>\n",
              "      <td>0.0</td>\n",
              "    </tr>\n",
              "    <tr>\n",
              "      <th>4</th>\n",
              "      <td>46.0</td>\n",
              "      <td>805250.0</td>\n",
              "      <td>1.0</td>\n",
              "      <td>170.0</td>\n",
              "      <td>272925.0</td>\n",
              "      <td>143686.0</td>\n",
              "      <td>220811.0</td>\n",
              "      <td>246171.0</td>\n",
              "      <td>301860.0</td>\n",
              "      <td>1.0</td>\n",
              "    </tr>\n",
              "    <tr>\n",
              "      <th>...</th>\n",
              "      <td>...</td>\n",
              "      <td>...</td>\n",
              "      <td>...</td>\n",
              "      <td>...</td>\n",
              "      <td>...</td>\n",
              "      <td>...</td>\n",
              "      <td>...</td>\n",
              "      <td>...</td>\n",
              "      <td>...</td>\n",
              "      <td>...</td>\n",
              "    </tr>\n",
              "    <tr>\n",
              "      <th>51119</th>\n",
              "      <td>51.0</td>\n",
              "      <td>364978.0</td>\n",
              "      <td>1.0</td>\n",
              "      <td>160.0</td>\n",
              "      <td>300000.0</td>\n",
              "      <td>50000.0</td>\n",
              "      <td>0.0</td>\n",
              "      <td>83000.0</td>\n",
              "      <td>0.0</td>\n",
              "      <td>0.0</td>\n",
              "    </tr>\n",
              "    <tr>\n",
              "      <th>51120</th>\n",
              "      <td>51.0</td>\n",
              "      <td>625376.0</td>\n",
              "      <td>1.0</td>\n",
              "      <td>170.0</td>\n",
              "      <td>166098.0</td>\n",
              "      <td>173162.0</td>\n",
              "      <td>169661.0</td>\n",
              "      <td>76775.0</td>\n",
              "      <td>159171.0</td>\n",
              "      <td>0.0</td>\n",
              "    </tr>\n",
              "    <tr>\n",
              "      <th>51121</th>\n",
              "      <td>47.0</td>\n",
              "      <td>806220.0</td>\n",
              "      <td>1.0</td>\n",
              "      <td>160.0</td>\n",
              "      <td>18891.0</td>\n",
              "      <td>14700.0</td>\n",
              "      <td>26700.0</td>\n",
              "      <td>17283.0</td>\n",
              "      <td>13123.0</td>\n",
              "      <td>0.0</td>\n",
              "    </tr>\n",
              "    <tr>\n",
              "      <th>51122</th>\n",
              "      <td>47.0</td>\n",
              "      <td>649221.2</td>\n",
              "      <td>1.0</td>\n",
              "      <td>160.0</td>\n",
              "      <td>26528.0</td>\n",
              "      <td>25460.0</td>\n",
              "      <td>61173.0</td>\n",
              "      <td>18959.0</td>\n",
              "      <td>35158.0</td>\n",
              "      <td>0.0</td>\n",
              "    </tr>\n",
              "    <tr>\n",
              "      <th>51123</th>\n",
              "      <td>51.0</td>\n",
              "      <td>840878.0</td>\n",
              "      <td>1.0</td>\n",
              "      <td>170.0</td>\n",
              "      <td>12360.0</td>\n",
              "      <td>5000.0</td>\n",
              "      <td>0.0</td>\n",
              "      <td>0.0</td>\n",
              "      <td>18506.0</td>\n",
              "      <td>0.0</td>\n",
              "    </tr>\n",
              "  </tbody>\n",
              "</table>\n",
              "<p>51124 rows × 10 columns</p>\n",
              "</div>\n",
              "      <button class=\"colab-df-convert\" onclick=\"convertToInteractive('df-5e80829c-1d28-4e33-9e8b-ae4385d562af')\"\n",
              "              title=\"Convert this dataframe to an interactive table.\"\n",
              "              style=\"display:none;\">\n",
              "        \n",
              "  <svg xmlns=\"http://www.w3.org/2000/svg\" height=\"24px\"viewBox=\"0 0 24 24\"\n",
              "       width=\"24px\">\n",
              "    <path d=\"M0 0h24v24H0V0z\" fill=\"none\"/>\n",
              "    <path d=\"M18.56 5.44l.94 2.06.94-2.06 2.06-.94-2.06-.94-.94-2.06-.94 2.06-2.06.94zm-11 1L8.5 8.5l.94-2.06 2.06-.94-2.06-.94L8.5 2.5l-.94 2.06-2.06.94zm10 10l.94 2.06.94-2.06 2.06-.94-2.06-.94-.94-2.06-.94 2.06-2.06.94z\"/><path d=\"M17.41 7.96l-1.37-1.37c-.4-.4-.92-.59-1.43-.59-.52 0-1.04.2-1.43.59L10.3 9.45l-7.72 7.72c-.78.78-.78 2.05 0 2.83L4 21.41c.39.39.9.59 1.41.59.51 0 1.02-.2 1.41-.59l7.78-7.78 2.81-2.81c.8-.78.8-2.07 0-2.86zM5.41 20L4 18.59l7.72-7.72 1.47 1.35L5.41 20z\"/>\n",
              "  </svg>\n",
              "      </button>\n",
              "      \n",
              "  <style>\n",
              "    .colab-df-container {\n",
              "      display:flex;\n",
              "      flex-wrap:wrap;\n",
              "      gap: 12px;\n",
              "    }\n",
              "\n",
              "    .colab-df-convert {\n",
              "      background-color: #E8F0FE;\n",
              "      border: none;\n",
              "      border-radius: 50%;\n",
              "      cursor: pointer;\n",
              "      display: none;\n",
              "      fill: #1967D2;\n",
              "      height: 32px;\n",
              "      padding: 0 0 0 0;\n",
              "      width: 32px;\n",
              "    }\n",
              "\n",
              "    .colab-df-convert:hover {\n",
              "      background-color: #E2EBFA;\n",
              "      box-shadow: 0px 1px 2px rgba(60, 64, 67, 0.3), 0px 1px 3px 1px rgba(60, 64, 67, 0.15);\n",
              "      fill: #174EA6;\n",
              "    }\n",
              "\n",
              "    [theme=dark] .colab-df-convert {\n",
              "      background-color: #3B4455;\n",
              "      fill: #D2E3FC;\n",
              "    }\n",
              "\n",
              "    [theme=dark] .colab-df-convert:hover {\n",
              "      background-color: #434B5C;\n",
              "      box-shadow: 0px 1px 3px 1px rgba(0, 0, 0, 0.15);\n",
              "      filter: drop-shadow(0px 1px 2px rgba(0, 0, 0, 0.3));\n",
              "      fill: #FFFFFF;\n",
              "    }\n",
              "  </style>\n",
              "\n",
              "      <script>\n",
              "        const buttonEl =\n",
              "          document.querySelector('#df-5e80829c-1d28-4e33-9e8b-ae4385d562af button.colab-df-convert');\n",
              "        buttonEl.style.display =\n",
              "          google.colab.kernel.accessAllowed ? 'block' : 'none';\n",
              "\n",
              "        async function convertToInteractive(key) {\n",
              "          const element = document.querySelector('#df-5e80829c-1d28-4e33-9e8b-ae4385d562af');\n",
              "          const dataTable =\n",
              "            await google.colab.kernel.invokeFunction('convertToInteractive',\n",
              "                                                     [key], {});\n",
              "          if (!dataTable) return;\n",
              "\n",
              "          const docLinkHtml = 'Like what you see? Visit the ' +\n",
              "            '<a target=\"_blank\" href=https://colab.research.google.com/notebooks/data_table.ipynb>data table notebook</a>'\n",
              "            + ' to learn more about interactive tables.';\n",
              "          element.innerHTML = '';\n",
              "          dataTable['output_type'] = 'display_data';\n",
              "          await google.colab.output.renderOutput(dataTable, element);\n",
              "          const docLink = document.createElement('div');\n",
              "          docLink.innerHTML = docLinkHtml;\n",
              "          element.appendChild(docLink);\n",
              "        }\n",
              "      </script>\n",
              "    </div>\n",
              "  </div>\n",
              "  "
            ]
          },
          "metadata": {},
          "execution_count": 30
        }
      ]
    },
    {
      "cell_type": "markdown",
      "source": [
        "Cambiado los valores a números enteros"
      ],
      "metadata": {
        "id": "mKRLlXJwR5WB"
      }
    },
    {
      "cell_type": "code",
      "source": [
        "dft_nei = dft_nei.astype(int)\n",
        "dft_nei"
      ],
      "metadata": {
        "colab": {
          "base_uri": "https://localhost:8080/",
          "height": 424
        },
        "id": "2QJTmcPnPaOC",
        "outputId": "1aae1e92-3642-48fe-d6c7-af0992e794e1"
      },
      "execution_count": null,
      "outputs": [
        {
          "output_type": "execute_result",
          "data": {
            "text/plain": [
              "       Edad   Renta  Indicador_cuenta  subsegmento  PagoNac_T01  PagoNac_T02  \\\n",
              "0        43  626214                 1          160        33000        33000   \n",
              "1        46  143640                 1          160       300000        14000   \n",
              "2        45  929106                 1          170       216676        25189   \n",
              "3        46  172447                 0          151        60000        60000   \n",
              "4        46  805250                 1          170       272925       143686   \n",
              "...     ...     ...               ...          ...          ...          ...   \n",
              "51119    51  364978                 1          160       300000        50000   \n",
              "51120    51  625376                 1          170       166098       173162   \n",
              "51121    47  806220                 1          160        18891        14700   \n",
              "51122    47  649221                 1          160        26528        25460   \n",
              "51123    51  840878                 1          170        12360         5000   \n",
              "\n",
              "       PagoNac_T03  PagoNac_T04  PagoNac_T05  Hipotecario  \n",
              "0            41000        39000        50000            0  \n",
              "1                0       200000       200000            1  \n",
              "2                0        54138        69822            1  \n",
              "3            60000        60000        50000            0  \n",
              "4           220811       246171       301860            1  \n",
              "...            ...          ...          ...          ...  \n",
              "51119            0        83000            0            0  \n",
              "51120       169661        76775       159171            0  \n",
              "51121        26700        17283        13123            0  \n",
              "51122        61173        18959        35158            0  \n",
              "51123            0            0        18506            0  \n",
              "\n",
              "[51124 rows x 10 columns]"
            ],
            "text/html": [
              "\n",
              "  <div id=\"df-fdaafac3-29eb-45fe-be34-fb46202ca453\">\n",
              "    <div class=\"colab-df-container\">\n",
              "      <div>\n",
              "<style scoped>\n",
              "    .dataframe tbody tr th:only-of-type {\n",
              "        vertical-align: middle;\n",
              "    }\n",
              "\n",
              "    .dataframe tbody tr th {\n",
              "        vertical-align: top;\n",
              "    }\n",
              "\n",
              "    .dataframe thead th {\n",
              "        text-align: right;\n",
              "    }\n",
              "</style>\n",
              "<table border=\"1\" class=\"dataframe\">\n",
              "  <thead>\n",
              "    <tr style=\"text-align: right;\">\n",
              "      <th></th>\n",
              "      <th>Edad</th>\n",
              "      <th>Renta</th>\n",
              "      <th>Indicador_cuenta</th>\n",
              "      <th>subsegmento</th>\n",
              "      <th>PagoNac_T01</th>\n",
              "      <th>PagoNac_T02</th>\n",
              "      <th>PagoNac_T03</th>\n",
              "      <th>PagoNac_T04</th>\n",
              "      <th>PagoNac_T05</th>\n",
              "      <th>Hipotecario</th>\n",
              "    </tr>\n",
              "  </thead>\n",
              "  <tbody>\n",
              "    <tr>\n",
              "      <th>0</th>\n",
              "      <td>43</td>\n",
              "      <td>626214</td>\n",
              "      <td>1</td>\n",
              "      <td>160</td>\n",
              "      <td>33000</td>\n",
              "      <td>33000</td>\n",
              "      <td>41000</td>\n",
              "      <td>39000</td>\n",
              "      <td>50000</td>\n",
              "      <td>0</td>\n",
              "    </tr>\n",
              "    <tr>\n",
              "      <th>1</th>\n",
              "      <td>46</td>\n",
              "      <td>143640</td>\n",
              "      <td>1</td>\n",
              "      <td>160</td>\n",
              "      <td>300000</td>\n",
              "      <td>14000</td>\n",
              "      <td>0</td>\n",
              "      <td>200000</td>\n",
              "      <td>200000</td>\n",
              "      <td>1</td>\n",
              "    </tr>\n",
              "    <tr>\n",
              "      <th>2</th>\n",
              "      <td>45</td>\n",
              "      <td>929106</td>\n",
              "      <td>1</td>\n",
              "      <td>170</td>\n",
              "      <td>216676</td>\n",
              "      <td>25189</td>\n",
              "      <td>0</td>\n",
              "      <td>54138</td>\n",
              "      <td>69822</td>\n",
              "      <td>1</td>\n",
              "    </tr>\n",
              "    <tr>\n",
              "      <th>3</th>\n",
              "      <td>46</td>\n",
              "      <td>172447</td>\n",
              "      <td>0</td>\n",
              "      <td>151</td>\n",
              "      <td>60000</td>\n",
              "      <td>60000</td>\n",
              "      <td>60000</td>\n",
              "      <td>60000</td>\n",
              "      <td>50000</td>\n",
              "      <td>0</td>\n",
              "    </tr>\n",
              "    <tr>\n",
              "      <th>4</th>\n",
              "      <td>46</td>\n",
              "      <td>805250</td>\n",
              "      <td>1</td>\n",
              "      <td>170</td>\n",
              "      <td>272925</td>\n",
              "      <td>143686</td>\n",
              "      <td>220811</td>\n",
              "      <td>246171</td>\n",
              "      <td>301860</td>\n",
              "      <td>1</td>\n",
              "    </tr>\n",
              "    <tr>\n",
              "      <th>...</th>\n",
              "      <td>...</td>\n",
              "      <td>...</td>\n",
              "      <td>...</td>\n",
              "      <td>...</td>\n",
              "      <td>...</td>\n",
              "      <td>...</td>\n",
              "      <td>...</td>\n",
              "      <td>...</td>\n",
              "      <td>...</td>\n",
              "      <td>...</td>\n",
              "    </tr>\n",
              "    <tr>\n",
              "      <th>51119</th>\n",
              "      <td>51</td>\n",
              "      <td>364978</td>\n",
              "      <td>1</td>\n",
              "      <td>160</td>\n",
              "      <td>300000</td>\n",
              "      <td>50000</td>\n",
              "      <td>0</td>\n",
              "      <td>83000</td>\n",
              "      <td>0</td>\n",
              "      <td>0</td>\n",
              "    </tr>\n",
              "    <tr>\n",
              "      <th>51120</th>\n",
              "      <td>51</td>\n",
              "      <td>625376</td>\n",
              "      <td>1</td>\n",
              "      <td>170</td>\n",
              "      <td>166098</td>\n",
              "      <td>173162</td>\n",
              "      <td>169661</td>\n",
              "      <td>76775</td>\n",
              "      <td>159171</td>\n",
              "      <td>0</td>\n",
              "    </tr>\n",
              "    <tr>\n",
              "      <th>51121</th>\n",
              "      <td>47</td>\n",
              "      <td>806220</td>\n",
              "      <td>1</td>\n",
              "      <td>160</td>\n",
              "      <td>18891</td>\n",
              "      <td>14700</td>\n",
              "      <td>26700</td>\n",
              "      <td>17283</td>\n",
              "      <td>13123</td>\n",
              "      <td>0</td>\n",
              "    </tr>\n",
              "    <tr>\n",
              "      <th>51122</th>\n",
              "      <td>47</td>\n",
              "      <td>649221</td>\n",
              "      <td>1</td>\n",
              "      <td>160</td>\n",
              "      <td>26528</td>\n",
              "      <td>25460</td>\n",
              "      <td>61173</td>\n",
              "      <td>18959</td>\n",
              "      <td>35158</td>\n",
              "      <td>0</td>\n",
              "    </tr>\n",
              "    <tr>\n",
              "      <th>51123</th>\n",
              "      <td>51</td>\n",
              "      <td>840878</td>\n",
              "      <td>1</td>\n",
              "      <td>170</td>\n",
              "      <td>12360</td>\n",
              "      <td>5000</td>\n",
              "      <td>0</td>\n",
              "      <td>0</td>\n",
              "      <td>18506</td>\n",
              "      <td>0</td>\n",
              "    </tr>\n",
              "  </tbody>\n",
              "</table>\n",
              "<p>51124 rows × 10 columns</p>\n",
              "</div>\n",
              "      <button class=\"colab-df-convert\" onclick=\"convertToInteractive('df-fdaafac3-29eb-45fe-be34-fb46202ca453')\"\n",
              "              title=\"Convert this dataframe to an interactive table.\"\n",
              "              style=\"display:none;\">\n",
              "        \n",
              "  <svg xmlns=\"http://www.w3.org/2000/svg\" height=\"24px\"viewBox=\"0 0 24 24\"\n",
              "       width=\"24px\">\n",
              "    <path d=\"M0 0h24v24H0V0z\" fill=\"none\"/>\n",
              "    <path d=\"M18.56 5.44l.94 2.06.94-2.06 2.06-.94-2.06-.94-.94-2.06-.94 2.06-2.06.94zm-11 1L8.5 8.5l.94-2.06 2.06-.94-2.06-.94L8.5 2.5l-.94 2.06-2.06.94zm10 10l.94 2.06.94-2.06 2.06-.94-2.06-.94-.94-2.06-.94 2.06-2.06.94z\"/><path d=\"M17.41 7.96l-1.37-1.37c-.4-.4-.92-.59-1.43-.59-.52 0-1.04.2-1.43.59L10.3 9.45l-7.72 7.72c-.78.78-.78 2.05 0 2.83L4 21.41c.39.39.9.59 1.41.59.51 0 1.02-.2 1.41-.59l7.78-7.78 2.81-2.81c.8-.78.8-2.07 0-2.86zM5.41 20L4 18.59l7.72-7.72 1.47 1.35L5.41 20z\"/>\n",
              "  </svg>\n",
              "      </button>\n",
              "      \n",
              "  <style>\n",
              "    .colab-df-container {\n",
              "      display:flex;\n",
              "      flex-wrap:wrap;\n",
              "      gap: 12px;\n",
              "    }\n",
              "\n",
              "    .colab-df-convert {\n",
              "      background-color: #E8F0FE;\n",
              "      border: none;\n",
              "      border-radius: 50%;\n",
              "      cursor: pointer;\n",
              "      display: none;\n",
              "      fill: #1967D2;\n",
              "      height: 32px;\n",
              "      padding: 0 0 0 0;\n",
              "      width: 32px;\n",
              "    }\n",
              "\n",
              "    .colab-df-convert:hover {\n",
              "      background-color: #E2EBFA;\n",
              "      box-shadow: 0px 1px 2px rgba(60, 64, 67, 0.3), 0px 1px 3px 1px rgba(60, 64, 67, 0.15);\n",
              "      fill: #174EA6;\n",
              "    }\n",
              "\n",
              "    [theme=dark] .colab-df-convert {\n",
              "      background-color: #3B4455;\n",
              "      fill: #D2E3FC;\n",
              "    }\n",
              "\n",
              "    [theme=dark] .colab-df-convert:hover {\n",
              "      background-color: #434B5C;\n",
              "      box-shadow: 0px 1px 3px 1px rgba(0, 0, 0, 0.15);\n",
              "      filter: drop-shadow(0px 1px 2px rgba(0, 0, 0, 0.3));\n",
              "      fill: #FFFFFF;\n",
              "    }\n",
              "  </style>\n",
              "\n",
              "      <script>\n",
              "        const buttonEl =\n",
              "          document.querySelector('#df-fdaafac3-29eb-45fe-be34-fb46202ca453 button.colab-df-convert');\n",
              "        buttonEl.style.display =\n",
              "          google.colab.kernel.accessAllowed ? 'block' : 'none';\n",
              "\n",
              "        async function convertToInteractive(key) {\n",
              "          const element = document.querySelector('#df-fdaafac3-29eb-45fe-be34-fb46202ca453');\n",
              "          const dataTable =\n",
              "            await google.colab.kernel.invokeFunction('convertToInteractive',\n",
              "                                                     [key], {});\n",
              "          if (!dataTable) return;\n",
              "\n",
              "          const docLinkHtml = 'Like what you see? Visit the ' +\n",
              "            '<a target=\"_blank\" href=https://colab.research.google.com/notebooks/data_table.ipynb>data table notebook</a>'\n",
              "            + ' to learn more about interactive tables.';\n",
              "          element.innerHTML = '';\n",
              "          dataTable['output_type'] = 'display_data';\n",
              "          await google.colab.output.renderOutput(dataTable, element);\n",
              "          const docLink = document.createElement('div');\n",
              "          docLink.innerHTML = docLinkHtml;\n",
              "          element.appendChild(docLink);\n",
              "        }\n",
              "      </script>\n",
              "    </div>\n",
              "  </div>\n",
              "  "
            ]
          },
          "metadata": {},
          "execution_count": 31
        }
      ]
    },
    {
      "cell_type": "code",
      "source": [
        "# morado, renta de personas con cuenta corriente\n",
        "# verde, renta de personas sin cuenta corriente\n",
        "\n",
        "dft_fil = dft_nei[dft_nei['Indicador_cuenta'] > 0]\n",
        "dft_fil2 = dft_nei[dft_nei['Indicador_cuenta'] < 1]\n",
        "\n",
        "fig, ax = plt.subplots()\n",
        "ax.plot(dft_fil.Renta, color = 'tab:purple', label = 'Con cuenta corriente')\n",
        "ax.plot(dft_fil2.Renta, color = 'tab:green', label = 'Sin cuenta corriente')\n",
        "ax.legend()\n",
        "ax.set_title('Comparativa renta cuenta corriente', loc = \"right\", fontdict = {'fontsize':14, 'fontweight':'bold', 'color':'tab:blue'})\n",
        "plt.show()\n"
      ],
      "metadata": {
        "colab": {
          "base_uri": "https://localhost:8080/",
          "height": 554
        },
        "id": "Dw6_vvLEC12O",
        "outputId": "35a8b2b7-0f4f-4be2-a337-eebf2512f3ed"
      },
      "execution_count": null,
      "outputs": [
        {
          "output_type": "display_data",
          "data": {
            "text/plain": [
              "<Figure size 1152x648 with 1 Axes>"
            ],
            "image/png": "[encoded data removed]"
          },
          "metadata": {}
        }
      ]
    },
    {
      "cell_type": "markdown",
      "source": [
        "Al terminar el Dataframe con el cual vamos a trabajar decidimos hacer un gráfico para verificar las diferencias de renta entre las personas que tienen cuenta corriente en el banco con las que no tienen.\n",
        "\n",
        "**No** da un resultado en el que a simple vista se puede observar que las personas con cuenta corriente tienen más rentar que una persona que no la tiene."
      ],
      "metadata": {
        "id": "bFmq-rhYEjtC"
      }
    },
    {
      "cell_type": "markdown",
      "source": [
        "Matriz de correlación"
      ],
      "metadata": {
        "id": "SGrznkhMSXkd"
      }
    },
    {
      "cell_type": "code",
      "source": [
        "dft_cor = dft_nei.corr()\n",
        "dft_cor.style.background_gradient(cmap = 'YlOrRd')"
      ],
      "metadata": {
        "colab": {
          "base_uri": "https://localhost:8080/",
          "height": 363
        },
        "id": "uBHwQo7Srjp6",
        "outputId": "7a6ed11e-46b8-4dab-bda2-db4f223b58df"
      },
      "execution_count": null,
      "outputs": [
        {
          "output_type": "execute_result",
          "data": {
            "text/plain": [
              "<pandas.io.formats.style.Styler at 0x7f7a7a46c550>"
            ],
            "text/html": [
              "<style type=\"text/css\">\n",
              "#T_849b5_row0_col0, #T_849b5_row1_col1, #T_849b5_row2_col2, #T_849b5_row3_col3, #T_849b5_row4_col4, #T_849b5_row5_col5, #T_849b5_row6_col6, #T_849b5_row7_col7, #T_849b5_row8_col8, #T_849b5_row9_col9 {\n",
              "  background-color: #800026;\n",
              "  color: #f1f1f1;\n",
              "}\n",
              "#T_849b5_row0_col1 {\n",
              "  background-color: #ffe895;\n",
              "  color: #000000;\n",
              "}\n",
              "#T_849b5_row0_col2, #T_849b5_row0_col3, #T_849b5_row2_col1, #T_849b5_row3_col0, #T_849b5_row3_col4, #T_849b5_row3_col5, #T_849b5_row3_col6, #T_849b5_row3_col7, #T_849b5_row3_col8, #T_849b5_row3_col9 {\n",
              "  background-color: #ffffcc;\n",
              "  color: #000000;\n",
              "}\n",
              "#T_849b5_row0_col4, #T_849b5_row1_col2, #T_849b5_row1_col4, #T_849b5_row8_col2 {\n",
              "  background-color: #ffe793;\n",
              "  color: #000000;\n",
              "}\n",
              "#T_849b5_row0_col5 {\n",
              "  background-color: #ffe58f;\n",
              "  color: #000000;\n",
              "}\n",
              "#T_849b5_row0_col6, #T_849b5_row5_col2, #T_849b5_row7_col2 {\n",
              "  background-color: #ffe794;\n",
              "  color: #000000;\n",
              "}\n",
              "#T_849b5_row0_col7, #T_849b5_row4_col2 {\n",
              "  background-color: #ffe691;\n",
              "  color: #000000;\n",
              "}\n",
              "#T_849b5_row0_col8, #T_849b5_row2_col0 {\n",
              "  background-color: #ffe48d;\n",
              "  color: #000000;\n",
              "}\n",
              "#T_849b5_row0_col9 {\n",
              "  background-color: #ffec9f;\n",
              "  color: #000000;\n",
              "}\n",
              "#T_849b5_row1_col0 {\n",
              "  background-color: #fea446;\n",
              "  color: #000000;\n",
              "}\n",
              "#T_849b5_row1_col3 {\n",
              "  background-color: #febf5a;\n",
              "  color: #000000;\n",
              "}\n",
              "#T_849b5_row1_col5, #T_849b5_row1_col8 {\n",
              "  background-color: #ffe998;\n",
              "  color: #000000;\n",
              "}\n",
              "#T_849b5_row1_col6, #T_849b5_row1_col7 {\n",
              "  background-color: #ffe997;\n",
              "  color: #000000;\n",
              "}\n",
              "#T_849b5_row1_col9, #T_849b5_row9_col2 {\n",
              "  background-color: #fed16e;\n",
              "  color: #000000;\n",
              "}\n",
              "#T_849b5_row2_col3 {\n",
              "  background-color: #fd9d43;\n",
              "  color: #000000;\n",
              "}\n",
              "#T_849b5_row2_col4, #T_849b5_row2_col6 {\n",
              "  background-color: #fffac0;\n",
              "  color: #000000;\n",
              "}\n",
              "#T_849b5_row2_col5, #T_849b5_row2_col7, #T_849b5_row2_col8 {\n",
              "  background-color: #fffac1;\n",
              "  color: #000000;\n",
              "}\n",
              "#T_849b5_row2_col9, #T_849b5_row6_col2 {\n",
              "  background-color: #ffe590;\n",
              "  color: #000000;\n",
              "}\n",
              "#T_849b5_row3_col1 {\n",
              "  background-color: #fffcc4;\n",
              "  color: #000000;\n",
              "}\n",
              "#T_849b5_row3_col2 {\n",
              "  background-color: #fec15d;\n",
              "  color: #000000;\n",
              "}\n",
              "#T_849b5_row4_col0 {\n",
              "  background-color: #fea848;\n",
              "  color: #000000;\n",
              "}\n",
              "#T_849b5_row4_col1 {\n",
              "  background-color: #ffeb9c;\n",
              "  color: #000000;\n",
              "}\n",
              "#T_849b5_row4_col3 {\n",
              "  background-color: #fecb67;\n",
              "  color: #000000;\n",
              "}\n",
              "#T_849b5_row4_col5, #T_849b5_row5_col7, #T_849b5_row7_col5 {\n",
              "  background-color: #fed572;\n",
              "  color: #000000;\n",
              "}\n",
              "#T_849b5_row4_col6 {\n",
              "  background-color: #fedc7c;\n",
              "  color: #000000;\n",
              "}\n",
              "#T_849b5_row4_col7, #T_849b5_row7_col4 {\n",
              "  background-color: #fedf83;\n",
              "  color: #000000;\n",
              "}\n",
              "#T_849b5_row4_col8, #T_849b5_row7_col6 {\n",
              "  background-color: #fede80;\n",
              "  color: #000000;\n",
              "}\n",
              "#T_849b5_row4_col9, #T_849b5_row6_col9, #T_849b5_row7_col1, #T_849b5_row8_col9 {\n",
              "  background-color: #ffeda1;\n",
              "  color: #000000;\n",
              "}\n",
              "#T_849b5_row5_col0 {\n",
              "  background-color: #fea647;\n",
              "  color: #000000;\n",
              "}\n",
              "#T_849b5_row5_col1, #T_849b5_row7_col9, #T_849b5_row8_col1 {\n",
              "  background-color: #ffeea3;\n",
              "  color: #000000;\n",
              "}\n",
              "#T_849b5_row5_col3, #T_849b5_row7_col3, #T_849b5_row8_col3 {\n",
              "  background-color: #fecc68;\n",
              "  color: #000000;\n",
              "}\n",
              "#T_849b5_row5_col4, #T_849b5_row6_col5 {\n",
              "  background-color: #fed673;\n",
              "  color: #000000;\n",
              "}\n",
              "#T_849b5_row5_col6, #T_849b5_row5_col8, #T_849b5_row8_col5 {\n",
              "  background-color: #fed976;\n",
              "  color: #000000;\n",
              "}\n",
              "#T_849b5_row5_col9 {\n",
              "  background-color: #ffefa4;\n",
              "  color: #000000;\n",
              "}\n",
              "#T_849b5_row6_col0, #T_849b5_row7_col0 {\n",
              "  background-color: #fea747;\n",
              "  color: #000000;\n",
              "}\n",
              "#T_849b5_row6_col1 {\n",
              "  background-color: #ffeda0;\n",
              "  color: #000000;\n",
              "}\n",
              "#T_849b5_row6_col3 {\n",
              "  background-color: #feca66;\n",
              "  color: #000000;\n",
              "}\n",
              "#T_849b5_row6_col4, #T_849b5_row6_col8, #T_849b5_row9_col1 {\n",
              "  background-color: #fedb7b;\n",
              "  color: #000000;\n",
              "}\n",
              "#T_849b5_row6_col7 {\n",
              "  background-color: #fedd7f;\n",
              "  color: #000000;\n",
              "}\n",
              "#T_849b5_row7_col8, #T_849b5_row8_col7 {\n",
              "  background-color: #feda78;\n",
              "  color: #000000;\n",
              "}\n",
              "#T_849b5_row8_col0 {\n",
              "  background-color: #fea546;\n",
              "  color: #000000;\n",
              "}\n",
              "#T_849b5_row8_col4 {\n",
              "  background-color: #fede82;\n",
              "  color: #000000;\n",
              "}\n",
              "#T_849b5_row8_col6 {\n",
              "  background-color: #fedd7e;\n",
              "  color: #000000;\n",
              "}\n",
              "#T_849b5_row9_col0 {\n",
              "  background-color: #feb34d;\n",
              "  color: #000000;\n",
              "}\n",
              "#T_849b5_row9_col3 {\n",
              "  background-color: #fecf6b;\n",
              "  color: #000000;\n",
              "}\n",
              "#T_849b5_row9_col4, #T_849b5_row9_col8 {\n",
              "  background-color: #ffefa5;\n",
              "  color: #000000;\n",
              "}\n",
              "#T_849b5_row9_col5, #T_849b5_row9_col6 {\n",
              "  background-color: #fff0a8;\n",
              "  color: #000000;\n",
              "}\n",
              "#T_849b5_row9_col7 {\n",
              "  background-color: #fff0a7;\n",
              "  color: #000000;\n",
              "}\n",
              "</style>\n",
              "<table id=\"T_849b5_\" class=\"dataframe\">\n",
              "  <thead>\n",
              "    <tr>\n",
              "      <th class=\"blank level0\" >&nbsp;</th>\n",
              "      <th class=\"col_heading level0 col0\" >Edad</th>\n",
              "      <th class=\"col_heading level0 col1\" >Renta</th>\n",
              "      <th class=\"col_heading level0 col2\" >Indicador_cuenta</th>\n",
              "      <th class=\"col_heading level0 col3\" >subsegmento</th>\n",
              "      <th class=\"col_heading level0 col4\" >PagoNac_T01</th>\n",
              "      <th class=\"col_heading level0 col5\" >PagoNac_T02</th>\n",
              "      <th class=\"col_heading level0 col6\" >PagoNac_T03</th>\n",
              "      <th class=\"col_heading level0 col7\" >PagoNac_T04</th>\n",
              "      <th class=\"col_heading level0 col8\" >PagoNac_T05</th>\n",
              "      <th class=\"col_heading level0 col9\" >Hipotecario</th>\n",
              "    </tr>\n",
              "  </thead>\n",
              "  <tbody>\n",
              "    <tr>\n",
              "      <th id=\"T_849b5_level0_row0\" class=\"row_heading level0 row0\" >Edad</th>\n",
              "      <td id=\"T_849b5_row0_col0\" class=\"data row0 col0\" >1.000000</td>\n",
              "      <td id=\"T_849b5_row0_col1\" class=\"data row0 col1\" >0.126298</td>\n",
              "      <td id=\"T_849b5_row0_col2\" class=\"data row0 col2\" >-0.244444</td>\n",
              "      <td id=\"T_849b5_row0_col3\" class=\"data row0 col3\" >-0.519442</td>\n",
              "      <td id=\"T_849b5_row0_col4\" class=\"data row0 col4\" >0.102946</td>\n",
              "      <td id=\"T_849b5_row0_col5\" class=\"data row0 col5\" >0.112408</td>\n",
              "      <td id=\"T_849b5_row0_col6\" class=\"data row0 col6\" >0.104298</td>\n",
              "      <td id=\"T_849b5_row0_col7\" class=\"data row0 col7\" >0.104563</td>\n",
              "      <td id=\"T_849b5_row0_col8\" class=\"data row0 col8\" >0.117788</td>\n",
              "      <td id=\"T_849b5_row0_col9\" class=\"data row0 col9\" >0.050220</td>\n",
              "    </tr>\n",
              "    <tr>\n",
              "      <th id=\"T_849b5_level0_row1\" class=\"row_heading level0 row1\" >Renta</th>\n",
              "      <td id=\"T_849b5_row1_col0\" class=\"data row1 col0\" >0.126298</td>\n",
              "      <td id=\"T_849b5_row1_col1\" class=\"data row1 col1\" >1.000000</td>\n",
              "      <td id=\"T_849b5_row1_col2\" class=\"data row1 col2\" >-0.037481</td>\n",
              "      <td id=\"T_849b5_row1_col3\" class=\"data row1 col3\" >-0.010498</td>\n",
              "      <td id=\"T_849b5_row1_col4\" class=\"data row1 col4\" >0.104477</td>\n",
              "      <td id=\"T_849b5_row1_col5\" class=\"data row1 col5\" >0.084473</td>\n",
              "      <td id=\"T_849b5_row1_col6\" class=\"data row1 col6\" >0.095673</td>\n",
              "      <td id=\"T_849b5_row1_col7\" class=\"data row1 col7\" >0.091230</td>\n",
              "      <td id=\"T_849b5_row1_col8\" class=\"data row1 col8\" >0.087567</td>\n",
              "      <td id=\"T_849b5_row1_col9\" class=\"data row1 col9\" >0.209328</td>\n",
              "    </tr>\n",
              "    <tr>\n",
              "      <th id=\"T_849b5_level0_row2\" class=\"row_heading level0 row2\" >Indicador_cuenta</th>\n",
              "      <td id=\"T_849b5_row2_col0\" class=\"data row2 col0\" >-0.244444</td>\n",
              "      <td id=\"T_849b5_row2_col1\" class=\"data row2 col1\" >-0.037481</td>\n",
              "      <td id=\"T_849b5_row2_col2\" class=\"data row2 col2\" >1.000000</td>\n",
              "      <td id=\"T_849b5_row2_col3\" class=\"data row2 col3\" >0.160693</td>\n",
              "      <td id=\"T_849b5_row2_col4\" class=\"data row2 col4\" >-0.034953</td>\n",
              "      <td id=\"T_849b5_row2_col5\" class=\"data row2 col5\" >-0.042607</td>\n",
              "      <td id=\"T_849b5_row2_col6\" class=\"data row2 col6\" >-0.029485</td>\n",
              "      <td id=\"T_849b5_row2_col7\" class=\"data row2 col7\" >-0.040772</td>\n",
              "      <td id=\"T_849b5_row2_col8\" class=\"data row2 col8\" >-0.039419</td>\n",
              "      <td id=\"T_849b5_row2_col9\" class=\"data row2 col9\" >0.097521</td>\n",
              "    </tr>\n",
              "    <tr>\n",
              "      <th id=\"T_849b5_level0_row3\" class=\"row_heading level0 row3\" >subsegmento</th>\n",
              "      <td id=\"T_849b5_row3_col0\" class=\"data row3 col0\" >-0.519442</td>\n",
              "      <td id=\"T_849b5_row3_col1\" class=\"data row3 col1\" >-0.010498</td>\n",
              "      <td id=\"T_849b5_row3_col2\" class=\"data row3 col2\" >0.160693</td>\n",
              "      <td id=\"T_849b5_row3_col3\" class=\"data row3 col3\" >1.000000</td>\n",
              "      <td id=\"T_849b5_row3_col4\" class=\"data row3 col4\" >-0.074260</td>\n",
              "      <td id=\"T_849b5_row3_col5\" class=\"data row3 col5\" >-0.078433</td>\n",
              "      <td id=\"T_849b5_row3_col6\" class=\"data row3 col6\" >-0.067263</td>\n",
              "      <td id=\"T_849b5_row3_col7\" class=\"data row3 col7\" >-0.076826</td>\n",
              "      <td id=\"T_849b5_row3_col8\" class=\"data row3 col8\" >-0.076130</td>\n",
              "      <td id=\"T_849b5_row3_col9\" class=\"data row3 col9\" >-0.091344</td>\n",
              "    </tr>\n",
              "    <tr>\n",
              "      <th id=\"T_849b5_level0_row4\" class=\"row_heading level0 row4\" >PagoNac_T01</th>\n",
              "      <td id=\"T_849b5_row4_col0\" class=\"data row4 col0\" >0.102946</td>\n",
              "      <td id=\"T_849b5_row4_col1\" class=\"data row4 col1\" >0.104477</td>\n",
              "      <td id=\"T_849b5_row4_col2\" class=\"data row4 col2\" >-0.034953</td>\n",
              "      <td id=\"T_849b5_row4_col3\" class=\"data row4 col3\" >-0.074260</td>\n",
              "      <td id=\"T_849b5_row4_col4\" class=\"data row4 col4\" >1.000000</td>\n",
              "      <td id=\"T_849b5_row4_col5\" class=\"data row4 col5\" >0.205954</td>\n",
              "      <td id=\"T_849b5_row4_col6\" class=\"data row4 col6\" >0.180640</td>\n",
              "      <td id=\"T_849b5_row4_col7\" class=\"data row4 col7\" >0.153157</td>\n",
              "      <td id=\"T_849b5_row4_col8\" class=\"data row4 col8\" >0.159302</td>\n",
              "      <td id=\"T_849b5_row4_col9\" class=\"data row4 col9\" >0.044051</td>\n",
              "    </tr>\n",
              "    <tr>\n",
              "      <th id=\"T_849b5_level0_row5\" class=\"row_heading level0 row5\" >PagoNac_T02</th>\n",
              "      <td id=\"T_849b5_row5_col0\" class=\"data row5 col0\" >0.112408</td>\n",
              "      <td id=\"T_849b5_row5_col1\" class=\"data row5 col1\" >0.084473</td>\n",
              "      <td id=\"T_849b5_row5_col2\" class=\"data row5 col2\" >-0.042607</td>\n",
              "      <td id=\"T_849b5_row5_col3\" class=\"data row5 col3\" >-0.078433</td>\n",
              "      <td id=\"T_849b5_row5_col4\" class=\"data row5 col4\" >0.205954</td>\n",
              "      <td id=\"T_849b5_row5_col5\" class=\"data row5 col5\" >1.000000</td>\n",
              "      <td id=\"T_849b5_row5_col6\" class=\"data row5 col6\" >0.201013</td>\n",
              "      <td id=\"T_849b5_row5_col7\" class=\"data row5 col7\" >0.207272</td>\n",
              "      <td id=\"T_849b5_row5_col8\" class=\"data row5 col8\" >0.194997</td>\n",
              "      <td id=\"T_849b5_row5_col9\" class=\"data row5 col9\" >0.034836</td>\n",
              "    </tr>\n",
              "    <tr>\n",
              "      <th id=\"T_849b5_level0_row6\" class=\"row_heading level0 row6\" >PagoNac_T03</th>\n",
              "      <td id=\"T_849b5_row6_col0\" class=\"data row6 col0\" >0.104298</td>\n",
              "      <td id=\"T_849b5_row6_col1\" class=\"data row6 col1\" >0.095673</td>\n",
              "      <td id=\"T_849b5_row6_col2\" class=\"data row6 col2\" >-0.029485</td>\n",
              "      <td id=\"T_849b5_row6_col3\" class=\"data row6 col3\" >-0.067263</td>\n",
              "      <td id=\"T_849b5_row6_col4\" class=\"data row6 col4\" >0.180640</td>\n",
              "      <td id=\"T_849b5_row6_col5\" class=\"data row6 col5\" >0.201013</td>\n",
              "      <td id=\"T_849b5_row6_col6\" class=\"data row6 col6\" >1.000000</td>\n",
              "      <td id=\"T_849b5_row6_col7\" class=\"data row6 col7\" >0.166231</td>\n",
              "      <td id=\"T_849b5_row6_col8\" class=\"data row6 col8\" >0.176170</td>\n",
              "      <td id=\"T_849b5_row6_col9\" class=\"data row6 col9\" >0.043474</td>\n",
              "    </tr>\n",
              "    <tr>\n",
              "      <th id=\"T_849b5_level0_row7\" class=\"row_heading level0 row7\" >PagoNac_T04</th>\n",
              "      <td id=\"T_849b5_row7_col0\" class=\"data row7 col0\" >0.104563</td>\n",
              "      <td id=\"T_849b5_row7_col1\" class=\"data row7 col1\" >0.091230</td>\n",
              "      <td id=\"T_849b5_row7_col2\" class=\"data row7 col2\" >-0.040772</td>\n",
              "      <td id=\"T_849b5_row7_col3\" class=\"data row7 col3\" >-0.076826</td>\n",
              "      <td id=\"T_849b5_row7_col4\" class=\"data row7 col4\" >0.153157</td>\n",
              "      <td id=\"T_849b5_row7_col5\" class=\"data row7 col5\" >0.207272</td>\n",
              "      <td id=\"T_849b5_row7_col6\" class=\"data row7 col6\" >0.166231</td>\n",
              "      <td id=\"T_849b5_row7_col7\" class=\"data row7 col7\" >1.000000</td>\n",
              "      <td id=\"T_849b5_row7_col8\" class=\"data row7 col8\" >0.186083</td>\n",
              "      <td id=\"T_849b5_row7_col9\" class=\"data row7 col9\" >0.038618</td>\n",
              "    </tr>\n",
              "    <tr>\n",
              "      <th id=\"T_849b5_level0_row8\" class=\"row_heading level0 row8\" >PagoNac_T05</th>\n",
              "      <td id=\"T_849b5_row8_col0\" class=\"data row8 col0\" >0.117788</td>\n",
              "      <td id=\"T_849b5_row8_col1\" class=\"data row8 col1\" >0.087567</td>\n",
              "      <td id=\"T_849b5_row8_col2\" class=\"data row8 col2\" >-0.039419</td>\n",
              "      <td id=\"T_849b5_row8_col3\" class=\"data row8 col3\" >-0.076130</td>\n",
              "      <td id=\"T_849b5_row8_col4\" class=\"data row8 col4\" >0.159302</td>\n",
              "      <td id=\"T_849b5_row8_col5\" class=\"data row8 col5\" >0.194997</td>\n",
              "      <td id=\"T_849b5_row8_col6\" class=\"data row8 col6\" >0.176170</td>\n",
              "      <td id=\"T_849b5_row8_col7\" class=\"data row8 col7\" >0.186083</td>\n",
              "      <td id=\"T_849b5_row8_col8\" class=\"data row8 col8\" >1.000000</td>\n",
              "      <td id=\"T_849b5_row8_col9\" class=\"data row8 col9\" >0.041694</td>\n",
              "    </tr>\n",
              "    <tr>\n",
              "      <th id=\"T_849b5_level0_row9\" class=\"row_heading level0 row9\" >Hipotecario</th>\n",
              "      <td id=\"T_849b5_row9_col0\" class=\"data row9 col0\" >0.050220</td>\n",
              "      <td id=\"T_849b5_row9_col1\" class=\"data row9 col1\" >0.209328</td>\n",
              "      <td id=\"T_849b5_row9_col2\" class=\"data row9 col2\" >0.097521</td>\n",
              "      <td id=\"T_849b5_row9_col3\" class=\"data row9 col3\" >-0.091344</td>\n",
              "      <td id=\"T_849b5_row9_col4\" class=\"data row9 col4\" >0.044051</td>\n",
              "      <td id=\"T_849b5_row9_col5\" class=\"data row9 col5\" >0.034836</td>\n",
              "      <td id=\"T_849b5_row9_col6\" class=\"data row9 col6\" >0.043474</td>\n",
              "      <td id=\"T_849b5_row9_col7\" class=\"data row9 col7\" >0.038618</td>\n",
              "      <td id=\"T_849b5_row9_col8\" class=\"data row9 col8\" >0.041694</td>\n",
              "      <td id=\"T_849b5_row9_col9\" class=\"data row9 col9\" >1.000000</td>\n",
              "    </tr>\n",
              "  </tbody>\n",
              "</table>\n"
            ]
          },
          "metadata": {},
          "execution_count": 33
        }
      ]
    },
    {
      "cell_type": "markdown",
      "source": [
        "Training Clasificacion"
      ],
      "metadata": {
        "id": "3oChIMiLS5l5"
      }
    },
    {
      "cell_type": "code",
      "source": [
        "import numpy as np\n",
        "from sklearn.model_selection import train_test_split\n",
        "from imblearn.under_sampling import NearMiss\n",
        "from collections import Counter\n",
        "X = np.array(dft_nei.drop(['Hipotecario'],1))\n",
        "y = np.array(dft_nei['Hipotecario'])\n",
        "validation_size = 0.20\n",
        "seed = 7\n",
        "X_train, X_test, y_train, y_test = train_test_split(X, y, test_size=0.33)"
      ],
      "metadata": {
        "colab": {
          "base_uri": "https://localhost:8080/"
        },
        "id": "7nLZrzKwoWn4",
        "outputId": "c96e1acc-3c1e-42ee-ea1b-63fca9b197ac"
      },
      "execution_count": null,
      "outputs": [
        {
          "output_type": "stream",
          "name": "stderr",
          "text": [
            "/usr/local/lib/python3.7/dist-packages/ipykernel_launcher.py:5: FutureWarning: In a future version of pandas all arguments of DataFrame.drop except for the argument 'labels' will be keyword-only\n",
            "  \"\"\"\n"
          ]
        }
      ]
    },
    {
      "cell_type": "markdown",
      "source": [
        "#Training Regresion"
      ],
      "metadata": {
        "id": "YH0AQYrWVuk8"
      }
    },
    {
      "cell_type": "code",
      "source": [
        "import numpy as np\n",
        "from sklearn.model_selection import train_test_split\n",
        "X = np.array(dft_nei.drop(['Renta'],1))\n",
        "y = np.array(dft_nei['Renta'])\n",
        "validation_size = 0.20\n",
        "seed = 7\n",
        "X_train, X_test, y_train, y_test = train_test_split(X, y, test_size=0.33)"
      ],
      "metadata": {
        "colab": {
          "base_uri": "https://localhost:8080/"
        },
        "id": "IKPwHbB5Vwwc",
        "outputId": "fa6041d6-58fc-4cd5-9b51-14b2376f3445"
      },
      "execution_count": null,
      "outputs": [
        {
          "output_type": "stream",
          "name": "stderr",
          "text": [
            "/usr/local/lib/python3.7/dist-packages/ipykernel_launcher.py:3: FutureWarning: In a future version of pandas all arguments of DataFrame.drop except for the argument 'labels' will be keyword-only\n",
            "  This is separate from the ipykernel package so we can avoid doing imports until\n"
          ]
        }
      ]
    },
    {
      "cell_type": "markdown",
      "source": [
        "#Modeling Clasificacion"
      ],
      "metadata": {
        "id": "fvTDp6QfTjm6"
      }
    },
    {
      "cell_type": "markdown",
      "source": [
        "Arbol de decisiones"
      ],
      "metadata": {
        "id": "jlC4JPJstfCU"
      }
    },
    {
      "cell_type": "code",
      "source": [
        "from sklearn.metrics import confusion_matrix, accuracy_score, recall_score\n",
        "from sklearn import tree\n",
        "clf = tree.DecisionTreeClassifier()\n",
        "clf = clf.fit(X_train, y_train)\n",
        "y_pred = clf.predict(X_test)"
      ],
      "metadata": {
        "id": "xRTHB7RHr6w9"
      },
      "execution_count": null,
      "outputs": []
    },
    {
      "cell_type": "code",
      "source": [
        "matriz = confusion_matrix(y_test, y_pred)\n",
        "dataframe = pd.DataFrame(matriz)\n",
        "sb.heatmap(dataframe, annot=True, cbar=None, cmap=\"Blues\")\n",
        "plt.title(\"Matriz de confusion\"), plt.tight_layout()\n",
        "plt.ylabel(\"Valor verdadero\"), plt.xlabel(\"Valor predicho\")\n",
        "plt.show()"
      ],
      "metadata": {
        "colab": {
          "base_uri": "https://localhost:8080/",
          "height": 674
        },
        "id": "8bVVeOq4sdVP",
        "outputId": "c6a7ae9c-5665-4ca7-d5c9-b78183bb97ba"
      },
      "execution_count": null,
      "outputs": [
        {
          "output_type": "display_data",
          "data": {
            "text/plain": [
              "<Figure size 1152x648 with 1 Axes>"
            ],
            "image/png": "[encoded data removed]"
          },
          "metadata": {}
        }
      ]
    },
    {
      "cell_type": "code",
      "source": [
        "print('Exactitud: %.2f ' % accuracy_score(y_test, y_pred))\n",
        "print('Recall: %.2f ' % recall_score(y_test, y_pred))"
      ],
      "metadata": {
        "colab": {
          "base_uri": "https://localhost:8080/"
        },
        "id": "JJi8Kf8ftS3t",
        "outputId": "28efea66-60a2-4028-89a7-1fb5d9566d33"
      },
      "execution_count": null,
      "outputs": [
        {
          "output_type": "stream",
          "name": "stdout",
          "text": [
            "Exactitud: 0.79 \n",
            "Recall: 0.29 \n"
          ]
        }
      ]
    },
    {
      "cell_type": "markdown",
      "source": [
        "Elegimos este modelo, ya que este posee una estructura similar a un diagrama de flujo en la que el nodo interno tiene una característica o atributo, la rama representa una regla de decisión y cada hoja representa un resultado"
      ],
      "metadata": {
        "id": "kIHOqe_c2L3Y"
      }
    },
    {
      "cell_type": "markdown",
      "source": [
        "Stochastic Gradient Descent"
      ],
      "metadata": {
        "id": "F_kpRLMluDfi"
      }
    },
    {
      "cell_type": "code",
      "source": [
        "from sklearn.linear_model import SGDClassifier\n",
        "clf = SGDClassifier(loss=\"hinge\", penalty=\"l2\", max_iter=5)\n",
        "clf.fit(X_train, y_train)\n",
        "y_pred = clf.predict(X_test)"
      ],
      "metadata": {
        "colab": {
          "base_uri": "https://localhost:8080/"
        },
        "id": "zT6JMk3ZuGJo",
        "outputId": "5f4cc790-98bc-48f4-e54b-f64d6a3618a0"
      },
      "execution_count": null,
      "outputs": [
        {
          "output_type": "stream",
          "name": "stderr",
          "text": [
            "/usr/local/lib/python3.7/dist-packages/sklearn/linear_model/_stochastic_gradient.py:700: ConvergenceWarning: Maximum number of iteration reached before convergence. Consider increasing max_iter to improve the fit.\n",
            "  ConvergenceWarning,\n"
          ]
        }
      ]
    },
    {
      "cell_type": "code",
      "source": [
        "matriz = confusion_matrix(y_test, y_pred)\n",
        "dataframe = pd.DataFrame(matriz)\n",
        "sb.heatmap(dataframe, annot=True, cbar=None, cmap=\"Blues\")\n",
        "plt.title(\"Matriz de confusion\"), plt.tight_layout()\n",
        "plt.ylabel(\"Valor verdadero\"), plt.xlabel(\"Valor predicho\")\n",
        "plt.show()"
      ],
      "metadata": {
        "colab": {
          "base_uri": "https://localhost:8080/",
          "height": 674
        },
        "id": "aJ3mEJPbuTQc",
        "outputId": "2657c0b3-2abd-48d9-b31d-f8fc1ab74b04"
      },
      "execution_count": null,
      "outputs": [
        {
          "output_type": "display_data",
          "data": {
            "text/plain": [
              "<Figure size 1152x648 with 1 Axes>"
            ],
            "image/png": "[encoded data removed]"
          },
          "metadata": {}
        }
      ]
    },
    {
      "cell_type": "code",
      "source": [
        "print('Exactitud: %.2f ' % accuracy_score(y_test, y_pred))\n",
        "print('Recall: %.2f ' % recall_score(y_test, y_pred))"
      ],
      "metadata": {
        "colab": {
          "base_uri": "https://localhost:8080/"
        },
        "id": "As9Z3AOSuUTh",
        "outputId": "429c87e5-49cb-44fb-9459-78fb20c2ea88"
      },
      "execution_count": null,
      "outputs": [
        {
          "output_type": "stream",
          "name": "stdout",
          "text": [
            "Exactitud: 0.86 \n",
            "Recall: 0.01 \n"
          ]
        }
      ]
    },
    {
      "cell_type": "markdown",
      "source": [
        "Escogimos este modelo, ya que es una técnica de optimización la cual se puede utilizar con la mayoría de los algoritmos de aprendizaje, este mide el grado de cambio de una variable en respuesta a los cambios de otra variable, este modelo comienza a partir de un valor inicial el cual se ejecuta iterativamente para encontrar los valores óptimos de los parámetros para encontrar el valor mínimo posible de la función dada.\n",
        "\n",
        "También está vinculado a una probabilidad aleatoria, por lo cual algunas de las muestras que se seleccionan al azar en lugar de todo el conjunto de los datos, este escoge un número total de muestras, el cual se utiliza para calcular el gradiente."
      ],
      "metadata": {
        "id": "bANQMG-r2RRy"
      }
    },
    {
      "cell_type": "markdown",
      "source": [
        "Nearest Neighbors"
      ],
      "metadata": {
        "id": "jE3li0HRvcaw"
      }
    },
    {
      "cell_type": "code",
      "source": [
        "from sklearn.neighbors import KNeighborsClassifier\n",
        "clf = KNeighborsClassifier(n_neighbors=100)\n",
        "clf.fit(X_train, y_train)\n",
        "y_pred = clf.predict(X_test)"
      ],
      "metadata": {
        "id": "ny_Qn3NKvgM6"
      },
      "execution_count": null,
      "outputs": []
    },
    {
      "cell_type": "code",
      "source": [
        "matriz = confusion_matrix(y_test, y_pred)\n",
        "dataframe = pd.DataFrame(matriz)\n",
        "sb.heatmap(dataframe, annot=True, cbar=None, cmap=\"Blues\")\n",
        "plt.title(\"Matriz de confusion\"), plt.tight_layout()\n",
        "plt.ylabel(\"Valor verdadero\"), plt.xlabel(\"Valor predicho\")\n",
        "plt.show()"
      ],
      "metadata": {
        "colab": {
          "base_uri": "https://localhost:8080/",
          "height": 674
        },
        "id": "82lhNlSev-tl",
        "outputId": "ac2906be-3f9d-4512-b998-7dd3a8b37e27"
      },
      "execution_count": null,
      "outputs": [
        {
          "output_type": "display_data",
          "data": {
            "text/plain": [
              "<Figure size 1152x648 with 1 Axes>"
            ],
            "image/png": "[encoded data removed]"
          },
          "metadata": {}
        }
      ]
    },
    {
      "cell_type": "code",
      "source": [
        "print('Exactitud: %.2f ' % accuracy_score(y_test, y_pred))\n",
        "print('Recall: %.2f ' % recall_score(y_test, y_pred))"
      ],
      "metadata": {
        "colab": {
          "base_uri": "https://localhost:8080/"
        },
        "id": "OPErSTzVv_pb",
        "outputId": "a435c63a-fef4-40d5-f943-7dd96be6d7d7"
      },
      "execution_count": null,
      "outputs": [
        {
          "output_type": "stream",
          "name": "stdout",
          "text": [
            "Exactitud: 0.86 \n",
            "Recall: 0.00 \n"
          ]
        }
      ]
    },
    {
      "cell_type": "markdown",
      "source": [
        "Elegimos este modelo, ya que este es un algoritmo no paramétrico, es decir que este no hace ninguna suposición sobre los datos subyacentes o su distribución, este es uno de los algoritmos más simples y muy utilizado"
      ],
      "metadata": {
        "id": "CYXfiXZ92nDN"
      }
    },
    {
      "cell_type": "markdown",
      "source": [
        "#Modeling Regresion"
      ],
      "metadata": {
        "id": "EJw8njuQV8DK"
      }
    },
    {
      "cell_type": "markdown",
      "source": [
        "Bayesian Ridge Regression"
      ],
      "metadata": {
        "id": "M1XKiQwiWR9V"
      }
    },
    {
      "cell_type": "code",
      "source": [
        "from sklearn import linear_model\n",
        "from sklearn.metrics import mean_squared_error, r2_score, mean_absolute_error,max_error\n",
        "reg = linear_model.BayesianRidge()\n",
        "reg.fit(X_train, y_train)\n",
        "y_pred= reg.predict(X_test)"
      ],
      "metadata": {
        "id": "_-r6XGQLWWPF"
      },
      "execution_count": null,
      "outputs": []
    },
    {
      "cell_type": "code",
      "source": [
        "reg.score(X_train,y_train)"
      ],
      "metadata": {
        "colab": {
          "base_uri": "https://localhost:8080/"
        },
        "id": "yXvxWDXjWupy",
        "outputId": "eb5b789c-0841-4b1e-aecb-59b7518f2010"
      },
      "execution_count": null,
      "outputs": [
        {
          "output_type": "execute_result",
          "data": {
            "text/plain": [
              "0.022935193988598557"
            ]
          },
          "metadata": {},
          "execution_count": 52
        }
      ]
    },
    {
      "cell_type": "code",
      "source": [
        "print('Max error: %.2f ' % max_error(y_test, y_pred))\n",
        "print('R2: %.2f ' % r2_score(y_test, y_pred))\n",
        "print('Error absoluto medio: %.2f' % mean_absolute_error(y_test, y_pred))\n",
        "print('Error medio cuadratico: %.2f' % mean_squared_error(y_test, y_pred))"
      ],
      "metadata": {
        "colab": {
          "base_uri": "https://localhost:8080/"
        },
        "id": "G2wtBTCWm2ac",
        "outputId": "6dfdf46e-140a-4847-8f21-773ded9bbc3e"
      },
      "execution_count": null,
      "outputs": [
        {
          "output_type": "stream",
          "name": "stdout",
          "text": [
            "Max error: 6300181.56 \n",
            "R2: 0.03 \n",
            "Error absoluto medio: 223482.95\n",
            "Error medio cuadratico: 120727726615.86\n"
          ]
        }
      ]
    },
    {
      "cell_type": "markdown",
      "source": [
        "Escogimos implementar este modelo, ya que este nos ayuda en los datos que están mal distribuidos, porque este nos arroja el resultado a través de una distribución de probabilidad, en comparación con los modelos regulares que el resultado se obtiene de un valor único"
      ],
      "metadata": {
        "id": "lydXRZRR2BrU"
      }
    },
    {
      "cell_type": "markdown",
      "source": [
        "Lasso"
      ],
      "metadata": {
        "id": "yy1h_cReWbZ8"
      }
    },
    {
      "cell_type": "code",
      "source": [
        "from sklearn import linear_model\n",
        "reg = linear_model.Lasso(alpha=0.1)\n",
        "reg.fit(X_train, y_train)\n",
        "\n",
        "y_pred = reg.predict(X_test)"
      ],
      "metadata": {
        "id": "KW-aaECnWfpN"
      },
      "execution_count": null,
      "outputs": []
    },
    {
      "cell_type": "code",
      "source": [
        "reg.score(X_train,y_train)"
      ],
      "metadata": {
        "colab": {
          "base_uri": "https://localhost:8080/"
        },
        "id": "7aoAnsS6Wpyk",
        "outputId": "fd3d7457-3c4a-4043-b6c1-17b0218e6675"
      },
      "execution_count": null,
      "outputs": [
        {
          "output_type": "execute_result",
          "data": {
            "text/plain": [
              "0.07720547628870567"
            ]
          },
          "metadata": {},
          "execution_count": 61
        }
      ]
    },
    {
      "cell_type": "code",
      "source": [
        "print('Max error: %.2f ' % max_error(y_test, y_pred))\n",
        "print('R2: %.2f ' % r2_score(y_test, y_pred))\n",
        "print('Error absoluto medio: %.2f' % mean_absolute_error(y_test, y_pred))\n",
        "print('Error medio cuadratico: %.2f' % mean_squared_error(y_test, y_pred))"
      ],
      "metadata": {
        "colab": {
          "base_uri": "https://localhost:8080/"
        },
        "id": "LJ6ilJgdpfnl",
        "outputId": "263c45a8-2a75-4e62-83e8-2be0055e5749"
      },
      "execution_count": null,
      "outputs": [
        {
          "output_type": "stream",
          "name": "stdout",
          "text": [
            "Max error: 6375740.50 \n",
            "R2: 0.09 \n",
            "Error absoluto medio: 213527.20\n",
            "Error medio cuadratico: 113321355487.39\n"
          ]
        }
      ]
    },
    {
      "cell_type": "markdown",
      "source": [
        "Escogimos este modelo, ya que este puede eliminar completamente la variable al reducir su valor de coeficiente a 0, este modelo agrega el término de penalización de regularización a la función perdida, lo cual provoca que como ya antes mencionado el coeficiente llegue a 0 lo que elimina efectivamente la variable independiente por completo"
      ],
      "metadata": {
        "id": "7FEWdeEt2Ede"
      }
    },
    {
      "cell_type": "markdown",
      "source": [
        "Arbol de decisiones"
      ],
      "metadata": {
        "id": "67gj8HX-WN93"
      }
    },
    {
      "cell_type": "code",
      "source": [
        "from sklearn import tree\n",
        "\n",
        "clf = tree.DecisionTreeRegressor()\n",
        "clf = clf.fit(X_train, y_train)\n",
        "y_pred = clf.predict(X_test)"
      ],
      "metadata": {
        "id": "dRNRIt1GWQwI"
      },
      "execution_count": null,
      "outputs": []
    },
    {
      "cell_type": "code",
      "source": [
        "clf.score(X_train,y_train)"
      ],
      "metadata": {
        "colab": {
          "base_uri": "https://localhost:8080/"
        },
        "id": "MSuS4W2-WzYV",
        "outputId": "06166db9-44b4-4b7d-fdd1-e4374b705113"
      },
      "execution_count": null,
      "outputs": [
        {
          "output_type": "execute_result",
          "data": {
            "text/plain": [
              "0.9933730541642413"
            ]
          },
          "metadata": {},
          "execution_count": 64
        }
      ]
    },
    {
      "cell_type": "code",
      "source": [
        "print('Max error: %.2f ' % max_error(y_test, y_pred))\n",
        "print('R2: %.2f ' % r2_score(y_test, y_pred))\n",
        "print('Error absoluto medio: %.2f' % mean_absolute_error(y_test, y_pred))\n",
        "print('Error medio cuadratico: %.2f' % mean_squared_error(y_test, y_pred))"
      ],
      "metadata": {
        "colab": {
          "base_uri": "https://localhost:8080/"
        },
        "id": "cAw6HPrkqA8F",
        "outputId": "b050dd68-d53c-45b7-ad97-d377cb304916"
      },
      "execution_count": null,
      "outputs": [
        {
          "output_type": "stream",
          "name": "stdout",
          "text": [
            "Max error: 12585325.00 \n",
            "R2: -0.75 \n",
            "Error absoluto medio: 274939.64\n",
            "Error medio cuadratico: 217771216354.11\n"
          ]
        }
      ]
    },
    {
      "cell_type": "markdown",
      "source": [
        " Elegimos  modelo ya que este observa las características de un objeto y entrena un modelo en la estructura del árbol para poder predecir datos a futuro"
      ],
      "metadata": {
        "id": "AH1-tNfO2HCC"
      }
    },
    {
      "cell_type": "markdown",
      "source": [
        "#No supervisado"
      ],
      "metadata": {
        "id": "uVhOfdADTVq0"
      }
    },
    {
      "cell_type": "code",
      "source": [
        "print(dft_nei.groupby('Edad').size())"
      ],
      "metadata": {
        "colab": {
          "base_uri": "https://localhost:8080/"
        },
        "id": "vvtwem0IFmLY",
        "outputId": "b8b74606-3fb2-4bed-fb90-3695b86c4cc0"
      },
      "execution_count": null,
      "outputs": [
        {
          "output_type": "stream",
          "name": "stdout",
          "text": [
            "Edad\n",
            "9        1\n",
            "19       9\n",
            "20      58\n",
            "21     212\n",
            "22     638\n",
            "      ... \n",
            "93       2\n",
            "94       1\n",
            "95       1\n",
            "97       1\n",
            "104      1\n",
            "Length: 79, dtype: int64\n"
          ]
        }
      ]
    },
    {
      "cell_type": "code",
      "source": [
        "dft_nei.hist()\n",
        "plt.show()"
      ],
      "metadata": {
        "colab": {
          "base_uri": "https://localhost:8080/",
          "height": 554
        },
        "id": "dgbn-VOoFy0e",
        "outputId": "4deb9fd8-fc51-45f0-9ca9-0502ead6c2f1"
      },
      "execution_count": null,
      "outputs": [
        {
          "output_type": "display_data",
          "data": {
            "text/plain": [
              "<Figure size 1152x648 with 12 Axes>"
            ],
            "image/png": "[encoded data removed]"
          },
          "metadata": {}
        }
      ]
    },
    {
      "cell_type": "code",
      "source": [
        "sb.pairplot(dft_nei.dropna(), hue='Edad',size=4,vars=[\"Renta\",\"PagoNac_T01\"],kind='scatter')"
      ],
      "metadata": {
        "colab": {
          "base_uri": "https://localhost:8080/",
          "height": 637
        },
        "id": "uzLqfpcDGw8i",
        "outputId": "d39c9de6-3e7f-40e1-bfc4-33bf76b6c3f0"
      },
      "execution_count": null,
      "outputs": [
        {
          "output_type": "stream",
          "name": "stderr",
          "text": [
            "/usr/local/lib/python3.7/dist-packages/seaborn/axisgrid.py:2076: UserWarning: The `size` parameter has been renamed to `height`; please update your code.\n",
            "  warnings.warn(msg, UserWarning)\n"
          ]
        },
        {
          "output_type": "execute_result",
          "data": {
            "text/plain": [
              "<seaborn.axisgrid.PairGrid at 0x7f7a727cd510>"
            ]
          },
          "metadata": {},
          "execution_count": 107
        },
        {
          "output_type": "display_data",
          "data": {
            "text/plain": [
              "<Figure size 630.875x576 with 6 Axes>"
            ],
            "image/png": "[encoded data removed]"
          },
          "metadata": {}
        }
      ]
    },
    {
      "cell_type": "code",
      "source": [
        "X = np.array(dft_nei[[\"Renta\"]])\n",
        "y = np.array(dft_nei['Edad'])\n",
        "X.shape"
      ],
      "metadata": {
        "colab": {
          "base_uri": "https://localhost:8080/"
        },
        "id": "aNDpa3xmJKDF",
        "outputId": "e74de41f-ec44-4705-de75-c37295800b0d"
      },
      "execution_count": null,
      "outputs": [
        {
          "output_type": "execute_result",
          "data": {
            "text/plain": [
              "(51124, 1)"
            ]
          },
          "metadata": {},
          "execution_count": 108
        }
      ]
    },
    {
      "cell_type": "code",
      "source": [
        "fig, ax = plt.subplots(figsize = (20, 7))\n",
        "\n",
        "# dimensiones\n",
        "dft_nei.to_numpy()\n",
        "\n",
        "dft_nei['Renta']\n",
        "dft_nei['Edad']\n",
        "\n",
        "# Hacemos un scatter plot de cada uno de los datos de las 2 primeras dimensiones\n",
        "ax.scatter(dft_nei['Renta'], dft_nei['Edad'])\n",
        "\n",
        "# Por cada dato escribimos a qué instancia corresponde\n",
        "\n",
        "\n",
        "ax.set_xlabel('Primera dimensión')\n",
        "ax.set_ylabel('Segunda dimensión')"
      ],
      "metadata": {
        "colab": {
          "base_uri": "https://localhost:8080/",
          "height": 462
        },
        "id": "Y8qd5r9pPmZA",
        "outputId": "9f4dab8f-1963-4730-a70b-7384e96214ae"
      },
      "execution_count": null,
      "outputs": [
        {
          "output_type": "execute_result",
          "data": {
            "text/plain": [
              "Text(0, 0.5, 'Segunda dimensión')"
            ]
          },
          "metadata": {},
          "execution_count": 109
        },
        {
          "output_type": "display_data",
          "data": {
            "text/plain": [
              "<Figure size 1440x504 with 1 Axes>"
            ],
            "image/png": "[encoded data removed]"
          },
          "metadata": {}
        }
      ]
    },
    {
      "cell_type": "code",
      "source": [
        "# Creación del modelo KMeans con k = 40\n",
        "kmeans = KMeans(n_clusters=5)\n",
        "\n",
        "# Ajuste del modelo a los datos reducidos en componentes principales\n",
        "kmeans.fit(dft_nei)"
      ],
      "metadata": {
        "colab": {
          "base_uri": "https://localhost:8080/"
        },
        "id": "-VENWgYnJ7U4",
        "outputId": "aef70931-43b0-4304-86bf-81919fcb99a0"
      },
      "execution_count": null,
      "outputs": [
        {
          "output_type": "execute_result",
          "data": {
            "text/plain": [
              "KMeans(n_clusters=5)"
            ]
          },
          "metadata": {},
          "execution_count": 110
        }
      ]
    },
    {
      "cell_type": "code",
      "source": [
        "np.unique(kmeans.labels_[:100], return_counts=True)"
      ],
      "metadata": {
        "colab": {
          "base_uri": "https://localhost:8080/"
        },
        "id": "xMeTMQRChry4",
        "outputId": "bf55021c-7443-4661-ea24-4d541f674e5b"
      },
      "execution_count": null,
      "outputs": [
        {
          "output_type": "execute_result",
          "data": {
            "text/plain": [
              "(array([0, 1, 2, 3, 4], dtype=int32), array([37, 34,  2,  8, 19]))"
            ]
          },
          "metadata": {},
          "execution_count": 111
        }
      ]
    },
    {
      "cell_type": "code",
      "source": [
        "# Guardo las posiciones de los centroids\n",
        "centroids = kmeans.cluster_centers_\n",
        "\n",
        "# Muestro las dimensiones de las posiciones\n",
        "print(\"Shape de los centroids:\",centroids.shape)"
      ],
      "metadata": {
        "colab": {
          "base_uri": "https://localhost:8080/"
        },
        "id": "Ctd_B3F7iEYf",
        "outputId": "d661a87a-448c-4585-b7fc-395fa3083f05"
      },
      "execution_count": null,
      "outputs": [
        {
          "output_type": "stream",
          "name": "stdout",
          "text": [
            "Shape de los centroids: (5, 10)\n"
          ]
        }
      ]
    },
    {
      "cell_type": "code",
      "source": [
        "# Este bloque es similar al anterior pero agregando color a cada sample en el scatter plot según la etiqueta asignada\n",
        "\n",
        "fig, ax = plt.subplots(figsize = (20, 7))\n",
        "\n",
        "\n",
        "# Hacemos un scatter plot de cada uno de los datos\n",
        "ax.scatter(dft_nei[\"Edad\"], dft_nei[\"Renta\"], c=kmeans.labels_)\n",
        "ax.scatter(centroids[:, 0], centroids[:, 1], marker=\"X\", s=200, linewidths=1,\n",
        "            c=np.unique(kmeans.labels_), edgecolors='black')\n",
        "ax.legend()\n",
        "ax.set_xlabel('Edad')\n",
        "ax.set_ylabel('Renta')"
      ],
      "metadata": {
        "colab": {
          "base_uri": "https://localhost:8080/",
          "height": 491
        },
        "id": "mTO3ZuemKH7P",
        "outputId": "5939d757-9f6a-4bc9-a144-2c8e506b09b6"
      },
      "execution_count": null,
      "outputs": [
        {
          "output_type": "stream",
          "name": "stderr",
          "text": [
            "WARNING:matplotlib.legend:No handles with labels found to put in legend.\n"
          ]
        },
        {
          "output_type": "execute_result",
          "data": {
            "text/plain": [
              "Text(0, 0.5, 'Renta')"
            ]
          },
          "metadata": {},
          "execution_count": 116
        },
        {
          "output_type": "display_data",
          "data": {
            "text/plain": [
              "<Figure size 1440x504 with 1 Axes>"
            ],
            "image/png": "[encoded data removed]"
          },
          "metadata": {}
        }
      ]
    },
    {
      "cell_type": "markdown",
      "source": [
        "Según el gráfico de dispersión, el modelo no supervisado dividió a los clientes de forma que cada sector es un nivel socioeconómico diferente dentro del banco.\n",
        "\n",
        "Se puede observar que dependiendo de la renta, los clientes son acomodados en los niveles socioeconómicos, también se puede observar que la disposición se centra entre los 40 y 60 años.\n",
        "\n",
        "Según los datos que entrega el gráfico, se puede saber que mientras más avanzada es la edad desde los 60 años la renta va disminuyendo constantemente, ya que se encuentra la tercera edad."
      ],
      "metadata": {
        "id": "V1sSVf8WyWYv"
      }
    },
    {
      "cell_type": "markdown",
      "source": [
        "Clustering"
      ],
      "metadata": {
        "id": "QnMupMiiRSRK"
      }
    },
    {
      "cell_type": "code",
      "source": [
        "data_selected = dft_nei.iloc[1: 1000, 0:2].values\n",
        "pd.DataFrame(data_selected)"
      ],
      "metadata": {
        "colab": {
          "base_uri": "https://localhost:8080/",
          "height": 424
        },
        "id": "CKidEXvkRUMj",
        "outputId": "72de52ac-dc21-480a-d9d5-391c883d32fb"
      },
      "execution_count": null,
      "outputs": [
        {
          "output_type": "execute_result",
          "data": {
            "text/plain": [
              "      0       1\n",
              "0    46  143640\n",
              "1    45  929106\n",
              "2    46  172447\n",
              "3    46  805250\n",
              "4    47  707664\n",
              "..   ..     ...\n",
              "994  38  491317\n",
              "995  31  490239\n",
              "996  47  440890\n",
              "997  51  504173\n",
              "998  46  515161\n",
              "\n",
              "[999 rows x 2 columns]"
            ],
            "text/html": [
              "\n",
              "  <div id=\"df-c9a5c4bb-2b6d-421c-8066-c4f126061eb8\">\n",
              "    <div class=\"colab-df-container\">\n",
              "      <div>\n",
              "<style scoped>\n",
              "    .dataframe tbody tr th:only-of-type {\n",
              "        vertical-align: middle;\n",
              "    }\n",
              "\n",
              "    .dataframe tbody tr th {\n",
              "        vertical-align: top;\n",
              "    }\n",
              "\n",
              "    .dataframe thead th {\n",
              "        text-align: right;\n",
              "    }\n",
              "</style>\n",
              "<table border=\"1\" class=\"dataframe\">\n",
              "  <thead>\n",
              "    <tr style=\"text-align: right;\">\n",
              "      <th></th>\n",
              "      <th>0</th>\n",
              "      <th>1</th>\n",
              "    </tr>\n",
              "  </thead>\n",
              "  <tbody>\n",
              "    <tr>\n",
              "      <th>0</th>\n",
              "      <td>46</td>\n",
              "      <td>143640</td>\n",
              "    </tr>\n",
              "    <tr>\n",
              "      <th>1</th>\n",
              "      <td>45</td>\n",
              "      <td>929106</td>\n",
              "    </tr>\n",
              "    <tr>\n",
              "      <th>2</th>\n",
              "      <td>46</td>\n",
              "      <td>172447</td>\n",
              "    </tr>\n",
              "    <tr>\n",
              "      <th>3</th>\n",
              "      <td>46</td>\n",
              "      <td>805250</td>\n",
              "    </tr>\n",
              "    <tr>\n",
              "      <th>4</th>\n",
              "      <td>47</td>\n",
              "      <td>707664</td>\n",
              "    </tr>\n",
              "    <tr>\n",
              "      <th>...</th>\n",
              "      <td>...</td>\n",
              "      <td>...</td>\n",
              "    </tr>\n",
              "    <tr>\n",
              "      <th>994</th>\n",
              "      <td>38</td>\n",
              "      <td>491317</td>\n",
              "    </tr>\n",
              "    <tr>\n",
              "      <th>995</th>\n",
              "      <td>31</td>\n",
              "      <td>490239</td>\n",
              "    </tr>\n",
              "    <tr>\n",
              "      <th>996</th>\n",
              "      <td>47</td>\n",
              "      <td>440890</td>\n",
              "    </tr>\n",
              "    <tr>\n",
              "      <th>997</th>\n",
              "      <td>51</td>\n",
              "      <td>504173</td>\n",
              "    </tr>\n",
              "    <tr>\n",
              "      <th>998</th>\n",
              "      <td>46</td>\n",
              "      <td>515161</td>\n",
              "    </tr>\n",
              "  </tbody>\n",
              "</table>\n",
              "<p>999 rows × 2 columns</p>\n",
              "</div>\n",
              "      <button class=\"colab-df-convert\" onclick=\"convertToInteractive('df-c9a5c4bb-2b6d-421c-8066-c4f126061eb8')\"\n",
              "              title=\"Convert this dataframe to an interactive table.\"\n",
              "              style=\"display:none;\">\n",
              "        \n",
              "  <svg xmlns=\"http://www.w3.org/2000/svg\" height=\"24px\"viewBox=\"0 0 24 24\"\n",
              "       width=\"24px\">\n",
              "    <path d=\"M0 0h24v24H0V0z\" fill=\"none\"/>\n",
              "    <path d=\"M18.56 5.44l.94 2.06.94-2.06 2.06-.94-2.06-.94-.94-2.06-.94 2.06-2.06.94zm-11 1L8.5 8.5l.94-2.06 2.06-.94-2.06-.94L8.5 2.5l-.94 2.06-2.06.94zm10 10l.94 2.06.94-2.06 2.06-.94-2.06-.94-.94-2.06-.94 2.06-2.06.94z\"/><path d=\"M17.41 7.96l-1.37-1.37c-.4-.4-.92-.59-1.43-.59-.52 0-1.04.2-1.43.59L10.3 9.45l-7.72 7.72c-.78.78-.78 2.05 0 2.83L4 21.41c.39.39.9.59 1.41.59.51 0 1.02-.2 1.41-.59l7.78-7.78 2.81-2.81c.8-.78.8-2.07 0-2.86zM5.41 20L4 18.59l7.72-7.72 1.47 1.35L5.41 20z\"/>\n",
              "  </svg>\n",
              "      </button>\n",
              "      \n",
              "  <style>\n",
              "    .colab-df-container {\n",
              "      display:flex;\n",
              "      flex-wrap:wrap;\n",
              "      gap: 12px;\n",
              "    }\n",
              "\n",
              "    .colab-df-convert {\n",
              "      background-color: #E8F0FE;\n",
              "      border: none;\n",
              "      border-radius: 50%;\n",
              "      cursor: pointer;\n",
              "      display: none;\n",
              "      fill: #1967D2;\n",
              "      height: 32px;\n",
              "      padding: 0 0 0 0;\n",
              "      width: 32px;\n",
              "    }\n",
              "\n",
              "    .colab-df-convert:hover {\n",
              "      background-color: #E2EBFA;\n",
              "      box-shadow: 0px 1px 2px rgba(60, 64, 67, 0.3), 0px 1px 3px 1px rgba(60, 64, 67, 0.15);\n",
              "      fill: #174EA6;\n",
              "    }\n",
              "\n",
              "    [theme=dark] .colab-df-convert {\n",
              "      background-color: #3B4455;\n",
              "      fill: #D2E3FC;\n",
              "    }\n",
              "\n",
              "    [theme=dark] .colab-df-convert:hover {\n",
              "      background-color: #434B5C;\n",
              "      box-shadow: 0px 1px 3px 1px rgba(0, 0, 0, 0.15);\n",
              "      filter: drop-shadow(0px 1px 2px rgba(0, 0, 0, 0.3));\n",
              "      fill: #FFFFFF;\n",
              "    }\n",
              "  </style>\n",
              "\n",
              "      <script>\n",
              "        const buttonEl =\n",
              "          document.querySelector('#df-c9a5c4bb-2b6d-421c-8066-c4f126061eb8 button.colab-df-convert');\n",
              "        buttonEl.style.display =\n",
              "          google.colab.kernel.accessAllowed ? 'block' : 'none';\n",
              "\n",
              "        async function convertToInteractive(key) {\n",
              "          const element = document.querySelector('#df-c9a5c4bb-2b6d-421c-8066-c4f126061eb8');\n",
              "          const dataTable =\n",
              "            await google.colab.kernel.invokeFunction('convertToInteractive',\n",
              "                                                     [key], {});\n",
              "          if (!dataTable) return;\n",
              "\n",
              "          const docLinkHtml = 'Like what you see? Visit the ' +\n",
              "            '<a target=\"_blank\" href=https://colab.research.google.com/notebooks/data_table.ipynb>data table notebook</a>'\n",
              "            + ' to learn more about interactive tables.';\n",
              "          element.innerHTML = '';\n",
              "          dataTable['output_type'] = 'display_data';\n",
              "          await google.colab.output.renderOutput(dataTable, element);\n",
              "          const docLink = document.createElement('div');\n",
              "          docLink.innerHTML = docLinkHtml;\n",
              "          element.appendChild(docLink);\n",
              "        }\n",
              "      </script>\n",
              "    </div>\n",
              "  </div>\n",
              "  "
            ]
          },
          "metadata": {},
          "execution_count": 41
        }
      ]
    },
    {
      "cell_type": "code",
      "source": [
        "# graficos los datos para ver si vemos algun patrón\n",
        "plt.figure(figsize=(10, 7))\n",
        "plt.scatter(data_selected[:,0], data_selected[:,1])\n",
        "plt.xlabel(\"Renta\")\n",
        "plt.ylabel(\"Edad\")\n",
        "plt.show()"
      ],
      "metadata": {
        "colab": {
          "base_uri": "https://localhost:8080/",
          "height": 456
        },
        "id": "aiWukEf0Rhio",
        "outputId": "dbce262f-bf75-44c3-e80b-bbde3ae32976"
      },
      "execution_count": null,
      "outputs": [
        {
          "output_type": "display_data",
          "data": {
            "text/plain": [
              "<Figure size 720x504 with 1 Axes>"
            ],
            "image/png": "[encoded data removed]"
          },
          "metadata": {}
        }
      ]
    },
    {
      "cell_type": "code",
      "source": [
        "# Plot del dendograma del dataset de clientes\n",
        "plt.figure(figsize=(13, 10))\n",
        "plt.title(\"Dendograma de clientes\")\n",
        "plt.ylabel(\"Distancia ward\")\n",
        "\n",
        "# Con la función 'dendogram' graficamos el dendograma.\n",
        "# El input de esta función es la función 'linkage' donde se especifica la distancia para utlizar en cada paso del método\n",
        "dend = shc.dendrogram(shc.linkage(data_selected, method='ward'))"
      ],
      "metadata": {
        "colab": {
          "base_uri": "https://localhost:8080/",
          "height": 608
        },
        "id": "YkZA3J6TRqwr",
        "outputId": "d1657234-5b9e-4445-c8a3-bc8b38754b2f"
      },
      "execution_count": null,
      "outputs": [
        {
          "output_type": "display_data",
          "data": {
            "text/plain": [
              "<Figure size 936x720 with 1 Axes>"
            ],
            "image/png": "[encoded data removed]"
          },
          "metadata": {}
        }
      ]
    },
    {
      "cell_type": "code",
      "source": [
        "# Mismo código anterior\n",
        "plt.figure(figsize=(10, 7))\n",
        "plt.title(\"Dendograma de clientes\")\n",
        "plt.ylabel(\"Distancia ward\")\n",
        "\n",
        "dend = shc.dendrogram(shc.linkage(data_selected, method='ward'))\n",
        "\n",
        "# la única línea de código nueva. Marca una línea roja horizontal\n",
        "plt.axhline(4000000, c='r')"
      ],
      "metadata": {
        "colab": {
          "base_uri": "https://localhost:8080/",
          "height": 462
        },
        "id": "VR83r4ikbqfl",
        "outputId": "17750fe4-a2c5-49a0-b77a-3265f65ad429"
      },
      "execution_count": null,
      "outputs": [
        {
          "output_type": "execute_result",
          "data": {
            "text/plain": [
              "<matplotlib.lines.Line2D at 0x7f7d824bc410>"
            ]
          },
          "metadata": {},
          "execution_count": 48
        },
        {
          "output_type": "display_data",
          "data": {
            "text/plain": [
              "<Figure size 720x504 with 1 Axes>"
            ],
            "image/png": "[encoded data removed]"
          },
          "metadata": {}
        }
      ]
    },
    {
      "cell_type": "code",
      "source": [
        "# Importo el método de clustering jerárquico (bottom-up)\n",
        "from sklearn.cluster import AgglomerativeClustering"
      ],
      "metadata": {
        "id": "FbbspNF5bygg"
      },
      "execution_count": null,
      "outputs": []
    },
    {
      "cell_type": "code",
      "source": [
        "# Creamos el modelo\n",
        "cluster = AgglomerativeClustering(n_clusters=5, affinity='euclidean', linkage='ward')\n",
        "\n",
        "# Lo ajustamos con los datos\n",
        "cluster.fit_predict(data_selected)  # fit_predict hace lo mismo que fit pero devuelve el vector de etiquetas de las samples"
      ],
      "metadata": {
        "colab": {
          "base_uri": "https://localhost:8080/"
        },
        "id": "L4JayEqlbz6G",
        "outputId": "034eda3b-3fd4-4769-d3ec-1f2f88860935"
      },
      "execution_count": null,
      "outputs": [
        {
          "output_type": "execute_result",
          "data": {
            "text/plain": [
              "array([1, 0, 1, 4, 4, 0, 4, 0, 0, 0, 4, 0, 0, 4, 0, 4, 4, 1, 1, 4, 1, 0,\n",
              "       1, 4, 4, 4, 0, 0, 1, 1, 4, 4, 4, 3, 4, 1, 4, 4, 3, 4, 0, 4, 4, 1,\n",
              "       1, 0, 0, 4, 0, 4, 4, 0, 1, 1, 4, 4, 1, 4, 1, 1, 1, 1, 0, 4, 0, 1,\n",
              "       4, 1, 1, 0, 1, 1, 0, 1, 4, 1, 1, 1, 1, 1, 4, 0, 1, 1, 4, 1, 1, 4,\n",
              "       1, 0, 0, 0, 1, 4, 4, 4, 4, 4, 4, 1, 0, 1, 4, 4, 0, 4, 4, 1, 1, 1,\n",
              "       1, 1, 0, 2, 4, 0, 0, 4, 0, 4, 1, 4, 1, 4, 4, 0, 0, 0, 4, 0, 0, 1,\n",
              "       1, 1, 4, 4, 4, 4, 1, 1, 4, 1, 4, 4, 1, 4, 4, 1, 1, 1, 1, 1, 4, 0,\n",
              "       0, 1, 4, 0, 1, 1, 4, 1, 4, 4, 1, 0, 4, 4, 0, 1, 4, 1, 1, 4, 0, 1,\n",
              "       4, 4, 0, 4, 4, 1, 1, 4, 1, 4, 1, 4, 1, 1, 1, 4, 4, 1, 4, 1, 3, 0,\n",
              "       1, 4, 1, 0, 4, 4, 1, 0, 1, 1, 1, 0, 0, 0, 1, 1, 1, 4, 4, 1, 0, 4,\n",
              "       1, 1, 0, 1, 4, 0, 1, 1, 0, 4, 4, 1, 1, 3, 0, 1, 1, 0, 3, 1, 1, 1,\n",
              "       0, 0, 4, 1, 0, 4, 1, 0, 0, 1, 0, 4, 4, 1, 1, 0, 4, 0, 4, 0, 0, 1,\n",
              "       0, 1, 1, 4, 1, 1, 1, 0, 4, 4, 4, 1, 4, 1, 1, 4, 4, 0, 0, 1, 4, 0,\n",
              "       1, 0, 1, 0, 1, 3, 1, 1, 0, 4, 4, 4, 1, 4, 1, 1, 1, 1, 4, 4, 1, 4,\n",
              "       4, 4, 4, 4, 1, 1, 1, 1, 1, 1, 1, 3, 4, 1, 4, 0, 4, 1, 0, 4, 4, 4,\n",
              "       4, 4, 1, 4, 4, 4, 1, 1, 0, 0, 0, 4, 4, 0, 4, 4, 1, 1, 1, 0, 1, 0,\n",
              "       4, 1, 0, 1, 4, 1, 4, 0, 0, 3, 1, 1, 4, 1, 4, 4, 1, 4, 4, 4, 3, 4,\n",
              "       1, 1, 1, 4, 0, 1, 4, 1, 1, 0, 1, 4, 1, 1, 1, 0, 4, 1, 0, 1, 4, 1,\n",
              "       0, 4, 4, 1, 4, 4, 4, 4, 4, 0, 4, 1, 4, 4, 1, 4, 0, 4, 1, 4, 0, 1,\n",
              "       1, 1, 0, 4, 0, 4, 4, 1, 1, 4, 1, 4, 4, 1, 0, 4, 4, 4, 0, 4, 1, 1,\n",
              "       1, 1, 4, 1, 0, 4, 4, 4, 4, 1, 1, 4, 4, 1, 0, 4, 4, 1, 1, 1, 3, 4,\n",
              "       3, 4, 1, 1, 4, 1, 1, 4, 0, 1, 0, 0, 4, 4, 0, 0, 1, 1, 0, 4, 1, 1,\n",
              "       1, 0, 1, 0, 2, 1, 1, 4, 1, 1, 4, 4, 4, 1, 1, 0, 1, 1, 4, 4, 1, 4,\n",
              "       4, 1, 4, 4, 1, 4, 1, 2, 0, 3, 0, 1, 4, 4, 4, 1, 4, 0, 1, 1, 0, 4,\n",
              "       4, 1, 3, 4, 1, 1, 1, 4, 4, 0, 0, 4, 4, 1, 4, 0, 4, 1, 4, 1, 4, 4,\n",
              "       1, 4, 0, 4, 1, 4, 4, 1, 0, 4, 1, 4, 4, 0, 1, 1, 0, 0, 4, 1, 0, 4,\n",
              "       1, 0, 0, 4, 1, 4, 4, 4, 4, 1, 1, 4, 1, 1, 4, 0, 4, 1, 0, 4, 1, 1,\n",
              "       1, 1, 1, 4, 4, 4, 4, 0, 4, 4, 4, 4, 1, 1, 1, 1, 1, 4, 1, 4, 4, 4,\n",
              "       1, 1, 0, 0, 1, 4, 1, 0, 4, 4, 1, 1, 4, 4, 1, 0, 0, 0, 1, 4, 4, 4,\n",
              "       4, 1, 0, 1, 1, 0, 0, 1, 4, 4, 0, 0, 4, 1, 0, 1, 4, 1, 0, 0, 0, 0,\n",
              "       1, 2, 1, 4, 4, 0, 0, 1, 4, 4, 0, 1, 4, 1, 1, 4, 4, 0, 1, 1, 1, 4,\n",
              "       1, 0, 0, 0, 0, 1, 3, 4, 4, 1, 1, 4, 4, 0, 1, 0, 4, 1, 1, 4, 1, 4,\n",
              "       4, 1, 1, 4, 0, 1, 1, 4, 1, 4, 4, 1, 4, 1, 1, 1, 1, 1, 1, 0, 3, 0,\n",
              "       1, 1, 1, 4, 0, 1, 1, 4, 1, 4, 1, 1, 4, 1, 1, 0, 1, 4, 1, 1, 4, 1,\n",
              "       1, 1, 4, 4, 4, 3, 1, 1, 0, 4, 4, 1, 4, 1, 4, 1, 0, 4, 4, 1, 4, 0,\n",
              "       4, 1, 1, 1, 1, 4, 1, 0, 4, 4, 4, 1, 4, 1, 0, 1, 1, 4, 0, 3, 0, 1,\n",
              "       1, 1, 4, 4, 1, 4, 1, 0, 0, 0, 4, 0, 0, 0, 1, 1, 1, 1, 4, 4, 0, 4,\n",
              "       4, 1, 3, 0, 4, 1, 0, 4, 4, 1, 1, 1, 4, 1, 1, 0, 0, 1, 4, 1, 4, 1,\n",
              "       1, 1, 0, 0, 4, 1, 1, 1, 0, 1, 4, 1, 4, 0, 4, 4, 1, 4, 0, 4, 1, 4,\n",
              "       4, 1, 0, 4, 0, 4, 0, 1, 1, 1, 4, 4, 4, 4, 4, 0, 1, 4, 1, 1, 0, 4,\n",
              "       1, 1, 0, 0, 1, 1, 0, 4, 0, 0, 1, 1, 4, 1, 0, 0, 3, 0, 4, 1, 4, 1,\n",
              "       0, 1, 4, 0, 0, 1, 0, 4, 4, 1, 4, 1, 4, 1, 1, 0, 3, 1, 0, 1, 4, 1,\n",
              "       1, 4, 1, 1, 4, 4, 1, 1, 0, 4, 1, 4, 0, 4, 1, 1, 4, 1, 0, 4, 1, 1,\n",
              "       1, 4, 4, 0, 1, 1, 1, 0, 1, 0, 4, 1, 4, 0, 4, 4, 0, 1, 4, 0, 0, 3,\n",
              "       0, 0, 1, 4, 1, 1, 4, 4, 1, 1, 1, 0, 0, 4, 4, 0, 4, 4, 4, 4, 1, 4,\n",
              "       0, 4, 1, 0, 1, 1, 1, 1, 1])"
            ]
          },
          "metadata": {},
          "execution_count": 50
        }
      ]
    },
    {
      "cell_type": "code",
      "source": [
        "# Ploteamos los datos en el espacio de (Ingresos,Gastos) con un color por cada uno de los 5 clusters\n",
        "plt.figure(figsize=(10, 7))\n",
        "plt.title(\"Banco\")\n",
        "plt.scatter(data_selected[:,0], data_selected[:,1], c=cluster.labels_, cmap='rainbow')\n",
        "plt.xlabel(\"Edad\")\n",
        "plt.ylabel(\"Renta mensual\")"
      ],
      "metadata": {
        "colab": {
          "base_uri": "https://localhost:8080/",
          "height": 479
        },
        "id": "XFkL6W-DcgWG",
        "outputId": "425e6a99-c554-43e4-c56d-2966b3aaef04"
      },
      "execution_count": null,
      "outputs": [
        {
          "output_type": "execute_result",
          "data": {
            "text/plain": [
              "Text(0, 0.5, 'Renta mensual')"
            ]
          },
          "metadata": {},
          "execution_count": 51
        },
        {
          "output_type": "display_data",
          "data": {
            "text/plain": [
              "<Figure size 720x504 with 1 Axes>"
            ],
            "image/png": "[encoded data removed]"
          },
          "metadata": {}
        }
      ]
    },
    {
      "cell_type": "markdown",
      "source": [
        "Puede observar que se generaron diferentes sectores económicos según la renta mensual que recibe cada persona inscrita en el banco.\n",
        "\n",
        "\n",
        "\n",
        "Los celestes serian el grupo con menor renta registrado en el banco, siendo este lo que más se repite.\n",
        "\n",
        "\n",
        "\n",
        "Los rojos sería el grupo con una renta superior a la mínima registrada por el banco y su distribución es pareja a los celestes.\n",
        "\n",
        "\n",
        "\n",
        "Los morados sería el grupo intermedio de clientes registrados en el banco, su distribución varía y se puede observar que está concentrada entre los 40 y 50 años.\n",
        "\n",
        "\n",
        "\n",
        "Los amarillos y los verdes serían los clientes con una renta bastante elevada y su distribución se centra principalmente entre los 40 y 60 años, aparte su número es bastante menor comparada con los demás."
      ],
      "metadata": {
        "id": "Mz_KsyNezB_M"
      }
    },
    {
      "cell_type": "markdown",
      "source": [
        "# Conclusión\n",
        "\n",
        "Gracias a los datos entregados pudimos aprender como se almacena la información en el banco Monopoly, que preguntas se hacen a la hora de buscar nuevos clientes, ofrecer nuevos productos y a quienes van dirigidos.\n",
        "\n",
        "\n",
        "\n",
        "Para poder resolver el problema que nos propusimos elegimos los datos anteriormente mencionados, pero al hacer la matriz de correlación descubrimos que los datos no tenían suficiente relación para lograr los objetivos, así que intentamos seleccionar la mayoría de modelos que varían internamente la importancia de las variables, así logrando un resultado óptimo."
      ],
      "metadata": {
        "id": "aiYxASa8SPZI"
      }
    },
    {
      "cell_type": "markdown",
      "source": [
        "#Integrantes\n",
        "\n",
        "1.-Alejandro Patricio Rivera Quezada\n",
        "\n",
        "2.-Claudio Alfredo Flores Puentes\n",
        "\n",
        "3.-Ignacio Andres Geldres Rivera\n",
        "\n",
        "\n",
        "\n",
        "\n",
        "\n",
        "\n"
      ],
      "metadata": {
        "id": "fhHzBbeVlne7"
      }
    }
  ],
  "metadata": {
    "colab": {
      "provenance": []
    },
    "kernelspec": {
      "display_name": "Python 3",
      "name": "python3"
    },
    "language_info": {
      "name": "python"
    }
  },
  "nbformat": 4,
  "nbformat_minor": 0
}